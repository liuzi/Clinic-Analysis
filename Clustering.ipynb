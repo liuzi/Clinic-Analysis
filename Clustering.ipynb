{
 "cells": [
  {
   "cell_type": "markdown",
   "metadata": {},
   "source": [
    "##  Class of data preprocessing"
   ]
  },
  {
   "cell_type": "code",
   "execution_count": 25,
   "metadata": {},
   "outputs": [],
   "source": [
    "import pandas as pd\n",
    "import numpy as np\n",
    "\n",
    "class Data_Preprocessing():\n",
    "    \n",
    "    def __init__(self, prefix = '../../data/'):\n",
    "        self.prefix = prefix\n",
    "        self.diagnoses = None\n",
    "        self.measures = None\n",
    "    \n",
    "    # Descriptions of different kinds of diseases based on ICD_CODE\n",
    "    def get_icd9codes(self,filename='D_ICD_DIAGNOSES.csv'):\n",
    "        icd9_code_df = pd.read_csv(self.prefix+filename, sep=',', encoding='latin1')\n",
    "        return icd9_code_df\n",
    "\n",
    "    # Information about what diseases patients are diagnosed\n",
    "    def read_diagnoses(self,filename='DIAGNOSES_ICD.csv',\n",
    "                       link_filename = 'D_ICD_DIAGNOSES.csv',link_field='ICD9_CODE',\n",
    "                      columns = ['SUBJECT_ID','ICD9_CODE','SHORT_TITLE','LONG_TITLE']):\n",
    "        diagnose_df = pd.read_csv(self.prefix+filename, sep=',', encoding='latin1')\n",
    "        diagnose_df = pd.merge(diagnose_df, self.get_icd9codes(link_filename), how='left', on=[link_field])\n",
    "        self.diagnoses = diagnose_df[columns]\n",
    "        \n",
    "    # Pick data of specific diseases from diagnoses data\n",
    "    # 4280 Congestive heart failure\n",
    "    def get_labels(self, label_filed = 'ICD9_CODE', labels = ['4280'], user_field = 'SUBJECT_ID'):\n",
    "        if self.diagnoses is None:\n",
    "            print('Please use read_diagnoses function to get diagnose data first')\n",
    "            return False\n",
    "        else:\n",
    "            ## TODO: What if it is required to process multiple diseases?\n",
    "            filtered_diseass = self.diagnoses[self.diagnoses[label_filed].isin(labels)].drop_duplicates()\n",
    "            filtered_diseass['LABEL'] = 1\n",
    "            return filtered_diseass[[user_field,'LABEL']]\n",
    "        \n",
    "    \n",
    "    # Descriptions of different kinds of clinical measurements\n",
    "    def get_measure_items(self,filename='D_LABITEMS.csv'):\n",
    "        measure_items_df = pd.read_csv(self.prefix+filename, sep=',', encoding='latin1')\n",
    "        return measure_items_df\n",
    "    \n",
    "    # Information about what measurements patients have and values of those measurements -> attributes\n",
    "    def read_measurements(self,filename = 'LABEVENTS.csv',columns = ['SUBJECT_ID','VALUE','VALUENUM','LABEL']):\n",
    "        measurements_df = pd.read_csv(self.prefix+filename, sep=',', encoding='latin1')\n",
    "        measurements_df = pd.merge(measurements_df, self.get_measure_items(), how='left', on=['ITEMID'])[columns]\n",
    "        self.measures = measurements_df\n",
    "    \n",
    "    # min_null: fields with none values more than 80% are categorical fields, otherwise continous fields.\n",
    "    def get_user_vectors(self, fields= ['VALUE','LABEL','VALUENUM','SUBJECT_ID'], min_nulls = 0.8, max_labels=4):\n",
    "        value = fields[0]\n",
    "        label = fields[1]\n",
    "        valuenum = fields[2]\n",
    "        userid = fields[3]\n",
    "        labels_nulls = self.measures.dropna(subset=[value]).groupby(label)[valuenum].apply(lambda x: x.isnull().sum())\n",
    "        \n",
    "        # initiate all user vectors\n",
    "        len_all_measures = len(self.measures)\n",
    "        stc_ls = ['min','mean','max','std']\n",
    "        stc_ls_len = len(stc_ls)\n",
    "        user_vectors = {}\n",
    "        all_users = set(self.measures[userid].unique())\n",
    "        for user in all_users:\n",
    "            user_vectors[user] = np.empty([0])\n",
    "            \n",
    "        # Groupby label\n",
    "        measure_label = self.measures.groupby(label)\n",
    "        i = 1\n",
    "        for label, label_df in measure_label:\n",
    "            if i>max_labels: break\n",
    "            # continuous\n",
    "            if ((labels_nulls[label]/len_all_measures)<min_nulls):\n",
    "                # pick one iteration of continuous label\n",
    "                label_df = label_df.dropna(subset=[valuenum])\n",
    "#                 print(label_df[:10])\n",
    "                missed_users = all_users -set(label_df[userid].unique())\n",
    "                label_df_agg = label_df.groupby(userid)[valuenum].agg(stc_ls)\n",
    "\n",
    "                for user, row in label_df_agg.iterrows():\n",
    "                    if pd.isnull(row['std']): row['std']=0\n",
    "                    user_vectors[user]=np.append(user_vectors[user],[row[x] for x in stc_ls])\n",
    "                for user in missed_users:\n",
    "                    user_vectors[user]=np.append(user_vectors[user],np.full(stc_ls_len, np.nan))\n",
    "            \n",
    "            else:\n",
    "                # pick one iteration of discrete label\n",
    "                label_df = label_df.dropna(subset=[value])\n",
    "                missed_users = all_users - set(label_df[user].unique())\n",
    "                label_df_agg = label_df.groupby([userid,value])[label].agg(['count'])\n",
    "                label_df_agg_per = label_df_agg.groupby(level=0).apply(lambda x: 100* x/float(x.sum()))\n",
    "\n",
    "                label_df_agg_per.reset_index\n",
    "                label_matrix = pd.pivot_table(label_df_agg_per,\n",
    "                                              values = ['count'],index=[userid],columns=[value]).fillna(0)\n",
    "\n",
    "                for user in label_matrix.index.get_level_values(userid):\n",
    "                    user_vectors[user] = np.append(user_vectors[user],label_matrix.ix[user].values)\n",
    "                for user in missed_users:\n",
    "                    user_vectors[user]=np.append(user_vectors[user],np.full(label_matrix.shape[1], np.nan))\n",
    "            i+=1\n",
    "                    \n",
    "        return user_vectors\n",
    "                "
   ]
  },
  {
   "cell_type": "markdown",
   "metadata": {},
   "source": [
    "## read diagnose information"
   ]
  },
  {
   "cell_type": "code",
   "execution_count": 26,
   "metadata": {},
   "outputs": [],
   "source": [
    "data_preprocessing = Data_Preprocessing()\n",
    "# data_preprocessing.read_diagnoses()\n",
    "# data_preprocessing.diagnoses.head()"
   ]
  },
  {
   "cell_type": "code",
   "execution_count": 54,
   "metadata": {},
   "outputs": [
    {
     "name": "stdout",
     "output_type": "stream",
     "text": [
      "Please use read_diagnoses function to get diagnose data first\n"
     ]
    },
    {
     "ename": "AttributeError",
     "evalue": "'bool' object has no attribute 'head'",
     "output_type": "error",
     "traceback": [
      "\u001b[0;31m---------------------------------------------------------------------------\u001b[0m",
      "\u001b[0;31mAttributeError\u001b[0m                            Traceback (most recent call last)",
      "\u001b[0;32m<ipython-input-54-5e6b4e376f36>\u001b[0m in \u001b[0;36m<module>\u001b[0;34m()\u001b[0m\n\u001b[0;32m----> 1\u001b[0;31m \u001b[0mdata_preprocessing\u001b[0m\u001b[0;34m.\u001b[0m\u001b[0mget_labels\u001b[0m\u001b[0;34m(\u001b[0m\u001b[0;34m)\u001b[0m\u001b[0;34m.\u001b[0m\u001b[0mhead\u001b[0m\u001b[0;34m(\u001b[0m\u001b[0;34m)\u001b[0m\u001b[0;34m\u001b[0m\u001b[0m\n\u001b[0m",
      "\u001b[0;31mAttributeError\u001b[0m: 'bool' object has no attribute 'head'"
     ]
    }
   ],
   "source": [
    "data_preprocessing.get_labels().head()"
   ]
  },
  {
   "cell_type": "markdown",
   "metadata": {},
   "source": [
    "## Feature Data (Use Labevents rather than Charevents)"
   ]
  },
  {
   "cell_type": "code",
   "execution_count": 22,
   "metadata": {},
   "outputs": [
    {
     "name": "stdout",
     "output_type": "stream",
     "text": [
      "       SUBJECT_ID VALUE  VALUENUM             LABEL\n",
      "2494            4   7.4       7.4  % Hemoglobin A1c\n",
      "4409            9   5.6       5.6  % Hemoglobin A1c\n",
      "7931           17   5.2       5.2  % Hemoglobin A1c\n",
      "8533           18   6.3       6.3  % Hemoglobin A1c\n",
      "8866           18   6.9       6.9  % Hemoglobin A1c\n",
      "10311          23   5.5       5.5  % Hemoglobin A1c\n",
      "11623          28   6.6       6.6  % Hemoglobin A1c\n",
      "12422          30   6.6       6.6  % Hemoglobin A1c\n",
      "12551          36   5.1       5.1  % Hemoglobin A1c\n",
      "13528          35   7.6       7.6  % Hemoglobin A1c\n"
     ]
    }
   ],
   "source": [
    "data_preprocessing.read_measurements()\n",
    "user_vectors = data_preprocessing.get_user_vectors()\n",
    "# labevent_items_df = pd.read_csv('../../data/D_LABITEMS.csv', sep=',', encoding='latin1')\n",
    "# labevent_cols = ['SUBJECT_ID','VALUE','VALUENUM','LABEL']\n",
    "# labevent_detailed_df = pd.merge(labevent_df, labevent_items_df, how='left', on=['ITEMID'])[labevent_cols]\n",
    "# labevent_detailed_df.sort_values(by='SUBJECT_ID')[:10]"
   ]
  },
  {
   "cell_type": "code",
   "execution_count": 14,
   "metadata": {},
   "outputs": [
    {
     "data": {
      "text/plain": [
       "array([nan, nan, nan, nan, nan, nan, nan, nan, nan, nan, nan, nan, nan,\n",
       "       nan, nan, nan, nan, nan, nan, nan, nan, nan, nan, nan, nan, nan,\n",
       "       nan, nan, nan, nan, nan, nan, nan, nan, nan, nan, nan, nan, nan,\n",
       "       nan])"
      ]
     },
     "execution_count": 14,
     "metadata": {},
     "output_type": "execute_result"
    }
   ],
   "source": [
    "user_vectors[775]\n",
    "# Assign index to measurement item\n",
    "\n",
    "# label_array = labevent_detailed_df['LABEL'].unique() \n",
    "# label_map = {}\n",
    "\n",
    "# for i in range(0,len(label_array)):\n",
    "#     label_map[label_array[i]] = i\n"
   ]
  },
  {
   "cell_type": "code",
   "execution_count": 163,
   "metadata": {},
   "outputs": [
    {
     "data": {
      "text/plain": [
       "10111"
      ]
     },
     "execution_count": 163,
     "metadata": {},
     "output_type": "execute_result"
    }
   ],
   "source": [
    "len(test)\n",
    "len(test.dropna(axis=0,how='all'))"
   ]
  },
  {
   "cell_type": "code",
   "execution_count": 180,
   "metadata": {},
   "outputs": [],
   "source": [
    "# user_vectors[2]\n",
    "# test = pd.DataFrame(user_vectors).T.dropna(axis=0,how='all')\n",
    "# dctToNdarray\n",
    "pd.DataFrame({'SS':test.index})"
   ]
  },
  {
   "cell_type": "code",
   "execution_count": 165,
   "metadata": {},
   "outputs": [
    {
     "data": {
      "text/html": [
       "<div>\n",
       "<style scoped>\n",
       "    .dataframe tbody tr th:only-of-type {\n",
       "        vertical-align: middle;\n",
       "    }\n",
       "\n",
       "    .dataframe tbody tr th {\n",
       "        vertical-align: top;\n",
       "    }\n",
       "\n",
       "    .dataframe thead th {\n",
       "        text-align: right;\n",
       "    }\n",
       "</style>\n",
       "<table border=\"1\" class=\"dataframe\">\n",
       "  <thead>\n",
       "    <tr style=\"text-align: right;\">\n",
       "      <th></th>\n",
       "      <th>0</th>\n",
       "      <th>1</th>\n",
       "      <th>2</th>\n",
       "      <th>3</th>\n",
       "      <th>4</th>\n",
       "      <th>5</th>\n",
       "      <th>6</th>\n",
       "      <th>7</th>\n",
       "      <th>8</th>\n",
       "      <th>9</th>\n",
       "      <th>...</th>\n",
       "      <th>14</th>\n",
       "      <th>15</th>\n",
       "      <th>16</th>\n",
       "      <th>17</th>\n",
       "      <th>18</th>\n",
       "      <th>19</th>\n",
       "      <th>20</th>\n",
       "      <th>21</th>\n",
       "      <th>22</th>\n",
       "      <th>23</th>\n",
       "    </tr>\n",
       "  </thead>\n",
       "  <tbody>\n",
       "    <tr>\n",
       "      <th>4</th>\n",
       "      <td>7.4</td>\n",
       "      <td>7.4</td>\n",
       "      <td>7.4</td>\n",
       "      <td>0.000000</td>\n",
       "      <td>150.84058</td>\n",
       "      <td>159.663147</td>\n",
       "      <td>170.391304</td>\n",
       "      <td>11.857041</td>\n",
       "      <td>866.338912</td>\n",
       "      <td>914.671384</td>\n",
       "      <td>...</td>\n",
       "      <td>2516.90303</td>\n",
       "      <td>321.798923</td>\n",
       "      <td>21.333333</td>\n",
       "      <td>21.536232</td>\n",
       "      <td>21.73913</td>\n",
       "      <td>0.286942</td>\n",
       "      <td>53.26</td>\n",
       "      <td>53.371667</td>\n",
       "      <td>53.483333</td>\n",
       "      <td>0.157921</td>\n",
       "    </tr>\n",
       "    <tr>\n",
       "      <th>9</th>\n",
       "      <td>5.6</td>\n",
       "      <td>5.6</td>\n",
       "      <td>5.6</td>\n",
       "      <td>0.000000</td>\n",
       "      <td>150.84058</td>\n",
       "      <td>159.663147</td>\n",
       "      <td>170.391304</td>\n",
       "      <td>11.857041</td>\n",
       "      <td>866.338912</td>\n",
       "      <td>914.671384</td>\n",
       "      <td>...</td>\n",
       "      <td>2516.90303</td>\n",
       "      <td>321.798923</td>\n",
       "      <td>21.333333</td>\n",
       "      <td>21.536232</td>\n",
       "      <td>21.73913</td>\n",
       "      <td>0.286942</td>\n",
       "      <td>53.26</td>\n",
       "      <td>53.371667</td>\n",
       "      <td>53.483333</td>\n",
       "      <td>0.157921</td>\n",
       "    </tr>\n",
       "    <tr>\n",
       "      <th>17</th>\n",
       "      <td>5.2</td>\n",
       "      <td>5.2</td>\n",
       "      <td>5.2</td>\n",
       "      <td>0.000000</td>\n",
       "      <td>150.84058</td>\n",
       "      <td>159.663147</td>\n",
       "      <td>170.391304</td>\n",
       "      <td>11.857041</td>\n",
       "      <td>866.338912</td>\n",
       "      <td>914.671384</td>\n",
       "      <td>...</td>\n",
       "      <td>2516.90303</td>\n",
       "      <td>321.798923</td>\n",
       "      <td>21.333333</td>\n",
       "      <td>21.536232</td>\n",
       "      <td>21.73913</td>\n",
       "      <td>0.286942</td>\n",
       "      <td>53.26</td>\n",
       "      <td>53.371667</td>\n",
       "      <td>53.483333</td>\n",
       "      <td>0.157921</td>\n",
       "    </tr>\n",
       "    <tr>\n",
       "      <th>18</th>\n",
       "      <td>6.3</td>\n",
       "      <td>6.6</td>\n",
       "      <td>6.9</td>\n",
       "      <td>0.424264</td>\n",
       "      <td>150.84058</td>\n",
       "      <td>159.663147</td>\n",
       "      <td>170.391304</td>\n",
       "      <td>11.857041</td>\n",
       "      <td>866.338912</td>\n",
       "      <td>914.671384</td>\n",
       "      <td>...</td>\n",
       "      <td>2516.90303</td>\n",
       "      <td>321.798923</td>\n",
       "      <td>21.333333</td>\n",
       "      <td>21.536232</td>\n",
       "      <td>21.73913</td>\n",
       "      <td>0.286942</td>\n",
       "      <td>53.26</td>\n",
       "      <td>53.371667</td>\n",
       "      <td>53.483333</td>\n",
       "      <td>0.157921</td>\n",
       "    </tr>\n",
       "    <tr>\n",
       "      <th>23</th>\n",
       "      <td>5.5</td>\n",
       "      <td>5.5</td>\n",
       "      <td>5.5</td>\n",
       "      <td>0.000000</td>\n",
       "      <td>150.84058</td>\n",
       "      <td>159.663147</td>\n",
       "      <td>170.391304</td>\n",
       "      <td>11.857041</td>\n",
       "      <td>866.338912</td>\n",
       "      <td>914.671384</td>\n",
       "      <td>...</td>\n",
       "      <td>2516.90303</td>\n",
       "      <td>321.798923</td>\n",
       "      <td>21.333333</td>\n",
       "      <td>21.536232</td>\n",
       "      <td>21.73913</td>\n",
       "      <td>0.286942</td>\n",
       "      <td>53.26</td>\n",
       "      <td>53.371667</td>\n",
       "      <td>53.483333</td>\n",
       "      <td>0.157921</td>\n",
       "    </tr>\n",
       "  </tbody>\n",
       "</table>\n",
       "<p>5 rows × 24 columns</p>\n",
       "</div>"
      ],
      "text/plain": [
       "     0    1    2         3          4           5           6          7   \\\n",
       "4   7.4  7.4  7.4  0.000000  150.84058  159.663147  170.391304  11.857041   \n",
       "9   5.6  5.6  5.6  0.000000  150.84058  159.663147  170.391304  11.857041   \n",
       "17  5.2  5.2  5.2  0.000000  150.84058  159.663147  170.391304  11.857041   \n",
       "18  6.3  6.6  6.9  0.424264  150.84058  159.663147  170.391304  11.857041   \n",
       "23  5.5  5.5  5.5  0.000000  150.84058  159.663147  170.391304  11.857041   \n",
       "\n",
       "            8           9     ...             14          15         16  \\\n",
       "4   866.338912  914.671384    ...     2516.90303  321.798923  21.333333   \n",
       "9   866.338912  914.671384    ...     2516.90303  321.798923  21.333333   \n",
       "17  866.338912  914.671384    ...     2516.90303  321.798923  21.333333   \n",
       "18  866.338912  914.671384    ...     2516.90303  321.798923  21.333333   \n",
       "23  866.338912  914.671384    ...     2516.90303  321.798923  21.333333   \n",
       "\n",
       "           17        18        19     20         21         22        23  \n",
       "4   21.536232  21.73913  0.286942  53.26  53.371667  53.483333  0.157921  \n",
       "9   21.536232  21.73913  0.286942  53.26  53.371667  53.483333  0.157921  \n",
       "17  21.536232  21.73913  0.286942  53.26  53.371667  53.483333  0.157921  \n",
       "18  21.536232  21.73913  0.286942  53.26  53.371667  53.483333  0.157921  \n",
       "23  21.536232  21.73913  0.286942  53.26  53.371667  53.483333  0.157921  \n",
       "\n",
       "[5 rows x 24 columns]"
      ]
     },
     "execution_count": 165,
     "metadata": {},
     "output_type": "execute_result"
    }
   ],
   "source": [
    "test_nona = test.fillna(test.mean())\n",
    "test_nona.head()"
   ]
  },
  {
   "cell_type": "code",
   "execution_count": 166,
   "metadata": {},
   "outputs": [],
   "source": [
    "data_preprocessing.read_diagnoses()\n",
    "actual_label = data_preprocessing.get_labels()"
   ]
  },
  {
   "cell_type": "code",
   "execution_count": 167,
   "metadata": {},
   "outputs": [
    {
     "data": {
      "text/html": [
       "<div>\n",
       "<style scoped>\n",
       "    .dataframe tbody tr th:only-of-type {\n",
       "        vertical-align: middle;\n",
       "    }\n",
       "\n",
       "    .dataframe tbody tr th {\n",
       "        vertical-align: top;\n",
       "    }\n",
       "\n",
       "    .dataframe thead th {\n",
       "        text-align: right;\n",
       "    }\n",
       "</style>\n",
       "<table border=\"1\" class=\"dataframe\">\n",
       "  <thead>\n",
       "    <tr style=\"text-align: right;\">\n",
       "      <th></th>\n",
       "      <th>SUBJECT_ID</th>\n",
       "      <th>LABEL</th>\n",
       "    </tr>\n",
       "  </thead>\n",
       "  <tbody>\n",
       "    <tr>\n",
       "      <th>616</th>\n",
       "      <td>3</td>\n",
       "      <td>1</td>\n",
       "    </tr>\n",
       "    <tr>\n",
       "      <th>651</th>\n",
       "      <td>9</td>\n",
       "      <td>1</td>\n",
       "    </tr>\n",
       "    <tr>\n",
       "      <th>724</th>\n",
       "      <td>21</td>\n",
       "      <td>1</td>\n",
       "    </tr>\n",
       "    <tr>\n",
       "      <th>793</th>\n",
       "      <td>26</td>\n",
       "      <td>1</td>\n",
       "    </tr>\n",
       "    <tr>\n",
       "      <th>844</th>\n",
       "      <td>34</td>\n",
       "      <td>1</td>\n",
       "    </tr>\n",
       "  </tbody>\n",
       "</table>\n",
       "</div>"
      ],
      "text/plain": [
       "     SUBJECT_ID  LABEL\n",
       "616           3      1\n",
       "651           9      1\n",
       "724          21      1\n",
       "793          26      1\n",
       "844          34      1"
      ]
     },
     "execution_count": 167,
     "metadata": {},
     "output_type": "execute_result"
    }
   ],
   "source": [
    "actual_label.sort_values(by='SUBJECT_ID').head()\n"
   ]
  },
  {
   "cell_type": "code",
   "execution_count": 168,
   "metadata": {},
   "outputs": [
    {
     "data": {
      "text/html": [
       "<div>\n",
       "<style scoped>\n",
       "    .dataframe tbody tr th:only-of-type {\n",
       "        vertical-align: middle;\n",
       "    }\n",
       "\n",
       "    .dataframe tbody tr th {\n",
       "        vertical-align: top;\n",
       "    }\n",
       "\n",
       "    .dataframe thead th {\n",
       "        text-align: right;\n",
       "    }\n",
       "</style>\n",
       "<table border=\"1\" class=\"dataframe\">\n",
       "  <thead>\n",
       "    <tr style=\"text-align: right;\">\n",
       "      <th></th>\n",
       "      <th>SUBJECT_ID</th>\n",
       "    </tr>\n",
       "  </thead>\n",
       "  <tbody>\n",
       "    <tr>\n",
       "      <th>0</th>\n",
       "      <td>4</td>\n",
       "    </tr>\n",
       "    <tr>\n",
       "      <th>1</th>\n",
       "      <td>9</td>\n",
       "    </tr>\n",
       "    <tr>\n",
       "      <th>2</th>\n",
       "      <td>17</td>\n",
       "    </tr>\n",
       "    <tr>\n",
       "      <th>3</th>\n",
       "      <td>18</td>\n",
       "    </tr>\n",
       "    <tr>\n",
       "      <th>4</th>\n",
       "      <td>23</td>\n",
       "    </tr>\n",
       "  </tbody>\n",
       "</table>\n",
       "</div>"
      ],
      "text/plain": [
       "   SUBJECT_ID\n",
       "0           4\n",
       "1           9\n",
       "2          17\n",
       "3          18\n",
       "4          23"
      ]
     },
     "execution_count": 168,
     "metadata": {},
     "output_type": "execute_result"
    }
   ],
   "source": [
    "all_users_list = pd.DataFrame({'SUBJECT_ID': test.index})\n",
    "all_users_list.head()"
   ]
  },
  {
   "cell_type": "code",
   "execution_count": 169,
   "metadata": {},
   "outputs": [
    {
     "data": {
      "text/plain": [
       "10111"
      ]
     },
     "execution_count": 169,
     "metadata": {},
     "output_type": "execute_result"
    }
   ],
   "source": [
    "# len(all_users_list)\n",
    "actual_labels = pd.merge(all_users_list,actual_label,how='left',on='SUBJECT_ID')\n",
    "len(actual_labels)"
   ]
  },
  {
   "cell_type": "code",
   "execution_count": 170,
   "metadata": {},
   "outputs": [
    {
     "data": {
      "text/html": [
       "<div>\n",
       "<style scoped>\n",
       "    .dataframe tbody tr th:only-of-type {\n",
       "        vertical-align: middle;\n",
       "    }\n",
       "\n",
       "    .dataframe tbody tr th {\n",
       "        vertical-align: top;\n",
       "    }\n",
       "\n",
       "    .dataframe thead th {\n",
       "        text-align: right;\n",
       "    }\n",
       "</style>\n",
       "<table border=\"1\" class=\"dataframe\">\n",
       "  <thead>\n",
       "    <tr style=\"text-align: right;\">\n",
       "      <th></th>\n",
       "      <th>SUBJECT_ID</th>\n",
       "      <th>LABEL</th>\n",
       "    </tr>\n",
       "  </thead>\n",
       "  <tbody>\n",
       "    <tr>\n",
       "      <th>0</th>\n",
       "      <td>4</td>\n",
       "      <td>0.0</td>\n",
       "    </tr>\n",
       "    <tr>\n",
       "      <th>1</th>\n",
       "      <td>9</td>\n",
       "      <td>1.0</td>\n",
       "    </tr>\n",
       "    <tr>\n",
       "      <th>2</th>\n",
       "      <td>17</td>\n",
       "      <td>0.0</td>\n",
       "    </tr>\n",
       "    <tr>\n",
       "      <th>3</th>\n",
       "      <td>18</td>\n",
       "      <td>0.0</td>\n",
       "    </tr>\n",
       "    <tr>\n",
       "      <th>4</th>\n",
       "      <td>23</td>\n",
       "      <td>0.0</td>\n",
       "    </tr>\n",
       "  </tbody>\n",
       "</table>\n",
       "</div>"
      ],
      "text/plain": [
       "   SUBJECT_ID  LABEL\n",
       "0           4    0.0\n",
       "1           9    1.0\n",
       "2          17    0.0\n",
       "3          18    0.0\n",
       "4          23    0.0"
      ]
     },
     "execution_count": 170,
     "metadata": {},
     "output_type": "execute_result"
    }
   ],
   "source": [
    "actual_labels = actual_labels.fillna(0)\n",
    "actual_labels.head()"
   ]
  },
  {
   "cell_type": "code",
   "execution_count": 177,
   "metadata": {},
   "outputs": [
    {
     "data": {
      "text/plain": [
       "dict_values([10109, 2])"
      ]
     },
     "execution_count": 177,
     "metadata": {},
     "output_type": "execute_result"
    }
   ],
   "source": [
    "from sklearn.cluster import KMeans\n",
    "\n",
    "kmeans = KMeans(n_clusters=2, random_state=0).fit(test_nona)\n",
    "kmeans.labels_\n",
    "\n",
    "kmeans.cluster_centers_\n",
    "\n",
    "y_pred = KMeans(n_clusters=2, random_state=0).fit_predict(test_nona)\n",
    "y_pred\n",
    "from collections import Counter\n",
    "Counter(y_pred).values()\n",
    "# list(set(y_pred))"
   ]
  },
  {
   "cell_type": "code",
   "execution_count": 59,
   "metadata": {},
   "outputs": [],
   "source": [
    "import matplotlib.pyplot as plt\n",
    "from sklearn.manifold import TSNE\n",
    "X_embedded = TSNE(n_components=2, learning_rate=3000).fit_transform(test_nona)\n",
    "\n",
    "plt.figure(figsize=(15, 15))\n",
    "plt.scatter(X_embedded[:,0],X_embedded[:,1],c=y_pred)\n",
    "plt.title(\"KMeans\")\n",
    "plt.show()"
   ]
  },
  {
   "cell_type": "code",
   "execution_count": 58,
   "metadata": {},
   "outputs": [
    {
     "name": "stderr",
     "output_type": "stream",
     "text": [
      "/anaconda3/lib/python3.6/site-packages/umap/spectral.py:229: UserWarning: Embedding a total of 20 separate connected components using meta-embedding (experimental)\n",
      "  n_components\n"
     ]
    }
   ],
   "source": [
    "import umap\n",
    "# from sklearn.datasets import load_digits\n",
    "\n",
    "# digits = load_digits()\n",
    "\n",
    "embedding = umap.UMAP().fit_transform(test_nona)"
   ]
  },
  {
   "cell_type": "code",
   "execution_count": 187,
   "metadata": {},
   "outputs": [
    {
     "data": {
      "text/plain": [
       "0    0\n",
       "2    0\n",
       "3    0\n",
       "4    0\n",
       "5    0\n",
       "Name: LABEL, dtype: int64"
      ]
     },
     "execution_count": 187,
     "metadata": {},
     "output_type": "execute_result"
    }
   ],
   "source": [
    "# actual_labels['LABEL'] = actual_labels['LABEL'].astype(int)\n",
    "# actual_labels['PREDICTED']=y_pred\n",
    "# actual_labels['X0']=embedding[:,0]\n",
    "# actual_labels['X1']=embedding[:,1]\n",
    "# actual_labels[:10]\n",
    "# # pd.concat([y_pred, actual_labels['LABEL'].astype(int)],axis=1).head()\n",
    "# # embedding.tolist()\n",
    "# true_X = actual_labels[actual_labels['LABEL']==0]\n",
    "# false_X = actual_labels[actual_labels['LABEL']==1]\n",
    "# true_X.head()\n",
    "true_X['LABEL'].head()"
   ]
  },
  {
   "cell_type": "code",
   "execution_count": 181,
   "metadata": {},
   "outputs": [],
   "source": [
    "false_X"
   ]
  },
  {
   "cell_type": "code",
   "execution_count": 154,
   "metadata": {},
   "outputs": [
    {
     "data": {
      "image/png": "[encoded data removed]",
      "text/plain": [
       "<Figure size 1080x1080 with 1 Axes>"
      ]
     },
     "metadata": {},
     "output_type": "display_data"
    }
   ],
   "source": [
    "\n",
    "colors = ['b','y']\n",
    "actual_labels['LABEL'].astype(int)\n",
    "\n",
    "\n",
    "\n",
    "# marker=[markers[x] for x in actual_labels['LABEL'].astype(int)]\n",
    "plt.figure(figsize=(15, 15))\n",
    "# for i in range(len(embedding)):\n",
    "#     plt.scatter(embedding[i,0], embedding[i,1], \n",
    "#                 c = colors[y_pred[i]], \n",
    "#                 marker = markers[int(actual_labels['LABEL'][i])])\n",
    "plt.scatter(true_X['X0'],true_X['X1'],c=[colors[x] for x in true_X['PREDICTED']],marker=\"v\",s=50)\n",
    "plt.scatter(false_X['X0'],false_X['X1'],c=[colors[x] for x in false_X['PREDICTED']],marker=\"_\",s=50)\n",
    "#             ,marker=actual_labels['LABEL'].astype(int))\n",
    "# [markers[x] for x in actual_labels['LABEL'].astype(int)]\n",
    "\n",
    "\n",
    "plt.title(\"KMeans\")\n",
    "plt.show()\n",
    "\n",
    "# l1 = [1,0,1,1,1,1,0,0,1,0,1,0,0,0,1]\n",
    "\n",
    "# [markers[x] for x in actual_labels['LABEL'].astype(int)]\n",
    "# actual_labels.head()\n",
    "# y_pred"
   ]
  },
  {
   "cell_type": "code",
   "execution_count": 65,
   "metadata": {},
   "outputs": [
    {
     "data": {
      "text/plain": [
       "numpy.ndarray"
      ]
     },
     "execution_count": 65,
     "metadata": {},
     "output_type": "execute_result"
    }
   ],
   "source": [
    "type(y_pred)"
   ]
  },
  {
   "cell_type": "markdown",
   "metadata": {},
   "source": [
    "## Crafts"
   ]
  },
  {
   "cell_type": "code",
   "execution_count": 41,
   "metadata": {},
   "outputs": [],
   "source": [
    "# // TODO\n",
    "# feature_filtered_df = labevent_detailed_df[(labevent_detailed_df.LABEL == 'Blasts')] \n",
    "labevent_detailed_df[(labevent_detailed_df.LABEL == 'pH')].sort_values(by='SUBJECT_ID')"
   ]
  },
  {
   "cell_type": "code",
   "execution_count": 210,
   "metadata": {},
   "outputs": [],
   "source": [
    "# initiate all user vectors\n",
    "con_stc_ls = ['min','mean','max','std']\n",
    "con_stc_ls_len = len(con_stc_ls)\n",
    "\n",
    "user_vectors = {}\n",
    "all_users = set(labevent_detailed_df['SUBJECT_ID'].unique())\n",
    "for user in all_users:\n",
    "    user_vectors[user] = np.empty([0])\n",
    "    "
   ]
  },
  {
   "cell_type": "code",
   "execution_count": 213,
   "metadata": {},
   "outputs": [],
   "source": [
    "# pick one iteration of continuous label\n",
    "wbc = labevent_detailed_df[labevent_detailed_df['LABEL']=='WBC']\n",
    "wbc_agg = wbc.dropna(subset=['VALUENUM']).groupby('SUBJECT_ID')['VALUENUM'].agg(con_stc_ls)\n",
    "wbc_agg.head()\n",
    "# wbc_agg[:10]\n",
    "# wbc[wbc['SUBJECT_ID']==4][:10]\n",
    "\n",
    "current_users = set(wbc['SUBJECT_ID'].unique())\n",
    "missed_users = all_users - current_users\n",
    "\n",
    "for user, row in wbc_agg.iterrows():\n",
    "    if pd.isnull(row['std']): row['std']=0\n",
    "    user_vectors[user]=np.append(user_vectors[user],[row[x] for x in con_stc_ls])\n",
    "for user in missed_users:\n",
    "    user_vectors[user]=np.append(user_vectors[user],np.full(con_stc_ls_len, np.nan))"
   ]
  },
  {
   "cell_type": "code",
   "execution_count": 190,
   "metadata": {},
   "outputs": [
    {
     "data": {
      "text/plain": [
       "Index(['min', 'mean', 'max', 'std'], dtype='object')"
      ]
     },
     "execution_count": 190,
     "metadata": {},
     "output_type": "execute_result"
    }
   ],
   "source": [
    "# all_users = labevent_detailed_df['SUBJECT_ID'].unique() \n",
    "# print(len(set(all_users)- set(wbc['SUBJECT_ID'].unique())))\n",
    "# print(len(all_users))\n",
    "# np.full(3, np.nan)\n",
    "# np.append(np.array([1]),[2,3])\n",
    "# user_vectors[5]\n",
    "# wbc = labevent_detailed_df[labevent_detailed_df['LABEL']=='WBC']\n",
    "ani_agg.head()\n"
   ]
  },
  {
   "cell_type": "code",
   "execution_count": 214,
   "metadata": {},
   "outputs": [
    {
     "name": "stderr",
     "output_type": "stream",
     "text": [
      "/anaconda3/lib/python3.6/site-packages/ipykernel_launcher.py:13: DeprecationWarning: \n",
      ".ix is deprecated. Please use\n",
      ".loc for label based indexing or\n",
      ".iloc for positional indexing\n",
      "\n",
      "See the documentation here:\n",
      "http://pandas.pydata.org/pandas-docs/stable/indexing.html#ix-indexer-is-deprecated\n",
      "  del sys.path[0]\n"
     ]
    }
   ],
   "source": [
    "# pick one iteration of discrete label\n",
    "ani = labevent_detailed_df[labevent_detailed_df['LABEL']=='Anisocytosis']\n",
    "ani_agg = ani.dropna(subset=['VALUE']).groupby(['SUBJECT_ID','VALUE'])['LABEL'].agg(['count'])\n",
    "ani_agg_per = ani_agg.groupby(level=0).apply(lambda x: 100* x/float(x.sum()))\n",
    "current_users = set(ani['SUBJECT_ID'].unique())\n",
    "missed_users = all_users - current_users\n",
    "\n",
    "ani_agg_per.reset_index\n",
    "ani_matrix = pd.pivot_table(ani_agg_per,values = ['count'],index=['SUBJECT_ID'],columns=['VALUE'])\n",
    "\n",
    "ani_matrix = ani_matrix.fillna(0)\n",
    "for user in ani_matrix.index.get_level_values('SUBJECT_ID')[:10]:\n",
    "    user_vectors[user] = np.append(user_vectors[user],ani_matrix.ix[user].values)\n",
    "for user in missed_users:\n",
    "    user_vectors[user]=np.append(user_vectors[user],np.full(ani_matrix.shape[1], np.nan))\n",
    "# ani_matrix.head() \n",
    "# ani_matrix.shape[1]"
   ]
  },
  {
   "cell_type": "code",
   "execution_count": 203,
   "metadata": {},
   "outputs": [
    {
     "data": {
      "text/html": [
       "<div>\n",
       "<style scoped>\n",
       "    .dataframe tbody tr th:only-of-type {\n",
       "        vertical-align: middle;\n",
       "    }\n",
       "\n",
       "    .dataframe tbody tr th {\n",
       "        vertical-align: top;\n",
       "    }\n",
       "\n",
       "    .dataframe thead th {\n",
       "        text-align: right;\n",
       "    }\n",
       "</style>\n",
       "<table border=\"1\" class=\"dataframe\">\n",
       "  <thead>\n",
       "    <tr style=\"text-align: right;\">\n",
       "      <th></th>\n",
       "      <th>SUBJECT_ID</th>\n",
       "      <th>CHARTTIME</th>\n",
       "      <th>VALUENUM</th>\n",
       "    </tr>\n",
       "  </thead>\n",
       "  <tbody>\n",
       "    <tr>\n",
       "      <th>54</th>\n",
       "      <td>3</td>\n",
       "      <td>2101-10-14 03:00:00</td>\n",
       "      <td>10.3</td>\n",
       "    </tr>\n",
       "    <tr>\n",
       "      <th>94</th>\n",
       "      <td>3</td>\n",
       "      <td>2101-10-15 03:30:00</td>\n",
       "      <td>9.9</td>\n",
       "    </tr>\n",
       "    <tr>\n",
       "      <th>129</th>\n",
       "      <td>3</td>\n",
       "      <td>2101-10-16 04:00:00</td>\n",
       "      <td>10.2</td>\n",
       "    </tr>\n",
       "    <tr>\n",
       "      <th>192</th>\n",
       "      <td>3</td>\n",
       "      <td>2101-10-22 04:00:00</td>\n",
       "      <td>9.5</td>\n",
       "    </tr>\n",
       "    <tr>\n",
       "      <th>360</th>\n",
       "      <td>3</td>\n",
       "      <td>2101-10-23 03:45:00</td>\n",
       "      <td>10.5</td>\n",
       "    </tr>\n",
       "    <tr>\n",
       "      <th>415</th>\n",
       "      <td>3</td>\n",
       "      <td>2101-10-20 19:26:00</td>\n",
       "      <td>7.8</td>\n",
       "    </tr>\n",
       "    <tr>\n",
       "      <th>450</th>\n",
       "      <td>3</td>\n",
       "      <td>2101-10-20 19:59:00</td>\n",
       "      <td>8.2</td>\n",
       "    </tr>\n",
       "    <tr>\n",
       "      <th>523</th>\n",
       "      <td>3</td>\n",
       "      <td>2101-10-20 16:40:00</td>\n",
       "      <td>10.0</td>\n",
       "    </tr>\n",
       "    <tr>\n",
       "      <th>600</th>\n",
       "      <td>2</td>\n",
       "      <td>2138-07-17 20:48:00</td>\n",
       "      <td>0.0</td>\n",
       "    </tr>\n",
       "    <tr>\n",
       "      <th>619</th>\n",
       "      <td>2</td>\n",
       "      <td>2138-07-17 21:10:00</td>\n",
       "      <td>16.5</td>\n",
       "    </tr>\n",
       "  </tbody>\n",
       "</table>\n",
       "</div>"
      ],
      "text/plain": [
       "     SUBJECT_ID           CHARTTIME  VALUENUM\n",
       "54            3 2101-10-14 03:00:00      10.3\n",
       "94            3 2101-10-15 03:30:00       9.9\n",
       "129           3 2101-10-16 04:00:00      10.2\n",
       "192           3 2101-10-22 04:00:00       9.5\n",
       "360           3 2101-10-23 03:45:00      10.5\n",
       "415           3 2101-10-20 19:26:00       7.8\n",
       "450           3 2101-10-20 19:59:00       8.2\n",
       "523           3 2101-10-20 16:40:00      10.0\n",
       "600           2 2138-07-17 20:48:00       0.0\n",
       "619           2 2138-07-17 21:10:00      16.5"
      ]
     },
     "execution_count": 203,
     "metadata": {},
     "output_type": "execute_result"
    }
   ],
   "source": [
    "final_feature_df = feature_filtered_df[['SUBJECT_ID','CHARTTIME','VALUENUM']]\n",
    "# Remove Nan data\n",
    "final_feature_df = final_feature_df[final_feature_df.VALUENUM.notna()]\n",
    "final_feature_df[:10]"
   ]
  },
  {
   "cell_type": "code",
   "execution_count": 204,
   "metadata": {},
   "outputs": [
    {
     "data": {
      "text/html": [
       "<div>\n",
       "<style scoped>\n",
       "    .dataframe tbody tr th:only-of-type {\n",
       "        vertical-align: middle;\n",
       "    }\n",
       "\n",
       "    .dataframe tbody tr th {\n",
       "        vertical-align: top;\n",
       "    }\n",
       "\n",
       "    .dataframe thead th {\n",
       "        text-align: right;\n",
       "    }\n",
       "</style>\n",
       "<table border=\"1\" class=\"dataframe\">\n",
       "  <thead>\n",
       "    <tr style=\"text-align: right;\">\n",
       "      <th></th>\n",
       "      <th>SUBJECT_ID</th>\n",
       "      <th>CHARTTIME</th>\n",
       "      <th>VALUENUM</th>\n",
       "      <th>CHAR_DATE</th>\n",
       "    </tr>\n",
       "  </thead>\n",
       "  <tbody>\n",
       "    <tr>\n",
       "      <th>54</th>\n",
       "      <td>3</td>\n",
       "      <td>2101-10-14 03:00:00</td>\n",
       "      <td>10.3</td>\n",
       "      <td>2101-10-14</td>\n",
       "    </tr>\n",
       "    <tr>\n",
       "      <th>94</th>\n",
       "      <td>3</td>\n",
       "      <td>2101-10-15 03:30:00</td>\n",
       "      <td>9.9</td>\n",
       "      <td>2101-10-15</td>\n",
       "    </tr>\n",
       "    <tr>\n",
       "      <th>129</th>\n",
       "      <td>3</td>\n",
       "      <td>2101-10-16 04:00:00</td>\n",
       "      <td>10.2</td>\n",
       "      <td>2101-10-16</td>\n",
       "    </tr>\n",
       "    <tr>\n",
       "      <th>192</th>\n",
       "      <td>3</td>\n",
       "      <td>2101-10-22 04:00:00</td>\n",
       "      <td>9.5</td>\n",
       "      <td>2101-10-22</td>\n",
       "    </tr>\n",
       "    <tr>\n",
       "      <th>360</th>\n",
       "      <td>3</td>\n",
       "      <td>2101-10-23 03:45:00</td>\n",
       "      <td>10.5</td>\n",
       "      <td>2101-10-23</td>\n",
       "    </tr>\n",
       "    <tr>\n",
       "      <th>415</th>\n",
       "      <td>3</td>\n",
       "      <td>2101-10-20 19:26:00</td>\n",
       "      <td>7.8</td>\n",
       "      <td>2101-10-20</td>\n",
       "    </tr>\n",
       "    <tr>\n",
       "      <th>450</th>\n",
       "      <td>3</td>\n",
       "      <td>2101-10-20 19:59:00</td>\n",
       "      <td>8.2</td>\n",
       "      <td>2101-10-20</td>\n",
       "    </tr>\n",
       "    <tr>\n",
       "      <th>523</th>\n",
       "      <td>3</td>\n",
       "      <td>2101-10-20 16:40:00</td>\n",
       "      <td>10.0</td>\n",
       "      <td>2101-10-20</td>\n",
       "    </tr>\n",
       "    <tr>\n",
       "      <th>600</th>\n",
       "      <td>2</td>\n",
       "      <td>2138-07-17 20:48:00</td>\n",
       "      <td>0.0</td>\n",
       "      <td>2138-07-17</td>\n",
       "    </tr>\n",
       "    <tr>\n",
       "      <th>619</th>\n",
       "      <td>2</td>\n",
       "      <td>2138-07-17 21:10:00</td>\n",
       "      <td>16.5</td>\n",
       "      <td>2138-07-17</td>\n",
       "    </tr>\n",
       "  </tbody>\n",
       "</table>\n",
       "</div>"
      ],
      "text/plain": [
       "     SUBJECT_ID           CHARTTIME  VALUENUM   CHAR_DATE\n",
       "54            3 2101-10-14 03:00:00      10.3  2101-10-14\n",
       "94            3 2101-10-15 03:30:00       9.9  2101-10-15\n",
       "129           3 2101-10-16 04:00:00      10.2  2101-10-16\n",
       "192           3 2101-10-22 04:00:00       9.5  2101-10-22\n",
       "360           3 2101-10-23 03:45:00      10.5  2101-10-23\n",
       "415           3 2101-10-20 19:26:00       7.8  2101-10-20\n",
       "450           3 2101-10-20 19:59:00       8.2  2101-10-20\n",
       "523           3 2101-10-20 16:40:00      10.0  2101-10-20\n",
       "600           2 2138-07-17 20:48:00       0.0  2138-07-17\n",
       "619           2 2138-07-17 21:10:00      16.5  2138-07-17"
      ]
     },
     "execution_count": 204,
     "metadata": {},
     "output_type": "execute_result"
    }
   ],
   "source": [
    "final_feature_df['CHAR_DATE'] = final_feature_df['CHARTTIME'].dt.date\n",
    "final_feature_df[:10]"
   ]
  },
  {
   "cell_type": "code",
   "execution_count": 205,
   "metadata": {},
   "outputs": [
    {
     "data": {
      "text/html": [
       "<div>\n",
       "<style scoped>\n",
       "    .dataframe tbody tr th:only-of-type {\n",
       "        vertical-align: middle;\n",
       "    }\n",
       "\n",
       "    .dataframe tbody tr th {\n",
       "        vertical-align: top;\n",
       "    }\n",
       "\n",
       "    .dataframe thead th {\n",
       "        text-align: right;\n",
       "    }\n",
       "</style>\n",
       "<table border=\"1\" class=\"dataframe\">\n",
       "  <thead>\n",
       "    <tr style=\"text-align: right;\">\n",
       "      <th></th>\n",
       "      <th>SUBJECT_ID</th>\n",
       "      <th>CHAR_DATE</th>\n",
       "      <th>VALUENUM</th>\n",
       "      <th>SHIFT_DATE</th>\n",
       "    </tr>\n",
       "  </thead>\n",
       "  <tbody>\n",
       "    <tr>\n",
       "      <th>0</th>\n",
       "      <td>2</td>\n",
       "      <td>2138-07-17</td>\n",
       "      <td>8.250000</td>\n",
       "      <td>NaN</td>\n",
       "    </tr>\n",
       "    <tr>\n",
       "      <th>1</th>\n",
       "      <td>3</td>\n",
       "      <td>2101-10-04</td>\n",
       "      <td>11.500000</td>\n",
       "      <td>NaN</td>\n",
       "    </tr>\n",
       "    <tr>\n",
       "      <th>2</th>\n",
       "      <td>3</td>\n",
       "      <td>2101-10-05</td>\n",
       "      <td>11.000000</td>\n",
       "      <td>2101-10-04</td>\n",
       "    </tr>\n",
       "    <tr>\n",
       "      <th>3</th>\n",
       "      <td>3</td>\n",
       "      <td>2101-10-06</td>\n",
       "      <td>10.900000</td>\n",
       "      <td>2101-10-05</td>\n",
       "    </tr>\n",
       "    <tr>\n",
       "      <th>4</th>\n",
       "      <td>3</td>\n",
       "      <td>2101-10-07</td>\n",
       "      <td>10.600000</td>\n",
       "      <td>2101-10-06</td>\n",
       "    </tr>\n",
       "    <tr>\n",
       "      <th>5</th>\n",
       "      <td>3</td>\n",
       "      <td>2101-10-11</td>\n",
       "      <td>9.700000</td>\n",
       "      <td>2101-10-07</td>\n",
       "    </tr>\n",
       "    <tr>\n",
       "      <th>6</th>\n",
       "      <td>3</td>\n",
       "      <td>2101-10-14</td>\n",
       "      <td>10.300000</td>\n",
       "      <td>2101-10-11</td>\n",
       "    </tr>\n",
       "    <tr>\n",
       "      <th>7</th>\n",
       "      <td>3</td>\n",
       "      <td>2101-10-15</td>\n",
       "      <td>9.900000</td>\n",
       "      <td>2101-10-14</td>\n",
       "    </tr>\n",
       "    <tr>\n",
       "      <th>8</th>\n",
       "      <td>3</td>\n",
       "      <td>2101-10-16</td>\n",
       "      <td>10.200000</td>\n",
       "      <td>2101-10-15</td>\n",
       "    </tr>\n",
       "    <tr>\n",
       "      <th>9</th>\n",
       "      <td>3</td>\n",
       "      <td>2101-10-20</td>\n",
       "      <td>8.666667</td>\n",
       "      <td>2101-10-16</td>\n",
       "    </tr>\n",
       "  </tbody>\n",
       "</table>\n",
       "</div>"
      ],
      "text/plain": [
       "   SUBJECT_ID   CHAR_DATE   VALUENUM  SHIFT_DATE\n",
       "0           2  2138-07-17   8.250000         NaN\n",
       "1           3  2101-10-04  11.500000         NaN\n",
       "2           3  2101-10-05  11.000000  2101-10-04\n",
       "3           3  2101-10-06  10.900000  2101-10-05\n",
       "4           3  2101-10-07  10.600000  2101-10-06\n",
       "5           3  2101-10-11   9.700000  2101-10-07\n",
       "6           3  2101-10-14  10.300000  2101-10-11\n",
       "7           3  2101-10-15   9.900000  2101-10-14\n",
       "8           3  2101-10-16  10.200000  2101-10-15\n",
       "9           3  2101-10-20   8.666667  2101-10-16"
      ]
     },
     "execution_count": 205,
     "metadata": {},
     "output_type": "execute_result"
    }
   ],
   "source": [
    "\n",
    "final_feature_bydate_df = final_feature_df.groupby(['SUBJECT_ID','CHAR_DATE']).agg({\"VALUENUM\": \"mean\"})\n",
    "\n",
    "final_feature_bydate_df = final_feature_bydate_df.reset_index().sort_values(by=['SUBJECT_ID','CHAR_DATE'])\n",
    "\n",
    "final_feature_bydate_df['SHIFT_DATE'] = final_feature_bydate_df.groupby('SUBJECT_ID')['CHAR_DATE'].apply(lambda i:i.shift(1))\n",
    "final_feature_bydate_df[:10]"
   ]
  },
  {
   "cell_type": "code",
   "execution_count": 206,
   "metadata": {},
   "outputs": [],
   "source": [
    "final_feature_bydate_df['DATE_INTERVAL'] = (final_feature_bydate_df['CHAR_DATE']\n",
    "                                           - final_feature_bydate_df['SHIFT_DATE']).dt.days"
   ]
  },
  {
   "cell_type": "markdown",
   "metadata": {},
   "source": [
    "## remove those subjects not in feature dataframe\n"
   ]
  },
  {
   "cell_type": "code",
   "execution_count": 207,
   "metadata": {},
   "outputs": [],
   "source": [
    "final_label_df = final_label_df[final_label_df['SUBJECT_ID'].isin(final_feature_bydate_df['SUBJECT_ID'])]"
   ]
  },
  {
   "cell_type": "code",
   "execution_count": 208,
   "metadata": {},
   "outputs": [],
   "source": [
    "subject_label = {}\n",
    "subject_label = final_label_df.set_index('SUBJECT_ID').to_dict('index')\n",
    "for key in subject_label:\n",
    "    subject_label[key] = subject_label[key]['CONGESTIVE_HEART_FAILURE']"
   ]
  },
  {
   "cell_type": "code",
   "execution_count": 209,
   "metadata": {},
   "outputs": [],
   "source": [
    "num_attrs = 25\n",
    "current_vector = np.zeros(num_attrs, dtype=float)\n",
    "current_index = 0\n",
    "current_subject = final_feature_bydate_df[\"SUBJECT_ID\"][0]\n",
    "subject_dict = {}\n",
    "\n",
    "\n",
    "for index, row in final_feature_bydate_df.iterrows():\n",
    "    # if not in the begining of a group, increase index by date interval\n",
    "    if not (pd.isnull(row[\"DATE_INTERVAL\"])):\n",
    "        current_index += row[\"DATE_INTERVAL\"]\n",
    "        \n",
    "    if row[\"SUBJECT_ID\"] != current_subject: \n",
    "\n",
    "        subject_dict[current_subject] = current_vector\n",
    "        current_vector = np.zeros(num_attrs, dtype=float)\n",
    "        if current_subject not in subject_label:\n",
    "            subject_label[current_subject]= '0'\n",
    "        \n",
    "        current_index = 0\n",
    "        current_subject = row[\"SUBJECT_ID\"]\n",
    "        \n",
    "    if current_index >= 25: continue\n",
    "    current_vector[int(current_index)]= row[\"VALUENUM\"]\n",
    "\n",
    "subject_dict[current_subject] = current_vector\n",
    "if current_subject not in subject_label:\n",
    "    subject_label[current_subject]='0'"
   ]
  },
  {
   "cell_type": "markdown",
   "metadata": {},
   "source": [
    "## t-SNE"
   ]
  },
  {
   "cell_type": "code",
   "execution_count": 286,
   "metadata": {},
   "outputs": [],
   "source": [
    "from sklearn.manifold import TSNE\n",
    "import matplotlib.pyplot as plt\n",
    "import random\n",
    "\n",
    "max_train = 5000\n",
    "train_dict_keys = random.sample(list(subject_dict.keys()), max_train)\n",
    "## Get X and y\n",
    "X = np.empty(shape=(max_train,max_attrs))\n",
    "y = np.empty(shape=(max_train))\n",
    "\n",
    "i=0\n",
    "for k in train_dict_keys:\n",
    "    X[i]=subject_dict[k]\n",
    "    y[i]=subject_label[k]\n",
    "    i+=1   \n",
    "    \n",
    "X_embedded = TSNE(n_components=2, learning_rate=3000).fit_transform(X)"
   ]
  },
  {
   "cell_type": "code",
   "execution_count": 287,
   "metadata": {},
   "outputs": [
    {
     "data": {
      "image/png": "[encoded data removed]",
      "text/plain": [
       "<Figure size 1080x1080 with 1 Axes>"
      ]
     },
     "metadata": {},
     "output_type": "display_data"
    }
   ],
   "source": [
    "plt.figure(figsize=(15, 15))\n",
    "plt.scatter(X_embedded[:,0],X_embedded[:,1],c=y, s=10, alpha = 1)\n",
    "\n",
    "plt.show()"
   ]
  }
 ],
 "metadata": {
  "kernelspec": {
   "display_name": "Python 3",
   "language": "python",
   "name": "python3"
  },
  "language_info": {
   "codemirror_mode": {
    "name": "ipython",
    "version": 3
   },
   "file_extension": ".py",
   "mimetype": "text/x-python",
   "name": "python",
   "nbconvert_exporter": "python",
   "pygments_lexer": "ipython3",
   "version": "3.6.5"
  },
  "toc": {
   "base_numbering": 1,
   "nav_menu": {},
   "number_sections": true,
   "sideBar": true,
   "skip_h1_title": false,
   "title_cell": "Table of Contents",
   "title_sidebar": "Contents",
   "toc_cell": false,
   "toc_position": {},
   "toc_section_display": true,
   "toc_window_display": false
  }
 },
 "nbformat": 4,
 "nbformat_minor": 2
}
