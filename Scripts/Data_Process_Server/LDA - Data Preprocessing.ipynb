{
 "cells": [
  {
   "cell_type": "code",
   "execution_count": 1,
   "metadata": {},
   "outputs": [],
   "source": [
    "import numpy as np\n",
    "import pandas as pd\n",
    "import re\n",
    "from os.path import join\n",
    "\n",
    "from tools import *"
   ]
  },
  {
   "cell_type": "code",
   "execution_count": 2,
   "metadata": {},
   "outputs": [],
   "source": [
    "## rename EXTRACT_FEATURES to DIMENSION_REDUCTION\n",
    "read_prefix = \"/data/MIMIC3/\"\n",
    "write_prefix = \"/data/liu/LDA\""
   ]
  },
  {
   "cell_type": "code",
   "execution_count": 1,
   "metadata": {
    "code_folding": [
     0
    ]
   },
   "outputs": [
    {
     "data": {
      "text/plain": [
       "['0', '1']"
      ]
     },
     "execution_count": 1,
     "metadata": {},
     "output_type": "execute_result"
    }
   ],
   "source": [
    "# test re replace remove string remain number\n",
    "import re\n",
    "# l=[\"diag_0\",\"diag_1\"]\n",
    "# [re.sub(\"[^0-9]\", \"\",s) for s in l]"
   ]
  },
  {
   "cell_type": "markdown",
   "metadata": {},
   "source": [
    "## Read Diagnoses and Prescriptions Data"
   ]
  },
  {
   "cell_type": "code",
   "execution_count": 3,
   "metadata": {},
   "outputs": [
    {
     "data": {
      "text/html": [
       "<div>\n",
       "<style scoped>\n",
       "    .dataframe tbody tr th:only-of-type {\n",
       "        vertical-align: middle;\n",
       "    }\n",
       "\n",
       "    .dataframe tbody tr th {\n",
       "        vertical-align: top;\n",
       "    }\n",
       "\n",
       "    .dataframe thead th {\n",
       "        text-align: right;\n",
       "    }\n",
       "</style>\n",
       "<table border=\"1\" class=\"dataframe\">\n",
       "  <thead>\n",
       "    <tr style=\"text-align: right;\">\n",
       "      <th></th>\n",
       "      <th>ROW_ID</th>\n",
       "      <th>SUBJECT_ID</th>\n",
       "      <th>HADM_ID</th>\n",
       "      <th>SEQ_NUM</th>\n",
       "      <th>ICD9_CODE</th>\n",
       "    </tr>\n",
       "  </thead>\n",
       "  <tbody>\n",
       "    <tr>\n",
       "      <th>0</th>\n",
       "      <td>1297</td>\n",
       "      <td>109</td>\n",
       "      <td>172335</td>\n",
       "      <td>1.0</td>\n",
       "      <td>40301</td>\n",
       "    </tr>\n",
       "    <tr>\n",
       "      <th>1</th>\n",
       "      <td>1298</td>\n",
       "      <td>109</td>\n",
       "      <td>172335</td>\n",
       "      <td>2.0</td>\n",
       "      <td>486</td>\n",
       "    </tr>\n",
       "    <tr>\n",
       "      <th>2</th>\n",
       "      <td>1299</td>\n",
       "      <td>109</td>\n",
       "      <td>172335</td>\n",
       "      <td>3.0</td>\n",
       "      <td>58281</td>\n",
       "    </tr>\n",
       "    <tr>\n",
       "      <th>3</th>\n",
       "      <td>1300</td>\n",
       "      <td>109</td>\n",
       "      <td>172335</td>\n",
       "      <td>4.0</td>\n",
       "      <td>5855</td>\n",
       "    </tr>\n",
       "    <tr>\n",
       "      <th>4</th>\n",
       "      <td>1301</td>\n",
       "      <td>109</td>\n",
       "      <td>172335</td>\n",
       "      <td>5.0</td>\n",
       "      <td>4254</td>\n",
       "    </tr>\n",
       "  </tbody>\n",
       "</table>\n",
       "</div>"
      ],
      "text/plain": [
       "   ROW_ID  SUBJECT_ID  HADM_ID  SEQ_NUM ICD9_CODE\n",
       "0    1297         109   172335      1.0     40301\n",
       "1    1298         109   172335      2.0       486\n",
       "2    1299         109   172335      3.0     58281\n",
       "3    1300         109   172335      4.0      5855\n",
       "4    1301         109   172335      5.0      4254"
      ]
     },
     "execution_count": 3,
     "metadata": {},
     "output_type": "execute_result"
    }
   ],
   "source": [
    "diag_df = read_data(join(read_prefix,\"DIAGNOSES_ICD\"))\n",
    "diag_df.head()"
   ]
  },
  {
   "cell_type": "code",
   "execution_count": 4,
   "metadata": {},
   "outputs": [
    {
     "name": "stderr",
     "output_type": "stream",
     "text": [
      "/home/liu/anaconda3/envs/py36/lib/python3.6/site-packages/IPython/core/interactiveshell.py:3214: DtypeWarning: Columns (11) have mixed types. Specify dtype option on import or set low_memory=False.\n",
      "  if (yield from self.run_code(code, result)):\n"
     ]
    },
    {
     "data": {
      "text/html": [
       "<div>\n",
       "<style scoped>\n",
       "    .dataframe tbody tr th:only-of-type {\n",
       "        vertical-align: middle;\n",
       "    }\n",
       "\n",
       "    .dataframe tbody tr th {\n",
       "        vertical-align: top;\n",
       "    }\n",
       "\n",
       "    .dataframe thead th {\n",
       "        text-align: right;\n",
       "    }\n",
       "</style>\n",
       "<table border=\"1\" class=\"dataframe\">\n",
       "  <thead>\n",
       "    <tr style=\"text-align: right;\">\n",
       "      <th></th>\n",
       "      <th>ROW_ID</th>\n",
       "      <th>SUBJECT_ID</th>\n",
       "      <th>HADM_ID</th>\n",
       "      <th>ICUSTAY_ID</th>\n",
       "      <th>STARTDATE</th>\n",
       "      <th>ENDDATE</th>\n",
       "      <th>DRUG_TYPE</th>\n",
       "      <th>DRUG</th>\n",
       "      <th>DRUG_NAME_POE</th>\n",
       "      <th>DRUG_NAME_GENERIC</th>\n",
       "      <th>FORMULARY_DRUG_CD</th>\n",
       "      <th>GSN</th>\n",
       "      <th>NDC</th>\n",
       "      <th>PROD_STRENGTH</th>\n",
       "      <th>DOSE_VAL_RX</th>\n",
       "      <th>DOSE_UNIT_RX</th>\n",
       "      <th>FORM_VAL_DISP</th>\n",
       "      <th>FORM_UNIT_DISP</th>\n",
       "      <th>ROUTE</th>\n",
       "    </tr>\n",
       "  </thead>\n",
       "  <tbody>\n",
       "    <tr>\n",
       "      <th>0</th>\n",
       "      <td>2214776</td>\n",
       "      <td>6</td>\n",
       "      <td>107064</td>\n",
       "      <td>NaN</td>\n",
       "      <td>2175-06-11 00:00:00</td>\n",
       "      <td>2175-06-12 00:00:00</td>\n",
       "      <td>MAIN</td>\n",
       "      <td>Tacrolimus</td>\n",
       "      <td>Tacrolimus</td>\n",
       "      <td>Tacrolimus</td>\n",
       "      <td>TACR1</td>\n",
       "      <td>021796</td>\n",
       "      <td>00469061711</td>\n",
       "      <td>1mg Capsule</td>\n",
       "      <td>2</td>\n",
       "      <td>mg</td>\n",
       "      <td>2</td>\n",
       "      <td>CAP</td>\n",
       "      <td>PO</td>\n",
       "    </tr>\n",
       "    <tr>\n",
       "      <th>1</th>\n",
       "      <td>2214775</td>\n",
       "      <td>6</td>\n",
       "      <td>107064</td>\n",
       "      <td>NaN</td>\n",
       "      <td>2175-06-11 00:00:00</td>\n",
       "      <td>2175-06-12 00:00:00</td>\n",
       "      <td>MAIN</td>\n",
       "      <td>Warfarin</td>\n",
       "      <td>Warfarin</td>\n",
       "      <td>Warfarin</td>\n",
       "      <td>WARF5</td>\n",
       "      <td>006562</td>\n",
       "      <td>00056017275</td>\n",
       "      <td>5mg Tablet</td>\n",
       "      <td>5</td>\n",
       "      <td>mg</td>\n",
       "      <td>1</td>\n",
       "      <td>TAB</td>\n",
       "      <td>PO</td>\n",
       "    </tr>\n",
       "    <tr>\n",
       "      <th>2</th>\n",
       "      <td>2215524</td>\n",
       "      <td>6</td>\n",
       "      <td>107064</td>\n",
       "      <td>NaN</td>\n",
       "      <td>2175-06-11 00:00:00</td>\n",
       "      <td>2175-06-12 00:00:00</td>\n",
       "      <td>MAIN</td>\n",
       "      <td>Heparin Sodium</td>\n",
       "      <td>NaN</td>\n",
       "      <td>NaN</td>\n",
       "      <td>HEPAPREMIX</td>\n",
       "      <td>006522</td>\n",
       "      <td>00338055002</td>\n",
       "      <td>25,000 unit Premix Bag</td>\n",
       "      <td>25,000</td>\n",
       "      <td>UNIT</td>\n",
       "      <td>1</td>\n",
       "      <td>BAG</td>\n",
       "      <td>IV</td>\n",
       "    </tr>\n",
       "    <tr>\n",
       "      <th>3</th>\n",
       "      <td>2216265</td>\n",
       "      <td>6</td>\n",
       "      <td>107064</td>\n",
       "      <td>NaN</td>\n",
       "      <td>2175-06-11 00:00:00</td>\n",
       "      <td>2175-06-12 00:00:00</td>\n",
       "      <td>BASE</td>\n",
       "      <td>D5W</td>\n",
       "      <td>NaN</td>\n",
       "      <td>NaN</td>\n",
       "      <td>HEPBASE</td>\n",
       "      <td>NaN</td>\n",
       "      <td>0</td>\n",
       "      <td>HEPARIN BASE</td>\n",
       "      <td>250</td>\n",
       "      <td>ml</td>\n",
       "      <td>250</td>\n",
       "      <td>ml</td>\n",
       "      <td>IV</td>\n",
       "    </tr>\n",
       "    <tr>\n",
       "      <th>4</th>\n",
       "      <td>2214773</td>\n",
       "      <td>6</td>\n",
       "      <td>107064</td>\n",
       "      <td>NaN</td>\n",
       "      <td>2175-06-11 00:00:00</td>\n",
       "      <td>2175-06-12 00:00:00</td>\n",
       "      <td>MAIN</td>\n",
       "      <td>Furosemide</td>\n",
       "      <td>Furosemide</td>\n",
       "      <td>Furosemide</td>\n",
       "      <td>FURO20</td>\n",
       "      <td>008208</td>\n",
       "      <td>00054829725</td>\n",
       "      <td>20mg Tablet</td>\n",
       "      <td>20</td>\n",
       "      <td>mg</td>\n",
       "      <td>1</td>\n",
       "      <td>TAB</td>\n",
       "      <td>PO</td>\n",
       "    </tr>\n",
       "  </tbody>\n",
       "</table>\n",
       "</div>"
      ],
      "text/plain": [
       "    ROW_ID  SUBJECT_ID  HADM_ID  ICUSTAY_ID            STARTDATE  \\\n",
       "0  2214776           6   107064         NaN  2175-06-11 00:00:00   \n",
       "1  2214775           6   107064         NaN  2175-06-11 00:00:00   \n",
       "2  2215524           6   107064         NaN  2175-06-11 00:00:00   \n",
       "3  2216265           6   107064         NaN  2175-06-11 00:00:00   \n",
       "4  2214773           6   107064         NaN  2175-06-11 00:00:00   \n",
       "\n",
       "               ENDDATE DRUG_TYPE            DRUG DRUG_NAME_POE  \\\n",
       "0  2175-06-12 00:00:00      MAIN      Tacrolimus    Tacrolimus   \n",
       "1  2175-06-12 00:00:00      MAIN        Warfarin      Warfarin   \n",
       "2  2175-06-12 00:00:00      MAIN  Heparin Sodium           NaN   \n",
       "3  2175-06-12 00:00:00      BASE             D5W           NaN   \n",
       "4  2175-06-12 00:00:00      MAIN      Furosemide    Furosemide   \n",
       "\n",
       "  DRUG_NAME_GENERIC FORMULARY_DRUG_CD     GSN          NDC  \\\n",
       "0        Tacrolimus             TACR1  021796  00469061711   \n",
       "1          Warfarin             WARF5  006562  00056017275   \n",
       "2               NaN        HEPAPREMIX  006522  00338055002   \n",
       "3               NaN           HEPBASE     NaN            0   \n",
       "4        Furosemide            FURO20  008208  00054829725   \n",
       "\n",
       "            PROD_STRENGTH DOSE_VAL_RX DOSE_UNIT_RX FORM_VAL_DISP  \\\n",
       "0             1mg Capsule           2           mg             2   \n",
       "1              5mg Tablet           5           mg             1   \n",
       "2  25,000 unit Premix Bag      25,000         UNIT             1   \n",
       "3            HEPARIN BASE         250           ml           250   \n",
       "4             20mg Tablet          20           mg             1   \n",
       "\n",
       "  FORM_UNIT_DISP ROUTE  \n",
       "0            CAP    PO  \n",
       "1            TAB    PO  \n",
       "2            BAG    IV  \n",
       "3             ml    IV  \n",
       "4            TAB    PO  "
      ]
     },
     "execution_count": 4,
     "metadata": {},
     "output_type": "execute_result"
    }
   ],
   "source": [
    "pres_df = read_data(join(read_prefix,\"PRESCRIPTIONS\"),dtype={'NDC':str})\n",
    "pres_df.head()"
   ]
  },
  {
   "cell_type": "code",
   "execution_count": 7,
   "metadata": {},
   "outputs": [],
   "source": [
    "pres_ndc_name = pres_df[['NDC','DRUG']].drop_duplicates()"
   ]
  },
  {
   "cell_type": "code",
   "execution_count": 15,
   "metadata": {},
   "outputs": [
    {
     "data": {
      "text/html": [
       "<div>\n",
       "<style scoped>\n",
       "    .dataframe tbody tr th:only-of-type {\n",
       "        vertical-align: middle;\n",
       "    }\n",
       "\n",
       "    .dataframe tbody tr th {\n",
       "        vertical-align: top;\n",
       "    }\n",
       "\n",
       "    .dataframe thead th {\n",
       "        text-align: right;\n",
       "    }\n",
       "</style>\n",
       "<table border=\"1\" class=\"dataframe\">\n",
       "  <thead>\n",
       "    <tr style=\"text-align: right;\">\n",
       "      <th></th>\n",
       "      <th>NDC</th>\n",
       "      <th>index</th>\n",
       "      <th>DRUG</th>\n",
       "    </tr>\n",
       "  </thead>\n",
       "  <tbody>\n",
       "    <tr>\n",
       "      <th>0</th>\n",
       "      <td>00025152031</td>\n",
       "      <td>drug_0</td>\n",
       "      <td>Celebrex</td>\n",
       "    </tr>\n",
       "    <tr>\n",
       "      <th>1</th>\n",
       "      <td>00025152031</td>\n",
       "      <td>drug_0</td>\n",
       "      <td>Celecoxib</td>\n",
       "    </tr>\n",
       "    <tr>\n",
       "      <th>2</th>\n",
       "      <td>00025152031</td>\n",
       "      <td>drug_0</td>\n",
       "      <td>CeleBREX</td>\n",
       "    </tr>\n",
       "    <tr>\n",
       "      <th>3</th>\n",
       "      <td>00025152031</td>\n",
       "      <td>drug_0</td>\n",
       "      <td>celecoxib</td>\n",
       "    </tr>\n",
       "    <tr>\n",
       "      <th>4</th>\n",
       "      <td>00025152531</td>\n",
       "      <td>drug_1</td>\n",
       "      <td>Celecoxib</td>\n",
       "    </tr>\n",
       "    <tr>\n",
       "      <th>5</th>\n",
       "      <td>00025152531</td>\n",
       "      <td>drug_1</td>\n",
       "      <td>Celebrex</td>\n",
       "    </tr>\n",
       "    <tr>\n",
       "      <th>6</th>\n",
       "      <td>00025152531</td>\n",
       "      <td>drug_1</td>\n",
       "      <td>CeleBREX</td>\n",
       "    </tr>\n",
       "    <tr>\n",
       "      <th>7</th>\n",
       "      <td>00025152531</td>\n",
       "      <td>drug_1</td>\n",
       "      <td>celecoxib</td>\n",
       "    </tr>\n",
       "    <tr>\n",
       "      <th>8</th>\n",
       "      <td>24208063562</td>\n",
       "      <td>drug_2</td>\n",
       "      <td>Neomycin-Polymyxin-HC Otic Susp</td>\n",
       "    </tr>\n",
       "    <tr>\n",
       "      <th>9</th>\n",
       "      <td>00338114703</td>\n",
       "      <td>drug_3</td>\n",
       "      <td>Amino Acids 5%-Dextrose 15%</td>\n",
       "    </tr>\n",
       "    <tr>\n",
       "      <th>10</th>\n",
       "      <td>00338114403</td>\n",
       "      <td>drug_4</td>\n",
       "      <td>Amino Acids 4.25% W/ Dextrose 5%</td>\n",
       "    </tr>\n",
       "    <tr>\n",
       "      <th>11</th>\n",
       "      <td>00338114403</td>\n",
       "      <td>drug_4</td>\n",
       "      <td>Amino Acids 4.25%-Dextrose 5%</td>\n",
       "    </tr>\n",
       "    <tr>\n",
       "      <th>12</th>\n",
       "      <td>00555080802</td>\n",
       "      <td>drug_5</td>\n",
       "      <td>Tretinoin (ATRA-All Transretinoic Acid)</td>\n",
       "    </tr>\n",
       "    <tr>\n",
       "      <th>13</th>\n",
       "      <td>00555080802</td>\n",
       "      <td>drug_5</td>\n",
       "      <td>ve</td>\n",
       "    </tr>\n",
       "    <tr>\n",
       "      <th>14</th>\n",
       "      <td>00555080802</td>\n",
       "      <td>drug_5</td>\n",
       "      <td>Tretinoin Suspension</td>\n",
       "    </tr>\n",
       "    <tr>\n",
       "      <th>15</th>\n",
       "      <td>00555080802</td>\n",
       "      <td>drug_5</td>\n",
       "      <td>Tretinoin</td>\n",
       "    </tr>\n",
       "    <tr>\n",
       "      <th>16</th>\n",
       "      <td>00472011720</td>\n",
       "      <td>drug_6</td>\n",
       "      <td>Tretinoin 0.025% Cream</td>\n",
       "    </tr>\n",
       "    <tr>\n",
       "      <th>17</th>\n",
       "      <td>00264934155</td>\n",
       "      <td>drug_7</td>\n",
       "      <td>Starter PN D10</td>\n",
       "    </tr>\n",
       "    <tr>\n",
       "      <th>18</th>\n",
       "      <td>00264934155</td>\n",
       "      <td>drug_7</td>\n",
       "      <td>Starter PN D5</td>\n",
       "    </tr>\n",
       "    <tr>\n",
       "      <th>19</th>\n",
       "      <td>49702020218</td>\n",
       "      <td>drug_8</td>\n",
       "      <td>LaMIVudine-Zidovudine (Combivir)</td>\n",
       "    </tr>\n",
       "    <tr>\n",
       "      <th>20</th>\n",
       "      <td>61958070101</td>\n",
       "      <td>drug_9</td>\n",
       "      <td>Emtricitabine-Tenofovir</td>\n",
       "    </tr>\n",
       "    <tr>\n",
       "      <th>21</th>\n",
       "      <td>61958070101</td>\n",
       "      <td>drug_9</td>\n",
       "      <td>Emtricitabine-Tenofovir (Truvada)</td>\n",
       "    </tr>\n",
       "    <tr>\n",
       "      <th>22</th>\n",
       "      <td>61958070101</td>\n",
       "      <td>drug_9</td>\n",
       "      <td>Truvada</td>\n",
       "    </tr>\n",
       "  </tbody>\n",
       "</table>\n",
       "</div>"
      ],
      "text/plain": [
       "            NDC   index                                     DRUG\n",
       "0   00025152031  drug_0                                 Celebrex\n",
       "1   00025152031  drug_0                                Celecoxib\n",
       "2   00025152031  drug_0                                 CeleBREX\n",
       "3   00025152031  drug_0                                celecoxib\n",
       "4   00025152531  drug_1                                Celecoxib\n",
       "5   00025152531  drug_1                                 Celebrex\n",
       "6   00025152531  drug_1                                 CeleBREX\n",
       "7   00025152531  drug_1                                celecoxib\n",
       "8   24208063562  drug_2          Neomycin-Polymyxin-HC Otic Susp\n",
       "9   00338114703  drug_3              Amino Acids 5%-Dextrose 15%\n",
       "10  00338114403  drug_4         Amino Acids 4.25% W/ Dextrose 5%\n",
       "11  00338114403  drug_4            Amino Acids 4.25%-Dextrose 5%\n",
       "12  00555080802  drug_5  Tretinoin (ATRA-All Transretinoic Acid)\n",
       "13  00555080802  drug_5                                       ve\n",
       "14  00555080802  drug_5                     Tretinoin Suspension\n",
       "15  00555080802  drug_5                               Tretinoin \n",
       "16  00472011720  drug_6                   Tretinoin 0.025% Cream\n",
       "17  00264934155  drug_7                           Starter PN D10\n",
       "18  00264934155  drug_7                            Starter PN D5\n",
       "19  49702020218  drug_8         LaMIVudine-Zidovudine (Combivir)\n",
       "20  61958070101  drug_9                  Emtricitabine-Tenofovir\n",
       "21  61958070101  drug_9        Emtricitabine-Tenofovir (Truvada)\n",
       "22  61958070101  drug_9                                  Truvada"
      ]
     },
     "execution_count": 15,
     "metadata": {},
     "output_type": "execute_result"
    }
   ],
   "source": [
    "## find_top10 drugs\n",
    "top10_NDC_ade = read_data(join(write_prefix,'top10_NDC_ade'),dtype={'NDC':str})\n",
    "top10_NDCs = top10_NDC_ade[['NDC']]\n",
    "top10_NDCs['index']=[\"drug_%d\" % i for i in list(range(len(top10_NDCs)))]\n",
    "top_drug_name = left_join(top10_NDCs, pres_ndc_name, 'NDC')\n",
    "top_drug_name"
   ]
  },
  {
   "cell_type": "markdown",
   "metadata": {},
   "source": [
    "## Get Matrix of All Patients and All Items"
   ]
  },
  {
   "cell_type": "code",
   "execution_count": 5,
   "metadata": {},
   "outputs": [],
   "source": [
    "diag_disease_all = diag_df[['SUBJECT_ID','ICD9_CODE','HADM_ID']].dropna().drop_duplicates()\n",
    "pres_drug_all = pres_df[['SUBJECT_ID','NDC','HADM_ID']].dropna().drop_duplicates()\n",
    "pres_drug_all = pres_drug_all[pres_drug_all['NDC']!='0']"
   ]
  },
  {
   "cell_type": "code",
   "execution_count": 6,
   "metadata": {},
   "outputs": [
    {
     "name": "stdout",
     "output_type": "stream",
     "text": [
      "Diagnoses: 46517 patients and 6984 diseases\n",
      "Prescriptions: 39357 patients and 4203 diseases\n"
     ]
    }
   ],
   "source": [
    "print(\"Diagnoses: %d patients and %d diseases\" \n",
    "      %(len(diag_disease_all.SUBJECT_ID.unique()),len(diag_disease_all.ICD9_CODE.unique())))\n",
    "print(\"Prescriptions: %d patients and %d diseases\" \n",
    "      %(len(pres_drug_all.SUBJECT_ID.unique()),len(pres_drug_all.NDC.unique())))"
   ]
  },
  {
   "cell_type": "code",
   "execution_count": 7,
   "metadata": {},
   "outputs": [
    {
     "data": {
      "text/html": [
       "<div>\n",
       "<style scoped>\n",
       "    .dataframe tbody tr th:only-of-type {\n",
       "        vertical-align: middle;\n",
       "    }\n",
       "\n",
       "    .dataframe tbody tr th {\n",
       "        vertical-align: top;\n",
       "    }\n",
       "\n",
       "    .dataframe thead th {\n",
       "        text-align: right;\n",
       "    }\n",
       "</style>\n",
       "<table border=\"1\" class=\"dataframe\">\n",
       "  <thead>\n",
       "    <tr style=\"text-align: right;\">\n",
       "      <th></th>\n",
       "      <th>SUBJECT_ID</th>\n",
       "      <th>HADM_ID_x</th>\n",
       "      <th>HADM_ID_y</th>\n",
       "    </tr>\n",
       "  </thead>\n",
       "  <tbody>\n",
       "    <tr>\n",
       "      <th>16</th>\n",
       "      <td>109</td>\n",
       "      <td>172335</td>\n",
       "      <td>172335</td>\n",
       "    </tr>\n",
       "    <tr>\n",
       "      <th>36</th>\n",
       "      <td>109</td>\n",
       "      <td>173633</td>\n",
       "      <td>173633</td>\n",
       "    </tr>\n",
       "    <tr>\n",
       "      <th>88</th>\n",
       "      <td>109</td>\n",
       "      <td>126055</td>\n",
       "      <td>126055</td>\n",
       "    </tr>\n",
       "    <tr>\n",
       "      <th>123</th>\n",
       "      <td>109</td>\n",
       "      <td>128755</td>\n",
       "      <td>128755</td>\n",
       "    </tr>\n",
       "    <tr>\n",
       "      <th>165</th>\n",
       "      <td>109</td>\n",
       "      <td>131345</td>\n",
       "      <td>131345</td>\n",
       "    </tr>\n",
       "  </tbody>\n",
       "</table>\n",
       "</div>"
      ],
      "text/plain": [
       "     SUBJECT_ID  HADM_ID_x  HADM_ID_y\n",
       "16          109     172335     172335\n",
       "36          109     173633     173633\n",
       "88          109     126055     126055\n",
       "123         109     128755     128755\n",
       "165         109     131345     131345"
      ]
     },
     "execution_count": 7,
     "metadata": {},
     "output_type": "execute_result"
    }
   ],
   "source": [
    "## randomly select one HADM_ID for each patient\n",
    "diag_hadm_all = inner_join(diag_disease_all[['SUBJECT_ID','HADM_ID']].drop_duplicates(),\\\n",
    "                           pres_drug_all[['SUBJECT_ID','HADM_ID']].drop_duplicates(),'SUBJECT_ID')\n",
    "diag_hadm_all = diag_hadm_all[diag_hadm_all['HADM_ID_x']==diag_hadm_all['HADM_ID_y']]\n",
    "diag_hadm_all.head()"
   ]
  },
  {
   "cell_type": "code",
   "execution_count": 8,
   "metadata": {},
   "outputs": [],
   "source": [
    "size = 1        # sample size\n",
    "## ramdonly get a sample hadm_id from each patient's record\n",
    "fn = lambda obj: obj.loc[np.random.choice(obj.index, size),:]\n",
    "hadm_all = diag_hadm_all.groupby('SUBJECT_ID', as_index=False).apply(fn)['HADM_ID_x']"
   ]
  },
  {
   "cell_type": "code",
   "execution_count": null,
   "metadata": {},
   "outputs": [],
   "source": [
    "diag_hadm = diag_disease_all[diag_disease_all['HADM_ID'].isin(hadm_all)][['SUBJECT_ID','ICD9_CODE']]\n",
    "pres_hadm = pres_drug_all[pres_drug_all['HADM_ID'].isin(hadm_all)][['SUBJECT_ID','NDC']]\n",
    "diag_hadm.head()"
   ]
  },
  {
   "cell_type": "code",
   "execution_count": null,
   "metadata": {},
   "outputs": [],
   "source": [
    "diag_hadm['VALUE']=1\n",
    "pres_hadm['VALUE']=1"
   ]
  },
  {
   "cell_type": "code",
   "execution_count": null,
   "metadata": {},
   "outputs": [],
   "source": [
    "diag_matrix = diag_hadm.pivot(index='SUBJECT_ID', columns='ICD9_CODE', values='VALUE').fillna(0).reset_index()\n",
    "diag_matrix.head()"
   ]
  },
  {
   "cell_type": "code",
   "execution_count": null,
   "metadata": {},
   "outputs": [],
   "source": [
    "pres_matrix = pres_hadm.pivot(index='SUBJECT_ID', columns='NDC', values='VALUE').fillna(0).reset_index()\n",
    "pres_matrix.head()"
   ]
  },
  {
   "cell_type": "code",
   "execution_count": null,
   "metadata": {},
   "outputs": [],
   "source": [
    "print(\"diag_shape: %s \\npres_shape: %s\"%(diag_matrix.shape,pres_matrix.shape))"
   ]
  },
  {
   "cell_type": "code",
   "execution_count": null,
   "metadata": {},
   "outputs": [],
   "source": [
    "write2file(diag_matrix,join(write_prefix,\"diag_matrix\"))\n",
    "write2file(pres_matrix,join(write_prefix,\"pres_matrix\"))"
   ]
  },
  {
   "cell_type": "markdown",
   "metadata": {},
   "source": [
    "## Sampling"
   ]
  },
  {
   "cell_type": "code",
   "execution_count": null,
   "metadata": {},
   "outputs": [],
   "source": [
    "diag_disease_all = diag_df[['ICD9_CODE']].dropna().drop_duplicates()\n",
    "pres_drug_all = pres_df[['NDC']].dropna().drop_duplicates()\n",
    "sample_disease_1000 = diag_disease_all.sample(n=1000, random_state=2019)\n",
    "sample_drug_1000 = pres_drug_all.sample(n=1000, random_state=2019)"
   ]
  },
  {
   "cell_type": "code",
   "execution_count": null,
   "metadata": {},
   "outputs": [],
   "source": [
    "diag_df_1000 = diag_df[diag_df['ICD9_CODE'].isin(sample_disease_1000['ICD9_CODE'])]\n",
    "pres_df_1000 = pres_df[pres_df['NDC'].isin(sample_drug_1000['NDC'])]\n",
    "\n",
    "write2file(diag_df_1000,join(write_prefix,\"diag_df_1kdisease\"))\n",
    "write2file(pres_df_1000,join(write_prefix,\"pres_df_1kdrug\"))"
   ]
  },
  {
   "cell_type": "code",
   "execution_count": null,
   "metadata": {},
   "outputs": [],
   "source": [
    "## select common 1000 users after filter 1000 drugs and diseases\n",
    "common_user_all = inner_join(diag_df_1000[['SUBJECT_ID']].drop_duplicates(),\\\n",
    "                             pres_df_1000[['SUBJECT_ID']].drop_duplicates(),'SUBJECT_ID')\n",
    "sample_user_1000 = common_user_all.sample(n=1000, random_state=2019)\n",
    "diag_df_1k_1k = diag_df_1000[diag_df_1000['SUBJECT_ID'].isin(sample_user_1000['SUBJECT_ID'])]\n",
    "pres_df_1k_1k = pres_df_1000[pres_df_1000['SUBJECT_ID'].isin(sample_user_1000['SUBJECT_ID'])]"
   ]
  },
  {
   "cell_type": "code",
   "execution_count": null,
   "metadata": {},
   "outputs": [],
   "source": [
    "write2file(diag_df_1k_1k,join(write_prefix,\"diag_df_1k_1k\"))\n",
    "write2file(pres_df_1k_1k,join(write_prefix,\"pres_df_1k_1k\"))"
   ]
  },
  {
   "cell_type": "markdown",
   "metadata": {},
   "source": [
    "## Diag_df_1000 -> patients*clusters  *  cluster*elements"
   ]
  },
  {
   "cell_type": "code",
   "execution_count": null,
   "metadata": {},
   "outputs": [],
   "source": [
    "diag_df_1k_1k = read_data(join(write_prefix,\"diag_df_1k_1k\"))\n",
    "pres_df_1k_1k = read_data(join(write_prefix,\"pres_df_1k_1k\"))"
   ]
  },
  {
   "cell_type": "code",
   "execution_count": null,
   "metadata": {},
   "outputs": [],
   "source": [
    "diag_df_1k_1k.head()"
   ]
  },
  {
   "cell_type": "code",
   "execution_count": null,
   "metadata": {},
   "outputs": [],
   "source": [
    "## randomly select one HADM_ID for each patient\n",
    "diag_hadm_all = inner_join(diag_df_1k_1k[['SUBJECT_ID','HADM_ID']].drop_duplicates(),\\\n",
    "                           pres_df_1k_1k[['SUBJECT_ID','HADM_ID']].drop_duplicates(),'SUBJECT_ID')\n",
    "diag_hadm_all = diag_hadm_all[diag_hadm_all['HADM_ID_x']==diag_hadm_all['HADM_ID_y']]\n",
    "diag_hadm_all.head()"
   ]
  },
  {
   "cell_type": "code",
   "execution_count": null,
   "metadata": {},
   "outputs": [],
   "source": [
    "size = 1        # sample size\n",
    "fn = lambda obj: obj.loc[np.random.choice(obj.index, size),:]\n",
    "sample_hadm_1k = diag_hadm_all.groupby('SUBJECT_ID', as_index=False).apply(fn)['HADM_ID_x']"
   ]
  },
  {
   "cell_type": "code",
   "execution_count": null,
   "metadata": {},
   "outputs": [],
   "source": [
    "diag_df_1k_1k_hadm = diag_df_1k_1k[diag_df_1k_1k['HADM_ID']\\\n",
    "                                   .isin(sample_hadm_1k)][['SUBJECT_ID','ICD9_CODE']].drop_duplicates()\n",
    "diag_df_1k_1k_hadm['VALUE']=1"
   ]
  },
  {
   "cell_type": "code",
   "execution_count": null,
   "metadata": {},
   "outputs": [],
   "source": [
    "diag_matrix = diag_df_1k_1k_hadm.pivot(index='SUBJECT_ID', columns='ICD9_CODE', values='VALUE').fillna(0).reset_index()\n",
    "print(diag_matrix.shape)\n",
    "diag_matrix.head()"
   ]
  },
  {
   "cell_type": "code",
   "execution_count": null,
   "metadata": {},
   "outputs": [],
   "source": [
    "pres_df_1k_1k_hadm = pres_df_1k_1k[pres_df_1k_1k['HADM_ID']\\\n",
    "                                   .isin(sample_hadm_1k)][['SUBJECT_ID','NDC']].drop_duplicates()\n",
    "pres_df_1k_1k_hadm['VALUE']=1\n"
   ]
  },
  {
   "cell_type": "code",
   "execution_count": null,
   "metadata": {},
   "outputs": [],
   "source": [
    "pres_matrix = pres_df_1k_1k_hadm.pivot(index='SUBJECT_ID', columns='NDC', values='VALUE').fillna(0).reset_index()\n",
    "print(pres_matrix.shape)\n",
    "pres_matrix.head()\n"
   ]
  },
  {
   "cell_type": "code",
   "execution_count": null,
   "metadata": {},
   "outputs": [],
   "source": [
    "write2file(diag_matrix,join(write_prefix,\"diag_matrix\"))\n",
    "write2file(pres_matrix,join(write_prefix,\"pres_matrix\"))"
   ]
  },
  {
   "cell_type": "markdown",
   "metadata": {},
   "source": [
    "## Reading matrix data"
   ]
  },
  {
   "cell_type": "code",
   "execution_count": null,
   "metadata": {},
   "outputs": [],
   "source": [
    "## Select top10 drugs in sider4\n",
    "sideffect_prefix = '/data/liu/adverse_events'\n",
    "ade_df = read_data(join(sideffect_prefix, 'ndc_icd9_side_effects'), dtype={'NDC':str, 'ICD_CODE':str})\n",
    "ade_df.head()"
   ]
  },
  {
   "cell_type": "code",
   "execution_count": 3,
   "metadata": {},
   "outputs": [],
   "source": [
    "## OP1: All columns\n",
    "# diag_raw_matrix = read_data(join(write_prefix, \"diag_matrix\"))\n",
    "# pres_raw_matrix = read_data(join(write_prefix,\"pres_matrix\"))\n",
    "# diag_raw_matrix.head()\n",
    "\n",
    "# diag_patient, diag_matrix = diag_raw_matrix.iloc[:,0], diag_raw_matrix.iloc[:,1:]\n",
    "# pres_patient, pres_matrix = pres_raw_matrix.iloc[:,0], pres_raw_matrix.iloc[:,1:]\n",
    "\n",
    "diag_matrix = read_data(join(write_prefix, \"diag_matrix\"))\n",
    "pres_matrix = read_data(join(write_prefix,\"pres_matrix\"))\n"
   ]
  },
  {
   "cell_type": "code",
   "execution_count": 27,
   "metadata": {},
   "outputs": [],
   "source": [
    "## OP2: Top a few columns\n",
    "diag_matrix_filtered = read_data(join(write_prefix,\"diag_matrix_filtered\"))\n",
    "pres_matrix_filtered = read_data(join(write_prefix,\"pres_matrix_filtered\"))"
   ]
  },
  {
   "cell_type": "markdown",
   "metadata": {},
   "source": [
    "## Validation"
   ]
  },
  {
   "cell_type": "code",
   "execution_count": 41,
   "metadata": {},
   "outputs": [
    {
     "data": {
      "text/html": [
       "<div>\n",
       "<style scoped>\n",
       "    .dataframe tbody tr th:only-of-type {\n",
       "        vertical-align: middle;\n",
       "    }\n",
       "\n",
       "    .dataframe tbody tr th {\n",
       "        vertical-align: top;\n",
       "    }\n",
       "\n",
       "    .dataframe thead th {\n",
       "        text-align: right;\n",
       "    }\n",
       "</style>\n",
       "<table border=\"1\" class=\"dataframe\">\n",
       "  <thead>\n",
       "    <tr style=\"text-align: right;\">\n",
       "      <th></th>\n",
       "      <th>ROW_ID</th>\n",
       "      <th>ICD9_CODE</th>\n",
       "      <th>SHORT_TITLE</th>\n",
       "      <th>LONG_TITLE</th>\n",
       "    </tr>\n",
       "  </thead>\n",
       "  <tbody>\n",
       "    <tr>\n",
       "      <th>3561</th>\n",
       "      <td>3945</td>\n",
       "      <td>36221</td>\n",
       "      <td>Retrolental fibroplasia</td>\n",
       "      <td>Retrolental fibroplasia</td>\n",
       "    </tr>\n",
       "    <tr>\n",
       "      <th>5016</th>\n",
       "      <td>5396</td>\n",
       "      <td>4589</td>\n",
       "      <td>Hypotension NOS</td>\n",
       "      <td>Hypotension, unspecified</td>\n",
       "    </tr>\n",
       "    <tr>\n",
       "      <th>6009</th>\n",
       "      <td>6013</td>\n",
       "      <td>53081</td>\n",
       "      <td>Esophageal reflux</td>\n",
       "      <td>Esophageal reflux</td>\n",
       "    </tr>\n",
       "    <tr>\n",
       "      <th>13137</th>\n",
       "      <td>12986</td>\n",
       "      <td>7852</td>\n",
       "      <td>Cardiac murmurs NEC</td>\n",
       "      <td>Undiagnosed cardiac murmurs</td>\n",
       "    </tr>\n",
       "  </tbody>\n",
       "</table>\n",
       "</div>"
      ],
      "text/plain": [
       "       ROW_ID ICD9_CODE              SHORT_TITLE                   LONG_TITLE\n",
       "3561     3945     36221  Retrolental fibroplasia      Retrolental fibroplasia\n",
       "5016     5396      4589          Hypotension NOS     Hypotension, unspecified\n",
       "6009     6013     53081        Esophageal reflux            Esophageal reflux\n",
       "13137   12986      7852      Cardiac murmurs NEC  Undiagnosed cardiac murmurs"
      ]
     },
     "execution_count": 41,
     "metadata": {},
     "output_type": "execute_result"
    }
   ],
   "source": [
    "mimic_disease = read_data(join(read_prefix,\"D_ICD_DIAGNOSES\"),dtype={'ICD9_CODE':str})\n",
    "mimic_disease[mimic_disease['ICD9_CODE'].isin(matched_disease)]"
   ]
  },
  {
   "cell_type": "code",
   "execution_count": 50,
   "metadata": {},
   "outputs": [
    {
     "data": {
      "text/html": [
       "<div>\n",
       "<style scoped>\n",
       "    .dataframe tbody tr th:only-of-type {\n",
       "        vertical-align: middle;\n",
       "    }\n",
       "\n",
       "    .dataframe tbody tr th {\n",
       "        vertical-align: top;\n",
       "    }\n",
       "\n",
       "    .dataframe thead th {\n",
       "        text-align: right;\n",
       "    }\n",
       "</style>\n",
       "<table border=\"1\" class=\"dataframe\">\n",
       "  <thead>\n",
       "    <tr style=\"text-align: right;\">\n",
       "      <th></th>\n",
       "      <th>NDC</th>\n",
       "      <th>DRUG</th>\n",
       "    </tr>\n",
       "  </thead>\n",
       "  <tbody>\n",
       "    <tr>\n",
       "      <th>1394</th>\n",
       "      <td>00338114403</td>\n",
       "      <td>Amino Acids 4.25% W/ Dextrose 5%</td>\n",
       "    </tr>\n",
       "    <tr>\n",
       "      <th>3989</th>\n",
       "      <td>00264934155</td>\n",
       "      <td>Starter PN D10</td>\n",
       "    </tr>\n",
       "    <tr>\n",
       "      <th>4952</th>\n",
       "      <td>00264934155</td>\n",
       "      <td>Starter PN D5</td>\n",
       "    </tr>\n",
       "    <tr>\n",
       "      <th>30497</th>\n",
       "      <td>61958070101</td>\n",
       "      <td>Emtricitabine-Tenofovir</td>\n",
       "    </tr>\n",
       "    <tr>\n",
       "      <th>42287</th>\n",
       "      <td>00338114703</td>\n",
       "      <td>Amino Acids 5%-Dextrose 15%</td>\n",
       "    </tr>\n",
       "    <tr>\n",
       "      <th>69573</th>\n",
       "      <td>00025152531</td>\n",
       "      <td>Celecoxib</td>\n",
       "    </tr>\n",
       "    <tr>\n",
       "      <th>86309</th>\n",
       "      <td>00025152531</td>\n",
       "      <td>Celebrex</td>\n",
       "    </tr>\n",
       "    <tr>\n",
       "      <th>170619</th>\n",
       "      <td>61958070101</td>\n",
       "      <td>Emtricitabine-Tenofovir (Truvada)</td>\n",
       "    </tr>\n",
       "    <tr>\n",
       "      <th>208002</th>\n",
       "      <td>00025152031</td>\n",
       "      <td>Celebrex</td>\n",
       "    </tr>\n",
       "    <tr>\n",
       "      <th>505887</th>\n",
       "      <td>49702020218</td>\n",
       "      <td>LaMIVudine-Zidovudine (Combivir)</td>\n",
       "    </tr>\n",
       "    <tr>\n",
       "      <th>521268</th>\n",
       "      <td>00025152031</td>\n",
       "      <td>Celecoxib</td>\n",
       "    </tr>\n",
       "    <tr>\n",
       "      <th>787395</th>\n",
       "      <td>61958070101</td>\n",
       "      <td>Truvada</td>\n",
       "    </tr>\n",
       "    <tr>\n",
       "      <th>1422725</th>\n",
       "      <td>00338114403</td>\n",
       "      <td>Amino Acids 4.25%-Dextrose 5%</td>\n",
       "    </tr>\n",
       "    <tr>\n",
       "      <th>1524588</th>\n",
       "      <td>00025152031</td>\n",
       "      <td>CeleBREX</td>\n",
       "    </tr>\n",
       "    <tr>\n",
       "      <th>1965795</th>\n",
       "      <td>00025152531</td>\n",
       "      <td>CeleBREX</td>\n",
       "    </tr>\n",
       "    <tr>\n",
       "      <th>2283255</th>\n",
       "      <td>24208063562</td>\n",
       "      <td>Neomycin-Polymyxin-HC Otic Susp</td>\n",
       "    </tr>\n",
       "    <tr>\n",
       "      <th>2492136</th>\n",
       "      <td>00472011720</td>\n",
       "      <td>Tretinoin 0.025% Cream</td>\n",
       "    </tr>\n",
       "    <tr>\n",
       "      <th>2608971</th>\n",
       "      <td>00555080802</td>\n",
       "      <td>Tretinoin (ATRA-All Transretinoic Acid)</td>\n",
       "    </tr>\n",
       "    <tr>\n",
       "      <th>2619830</th>\n",
       "      <td>00555080802</td>\n",
       "      <td>ve</td>\n",
       "    </tr>\n",
       "    <tr>\n",
       "      <th>2877492</th>\n",
       "      <td>00025152531</td>\n",
       "      <td>celecoxib</td>\n",
       "    </tr>\n",
       "    <tr>\n",
       "      <th>3289975</th>\n",
       "      <td>00025152031</td>\n",
       "      <td>celecoxib</td>\n",
       "    </tr>\n",
       "    <tr>\n",
       "      <th>3382568</th>\n",
       "      <td>00555080802</td>\n",
       "      <td>Tretinoin Suspension</td>\n",
       "    </tr>\n",
       "    <tr>\n",
       "      <th>3383387</th>\n",
       "      <td>00555080802</td>\n",
       "      <td>Tretinoin</td>\n",
       "    </tr>\n",
       "  </tbody>\n",
       "</table>\n",
       "</div>"
      ],
      "text/plain": [
       "                 NDC                                     DRUG\n",
       "1394     00338114403         Amino Acids 4.25% W/ Dextrose 5%\n",
       "3989     00264934155                           Starter PN D10\n",
       "4952     00264934155                            Starter PN D5\n",
       "30497    61958070101                  Emtricitabine-Tenofovir\n",
       "42287    00338114703              Amino Acids 5%-Dextrose 15%\n",
       "69573    00025152531                                Celecoxib\n",
       "86309    00025152531                                 Celebrex\n",
       "170619   61958070101        Emtricitabine-Tenofovir (Truvada)\n",
       "208002   00025152031                                 Celebrex\n",
       "505887   49702020218         LaMIVudine-Zidovudine (Combivir)\n",
       "521268   00025152031                                Celecoxib\n",
       "787395   61958070101                                  Truvada\n",
       "1422725  00338114403            Amino Acids 4.25%-Dextrose 5%\n",
       "1524588  00025152031                                 CeleBREX\n",
       "1965795  00025152531                                 CeleBREX\n",
       "2283255  24208063562          Neomycin-Polymyxin-HC Otic Susp\n",
       "2492136  00472011720                   Tretinoin 0.025% Cream\n",
       "2608971  00555080802  Tretinoin (ATRA-All Transretinoic Acid)\n",
       "2619830  00555080802                                       ve\n",
       "2877492  00025152531                                celecoxib\n",
       "3289975  00025152031                                celecoxib\n",
       "3382568  00555080802                     Tretinoin Suspension\n",
       "3383387  00555080802                               Tretinoin "
      ]
     },
     "execution_count": 50,
     "metadata": {},
     "output_type": "execute_result"
    }
   ],
   "source": [
    "# mimic_drugs = read_data(join(read_prefix,\"PRESCRIPTIONS\"),dtype={'NDC':str})[['NDC','DRUG']].drop_duplicates()\n",
    " mimic_drugs[mimic_drugs['NDC'].isin(top10_NDC_ade['NDC'])]"
   ]
  },
  {
   "cell_type": "markdown",
   "metadata": {},
   "source": [
    "## Draft"
   ]
  },
  {
   "cell_type": "code",
   "execution_count": null,
   "metadata": {},
   "outputs": [],
   "source": [
    "def test_lda(diag_params, pres_params, n_comp =2):\n",
    "    \n",
    "#     n_comp = 2\n",
    "    ## doc_topic_prior, control the sparsity of probability\n",
    "    diag_topic, diag_word = diag_params\n",
    "    lda = LatentDirichletAllocation(n_components=n_comp, random_state=2019,\\\n",
    "                                    doc_topic_prior=diag_topic,topic_word_prior=diag_word)\n",
    "    diag_Z = lda.fit_transform(diag_matrix.iloc[:,1:]) \n",
    "    # print(diag_Z.shape)\n",
    "#     print(\"The first 5 rows of diagnoses_Z:\\n %s\"%diag_Z[:5])\n",
    "\n",
    "    pres_topic, pres_word = pres_params\n",
    "    lda_2 = LatentDirichletAllocation(n_components=n_comp, random_state=2019,\\\n",
    "                                      doc_topic_prior=pres_topic,topic_word_prior=pres_word)\n",
    "    pres_Z = lda_2.fit_transform(pres_matrix.iloc[:,1:]) \n",
    "    # print(pres_Z.shape)\n",
    "#     print(\"The first 5 rows of prescriptions_Z:\\n %s\"%pres_Z[:5])\n",
    "\n",
    "    for i in range(n_comp):\n",
    "        l = []\n",
    "        for j in range(n_comp):\n",
    "            sim_i_j = cosine_sim(diag_Z[:,i],pres_Z[:,j])\n",
    "    #         print(sim_i_j)\n",
    "            l = l + [sim_i_j]\n",
    "        current_range = np.max(l)-np.min(l)\n",
    "        print(\"Similarity between diag_%d and pres_j(j∈[0,%d): %s\"%(i,n_comp, l))\n",
    "        print(\"Max:%f  Range:%f arg_max:%d\"%(np.max(l),current_range,np.argmax(l)))\n",
    "        \n",
    "    return diag_Z, pres_Z"
   ]
  },
  {
   "cell_type": "code",
   "execution_count": null,
   "metadata": {},
   "outputs": [],
   "source": [
    "test_lda([0.1,0.001],[0.1,0.001],2)"
   ]
  },
  {
   "cell_type": "code",
   "execution_count": null,
   "metadata": {},
   "outputs": [],
   "source": [
    "for n_comp in range(2,11):\n",
    "    print(\"=============================================================\\nn_comp: %d\"%n_comp)\n",
    "    test_lda([0.1,0.001],[0.1,0.001],n_comp)    "
   ]
  },
  {
   "cell_type": "code",
   "execution_count": null,
   "metadata": {},
   "outputs": [],
   "source": [
    "## fix params for diagnoses, tune params for prescriptions\n",
    "## increase by 0.1\n",
    "for param in np.arange(0.2,1,0.2):\n",
    "    print(\"pres_params: %s\"%([param,param*0.01]))\n",
    "    test_lda([0.1,0.001],[param,param*0.01],6)\n",
    "## decrease by 0.01\n",
    "for param in np.arange(0.01,0.1,0.02):\n",
    "    print(\"pres_params: %s\"%([param,param*0.01]))\n",
    "    test_lda([0.1,0.001],[param,param*0.01],6) "
   ]
  },
  {
   "cell_type": "code",
   "execution_count": null,
   "metadata": {},
   "outputs": [],
   "source": [
    "diag_Y = lda.components_\n",
    "diag_Y"
   ]
  },
  {
   "cell_type": "code",
   "execution_count": null,
   "metadata": {},
   "outputs": [],
   "source": []
  },
  {
   "cell_type": "code",
   "execution_count": null,
   "metadata": {},
   "outputs": [],
   "source": []
  }
 ],
 "metadata": {
  "kernelspec": {
   "display_name": "Python [conda env:py36]",
   "language": "python",
   "name": "conda-env-py36-py"
  },
  "language_info": {
   "codemirror_mode": {
    "name": "ipython",
    "version": 3
   },
   "file_extension": ".py",
   "mimetype": "text/x-python",
   "name": "python",
   "nbconvert_exporter": "python",
   "pygments_lexer": "ipython3",
   "version": "3.6.8"
  },
  "toc": {
   "base_numbering": 1,
   "nav_menu": {},
   "number_sections": true,
   "sideBar": true,
   "skip_h1_title": false,
   "title_cell": "Table of Contents",
   "title_sidebar": "Contents",
   "toc_cell": false,
   "toc_position": {
    "height": "calc(100% - 180px)",
    "left": "10px",
    "top": "150px",
    "width": "256px"
   },
   "toc_section_display": true,
   "toc_window_display": true
  }
 },
 "nbformat": 4,
 "nbformat_minor": 2
}
