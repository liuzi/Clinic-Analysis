{
 "cells": [
  {
   "cell_type": "code",
   "execution_count": 26,
   "metadata": {
    "code_folding": [
     0
    ]
   },
   "outputs": [],
   "source": [
    "## import\n",
    "import numpy as np\n",
    "import pandas as pd\n",
    "import re\n",
    "# import re\n",
    "from os.path import join\n",
    "\n",
    "from tools import *\n",
    "\n",
    "# from sklearn.decomposition import LatentDirichletAllocation\n",
    "# from scipy.spatial import distance\n",
    "\n",
    "# import matplotlib.pyplot as plt\n",
    "\n",
    "## rename EXTRACT_FEATURES to DIMENSION_REDUCTION\n",
    "read_prefix = \"/data/MIMIC3/\"\n",
    "write_prefix = \"/data/liu/LDA\"\n",
    "res_prefix = \"/data/liu/LDA/lda_result\"\n",
    "res_r_prefix = \"/data/liu/LDA/lda_R_result/\"\n",
    "res_patient_subgroup_prefix = \"/data/liu/adverse_events/patient_subgroup\"\n",
    "dis_sum_prefix = \"/data/liu/mimic3/NOTESEVENT_EXTRACTION/ALL\"\n",
    "dis_sum_keysessions_prefix = \"/data/liu/mimic3/NOTESEVENT_EXTRACTION/KEY_SESSIONS\"\n",
    "clamp_dis_sum_prefix = \"/data/liu/mimic3/CLAMP_NER/input/discharge_summary\"\n",
    "clamp_dis_sum_keysessions_prefix = \"/data/liu/mimic3/CLAMP_NER/input/keysessions\""
   ]
  },
  {
   "cell_type": "code",
   "execution_count": 2,
   "metadata": {
    "code_folding": []
   },
   "outputs": [
    {
     "name": "stderr",
     "output_type": "stream",
     "text": [
      "/home/liu/anaconda3/envs/py36/lib/python3.6/site-packages/IPython/core/interactiveshell.py:3214: DtypeWarning: Columns (4,5) have mixed types. Specify dtype option on import or set low_memory=False.\n",
      "  if (yield from self.run_code(code, result)):\n"
     ]
    },
    {
     "data": {
      "text/html": [
       "<div>\n",
       "<style scoped>\n",
       "    .dataframe tbody tr th:only-of-type {\n",
       "        vertical-align: middle;\n",
       "    }\n",
       "\n",
       "    .dataframe tbody tr th {\n",
       "        vertical-align: top;\n",
       "    }\n",
       "\n",
       "    .dataframe thead th {\n",
       "        text-align: right;\n",
       "    }\n",
       "</style>\n",
       "<table border=\"1\" class=\"dataframe\">\n",
       "  <thead>\n",
       "    <tr style=\"text-align: right;\">\n",
       "      <th></th>\n",
       "      <th>ROW_ID</th>\n",
       "      <th>SUBJECT_ID</th>\n",
       "      <th>HADM_ID</th>\n",
       "      <th>CHARTDATE</th>\n",
       "      <th>CHARTTIME</th>\n",
       "      <th>STORETIME</th>\n",
       "      <th>CATEGORY</th>\n",
       "      <th>DESCRIPTION</th>\n",
       "      <th>CGID</th>\n",
       "      <th>ISERROR</th>\n",
       "      <th>TEXT</th>\n",
       "    </tr>\n",
       "  </thead>\n",
       "  <tbody>\n",
       "    <tr>\n",
       "      <th>0</th>\n",
       "      <td>174</td>\n",
       "      <td>22532</td>\n",
       "      <td>167853</td>\n",
       "      <td>2151-08-04</td>\n",
       "      <td>NaN</td>\n",
       "      <td>NaN</td>\n",
       "      <td>Discharge summary</td>\n",
       "      <td>Report</td>\n",
       "      <td>NaN</td>\n",
       "      <td>NaN</td>\n",
       "      <td>Admission Date:  [**2151-7-16**]       Dischar...</td>\n",
       "    </tr>\n",
       "    <tr>\n",
       "      <th>1</th>\n",
       "      <td>175</td>\n",
       "      <td>13702</td>\n",
       "      <td>107527</td>\n",
       "      <td>2118-06-14</td>\n",
       "      <td>NaN</td>\n",
       "      <td>NaN</td>\n",
       "      <td>Discharge summary</td>\n",
       "      <td>Report</td>\n",
       "      <td>NaN</td>\n",
       "      <td>NaN</td>\n",
       "      <td>Admission Date:  [**2118-6-2**]       Discharg...</td>\n",
       "    </tr>\n",
       "    <tr>\n",
       "      <th>2</th>\n",
       "      <td>176</td>\n",
       "      <td>13702</td>\n",
       "      <td>167118</td>\n",
       "      <td>2119-05-25</td>\n",
       "      <td>NaN</td>\n",
       "      <td>NaN</td>\n",
       "      <td>Discharge summary</td>\n",
       "      <td>Report</td>\n",
       "      <td>NaN</td>\n",
       "      <td>NaN</td>\n",
       "      <td>Admission Date:  [**2119-5-4**]              D...</td>\n",
       "    </tr>\n",
       "    <tr>\n",
       "      <th>3</th>\n",
       "      <td>177</td>\n",
       "      <td>13702</td>\n",
       "      <td>196489</td>\n",
       "      <td>2124-08-18</td>\n",
       "      <td>NaN</td>\n",
       "      <td>NaN</td>\n",
       "      <td>Discharge summary</td>\n",
       "      <td>Report</td>\n",
       "      <td>NaN</td>\n",
       "      <td>NaN</td>\n",
       "      <td>Admission Date:  [**2124-7-21**]              ...</td>\n",
       "    </tr>\n",
       "    <tr>\n",
       "      <th>4</th>\n",
       "      <td>178</td>\n",
       "      <td>26880</td>\n",
       "      <td>135453</td>\n",
       "      <td>2162-03-25</td>\n",
       "      <td>NaN</td>\n",
       "      <td>NaN</td>\n",
       "      <td>Discharge summary</td>\n",
       "      <td>Report</td>\n",
       "      <td>NaN</td>\n",
       "      <td>NaN</td>\n",
       "      <td>Admission Date:  [**2162-3-3**]              D...</td>\n",
       "    </tr>\n",
       "  </tbody>\n",
       "</table>\n",
       "</div>"
      ],
      "text/plain": [
       "   ROW_ID  SUBJECT_ID HADM_ID   CHARTDATE CHARTTIME STORETIME  \\\n",
       "0     174       22532  167853  2151-08-04       NaN       NaN   \n",
       "1     175       13702  107527  2118-06-14       NaN       NaN   \n",
       "2     176       13702  167118  2119-05-25       NaN       NaN   \n",
       "3     177       13702  196489  2124-08-18       NaN       NaN   \n",
       "4     178       26880  135453  2162-03-25       NaN       NaN   \n",
       "\n",
       "            CATEGORY DESCRIPTION  CGID  ISERROR  \\\n",
       "0  Discharge summary      Report   NaN      NaN   \n",
       "1  Discharge summary      Report   NaN      NaN   \n",
       "2  Discharge summary      Report   NaN      NaN   \n",
       "3  Discharge summary      Report   NaN      NaN   \n",
       "4  Discharge summary      Report   NaN      NaN   \n",
       "\n",
       "                                                TEXT  \n",
       "0  Admission Date:  [**2151-7-16**]       Dischar...  \n",
       "1  Admission Date:  [**2118-6-2**]       Discharg...  \n",
       "2  Admission Date:  [**2119-5-4**]              D...  \n",
       "3  Admission Date:  [**2124-7-21**]              ...  \n",
       "4  Admission Date:  [**2162-3-3**]              D...  "
      ]
     },
     "execution_count": 2,
     "metadata": {},
     "output_type": "execute_result"
    }
   ],
   "source": [
    "## Original NOTESEVENTS\n",
    "notes_df = read_data(join(read_prefix,\"NOTEEVENTS\"),\n",
    "#                      usecols=['HADM_ID','DESCRIPTION','TEXT'],\n",
    "                     dtype={'HADM_ID':str})\n",
    "notes_df.head()"
   ]
  },
  {
   "cell_type": "code",
   "execution_count": 7,
   "metadata": {
    "code_folding": []
   },
   "outputs": [
    {
     "data": {
      "text/plain": [
       "59652"
      ]
     },
     "execution_count": 7,
     "metadata": {},
     "output_type": "execute_result"
    }
   ],
   "source": [
    "## check number of rows for NOTESEVENTS\n",
    "print(len(notes_df[notes_df['CATEGORY']=='Discharge summary']))\n",
    "\n",
    "print(len(notes_discharge_df[['TEXT']].dropna()))"
   ]
  },
  {
   "cell_type": "code",
   "execution_count": 4,
   "metadata": {},
   "outputs": [
    {
     "name": "stdout",
     "output_type": "stream",
     "text": [
      "Original NOTESEVENTS: 58,362 episodes\n",
      "NOTESEVENTS belonging to Discharge Summary: 52,726 episodes\n"
     ]
    }
   ],
   "source": [
    "print(\"Original NOTESEVENTS: {:,d} episodes\".format(len(notes_df.HADM_ID.unique())))\n",
    "print(\"NOTESEVENTS belonging to Discharge Summary: {:,d} episodes\".format(len(notes_df[notes_df['CATEGORY']=='Discharge summary'].HADM_ID.unique())))"
   ]
  },
  {
   "cell_type": "markdown",
   "metadata": {},
   "source": [
    "## Extract rows with \"CATEGORY\"\n",
    "1. notes_df['CATEGORY']=='Discharge summary',  (patient asc, episode asc, discharge asc)\n",
    "2. filter condition: ['TXEXT'] contain \"Hospital Course:\""
   ]
  },
  {
   "cell_type": "code",
   "execution_count": 38,
   "metadata": {
    "code_folding": [
     0
    ]
   },
   "outputs": [],
   "source": [
    "## only run for one time.  rank summary for each hadm_id\n",
    "# cols = ['SUBJECT_ID', 'HADM_ID', 'TEXT']\n",
    "# notes_discharge_df = notes_df[notes_df['CATEGORY']=='Discharge summary'][cols]\n",
    "# notes_discharge_df['ROW_ID']=notes_discharge_df.index\n",
    "# notes_discharge_df = notes_df[notes_df['CATEGORY']=='Discharge summary'][cols]\n",
    "\n",
    "notes_discharge_df=notes_discharge_df.sort_values(by=['SUBJECT_ID','HADM_ID'])\n",
    "notes_discharge_df['GROUP_RANK']=notes_discharge_df.groupby(['SUBJECT_ID','HADM_ID'])['ROW_ID'].rank(method='dense').astype(int)\n",
    "notes_discharge_df.head()"
   ]
  },
  {
   "cell_type": "code",
   "execution_count": 4,
   "metadata": {
    "code_folding": [
     0
    ]
   },
   "outputs": [],
   "source": [
    "## only run for one time: save discharge summary by folder(subject), each episode in one file\n",
    "\n",
    "def save_keysessions_byfolder(notes_discharge_df,file=\"Discharge summary_%d\",prefix=dis_sum_prefix, type=\"TXT\"):\n",
    "    for subject_id, group in notes_discharge_df.groupby(['SUBJECT_ID']):\n",
    "        hadm_ids = group['HADM_ID'].unique()\n",
    "        ## create folder ~/subject_id/hadm_id\n",
    "        cols = ['GROUP_RANK','TEXT']\n",
    "        \n",
    "        for hadm_id, subgroup in group.groupby(['HADM_ID']):\n",
    "            write_dir = join(prefix,str(subject_id),hadm_id)\n",
    "            create_folder(write_dir)\n",
    "#             [create_folder(join(dis_sum_prefix,str(subject_id),hadm_id)) for hadm_id in hadm_ids]\n",
    "#             dir = join(dis_sum_prefix,str(subject_id))    \n",
    "            \n",
    "            for _, row in subgroup[cols].iterrows():\n",
    "                file_name = file%row['GROUP_RANK']\n",
    "                write2txt(row['TEXT'],join(write_dir,file_name))\n",
    "\n",
    "# def save_dissummary_byfolder(notes_discharge_df):\n",
    "#     for subject_id, group in notes_discharge_df.groupby(['SUBJECT_ID']):\n",
    "#         hadm_ids = group['HADM_ID'].unique()\n",
    "#         ## create folder ~/subject_id/hadm_id\n",
    "#         for hadm_id, subgroup in group.groupby(['HADM_ID']):\n",
    "#             write_dir = join(dis_sum_prefix,str(subject_id),hadm_id)\n",
    "#             create_folder(write_dir)\n",
    "# #             [create_folder(join(dis_sum_prefix,str(subject_id),hadm_id)) for hadm_id in hadm_ids]\n",
    "# #             dir = join(dis_sum_prefix,str(subject_id))        \n",
    "#             for _, row in subgroup[['GROUP_RANK','TEXT']].iterrows():\n",
    "#                 file_name = \"Discharge summary_%d\" % row['GROUP_RANK']\n",
    "#                 write2txt(row['TEXT'],join(write_dir,file_name))\n",
    "\n",
    "def save_dissummary_byfile(notes_discharge_df):\n",
    "    for subject_id, group in notes_discharge_df.groupby(['SUBJECT_ID']):\n",
    "        hadm_ids = group['HADM_ID'].unique()\n",
    "        ## create folder ~/subject_id/hadm_id\n",
    "        for hadm_id, subgroup in group.groupby(['HADM_ID']):\n",
    "#             write_dir = join(dis_sum_prefix,str(subject_id),hadm_id)\n",
    "#             create_folder(write_dir)\n",
    "#             [create_folder(join(dis_sum_prefix,str(subject_id),hadm_id)) for hadm_id in hadm_ids]\n",
    "#             dir = join(dis_sum_prefix,str(subject_id))        \n",
    "            for _, row in subgroup[['GROUP_RANK','TEXT']].iterrows():\n",
    "                file_name = \"%s_%s_%d\" % (str(subject_id),hadm_id,row['GROUP_RANK'])\n",
    "                write2txt(row['TEXT'],join(clamp_dis_sum_prefix,file_name))\n",
    "                \n",
    "                \n",
    "## SAVE discharge summary by folder, a file for a episode\n",
    "save_dissummary_byfile(notes_discharge_df)\n",
    "## SAVE discharge summary in to one file\n",
    "# write2file(notes_discharge_df[['SUBJECT_ID', 'HADM_ID', 'GROUP_RANK', 'TEXT']],join(dis_sum_prefix,\"Discharge summary_All\"))"
   ]
  },
  {
   "cell_type": "code",
   "execution_count": 2,
   "metadata": {},
   "outputs": [
    {
     "name": "stdout",
     "output_type": "stream",
     "text": [
      "59652\n"
     ]
    },
    {
     "data": {
      "text/html": [
       "<div>\n",
       "<style scoped>\n",
       "    .dataframe tbody tr th:only-of-type {\n",
       "        vertical-align: middle;\n",
       "    }\n",
       "\n",
       "    .dataframe tbody tr th {\n",
       "        vertical-align: top;\n",
       "    }\n",
       "\n",
       "    .dataframe thead th {\n",
       "        text-align: right;\n",
       "    }\n",
       "</style>\n",
       "<table border=\"1\" class=\"dataframe\">\n",
       "  <thead>\n",
       "    <tr style=\"text-align: right;\">\n",
       "      <th></th>\n",
       "      <th>SUBJECT_ID</th>\n",
       "      <th>HADM_ID</th>\n",
       "      <th>GROUP_RANK</th>\n",
       "      <th>TEXT</th>\n",
       "    </tr>\n",
       "  </thead>\n",
       "  <tbody>\n",
       "    <tr>\n",
       "      <th>0</th>\n",
       "      <td>3</td>\n",
       "      <td>145834</td>\n",
       "      <td>1</td>\n",
       "      <td>Admission Date:  [**2101-10-20**]     Discharg...</td>\n",
       "    </tr>\n",
       "    <tr>\n",
       "      <th>1</th>\n",
       "      <td>4</td>\n",
       "      <td>185777</td>\n",
       "      <td>1</td>\n",
       "      <td>Admission Date:  [**2191-3-16**]     Discharge...</td>\n",
       "    </tr>\n",
       "    <tr>\n",
       "      <th>2</th>\n",
       "      <td>6</td>\n",
       "      <td>107064</td>\n",
       "      <td>1</td>\n",
       "      <td>Admission Date: [**2175-5-30**]        Dischar...</td>\n",
       "    </tr>\n",
       "    <tr>\n",
       "      <th>3</th>\n",
       "      <td>9</td>\n",
       "      <td>150750</td>\n",
       "      <td>1</td>\n",
       "      <td>Admission Date:  [**2149-11-9**]       Dischar...</td>\n",
       "    </tr>\n",
       "    <tr>\n",
       "      <th>4</th>\n",
       "      <td>9</td>\n",
       "      <td>150750</td>\n",
       "      <td>2</td>\n",
       "      <td>Name:  [**Known lastname 10050**], [**Known fi...</td>\n",
       "    </tr>\n",
       "  </tbody>\n",
       "</table>\n",
       "</div>"
      ],
      "text/plain": [
       "   SUBJECT_ID HADM_ID  GROUP_RANK  \\\n",
       "0           3  145834           1   \n",
       "1           4  185777           1   \n",
       "2           6  107064           1   \n",
       "3           9  150750           1   \n",
       "4           9  150750           2   \n",
       "\n",
       "                                                TEXT  \n",
       "0  Admission Date:  [**2101-10-20**]     Discharg...  \n",
       "1  Admission Date:  [**2191-3-16**]     Discharge...  \n",
       "2  Admission Date: [**2175-5-30**]        Dischar...  \n",
       "3  Admission Date:  [**2149-11-9**]       Dischar...  \n",
       "4  Name:  [**Known lastname 10050**], [**Known fi...  "
      ]
     },
     "execution_count": 2,
     "metadata": {},
     "output_type": "execute_result"
    }
   ],
   "source": [
    "notes_discharge_df=read_data(join(dis_sum_prefix,\"Discharge summary_All\"),dtype={\"HADM_ID\":str})\n",
    "print(len(notes_discharge_df))\n",
    "notes_discharge_df.head()"
   ]
  },
  {
   "cell_type": "code",
   "execution_count": 12,
   "metadata": {},
   "outputs": [
    {
     "name": "stdout",
     "output_type": "stream",
     "text": [
      "Discharge Summaries containing Hospital Course: 48,520 episodes\n"
     ]
    }
   ],
   "source": [
    "print(\"Discharge Summaries containing Hospital Course: {:,d} episodes\".format(len(notes_discharge_df.HADM_ID.unique())))"
   ]
  },
  {
   "cell_type": "code",
   "execution_count": 8,
   "metadata": {},
   "outputs": [
    {
     "name": "stdout",
     "output_type": "stream",
     "text": [
      "50219\n"
     ]
    },
    {
     "data": {
      "text/html": [
       "<div>\n",
       "<style scoped>\n",
       "    .dataframe tbody tr th:only-of-type {\n",
       "        vertical-align: middle;\n",
       "    }\n",
       "\n",
       "    .dataframe tbody tr th {\n",
       "        vertical-align: top;\n",
       "    }\n",
       "\n",
       "    .dataframe thead th {\n",
       "        text-align: right;\n",
       "    }\n",
       "</style>\n",
       "<table border=\"1\" class=\"dataframe\">\n",
       "  <thead>\n",
       "    <tr style=\"text-align: right;\">\n",
       "      <th></th>\n",
       "      <th>SUBJECT_ID</th>\n",
       "      <th>HADM_ID</th>\n",
       "      <th>GROUP_RANK</th>\n",
       "      <th>TEXT</th>\n",
       "    </tr>\n",
       "  </thead>\n",
       "  <tbody>\n",
       "    <tr>\n",
       "      <th>2</th>\n",
       "      <td>6</td>\n",
       "      <td>107064</td>\n",
       "      <td>1</td>\n",
       "      <td>Admission Date: [**2175-5-30**]        Dischar...</td>\n",
       "    </tr>\n",
       "    <tr>\n",
       "      <th>3</th>\n",
       "      <td>9</td>\n",
       "      <td>150750</td>\n",
       "      <td>1</td>\n",
       "      <td>Admission Date:  [**2149-11-9**]       Dischar...</td>\n",
       "    </tr>\n",
       "    <tr>\n",
       "      <th>5</th>\n",
       "      <td>10</td>\n",
       "      <td>184167</td>\n",
       "      <td>1</td>\n",
       "      <td>Admission Date:  [**2103-6-28**]       Dischar...</td>\n",
       "    </tr>\n",
       "    <tr>\n",
       "      <th>6</th>\n",
       "      <td>11</td>\n",
       "      <td>194540</td>\n",
       "      <td>1</td>\n",
       "      <td>Admission Date:  [**2178-4-16**]              ...</td>\n",
       "    </tr>\n",
       "    <tr>\n",
       "      <th>7</th>\n",
       "      <td>12</td>\n",
       "      <td>112213</td>\n",
       "      <td>1</td>\n",
       "      <td>Admission Date:  [**2104-8-7**]     Discharge ...</td>\n",
       "    </tr>\n",
       "  </tbody>\n",
       "</table>\n",
       "</div>"
      ],
      "text/plain": [
       "   SUBJECT_ID HADM_ID  GROUP_RANK  \\\n",
       "2           6  107064           1   \n",
       "3           9  150750           1   \n",
       "5          10  184167           1   \n",
       "6          11  194540           1   \n",
       "7          12  112213           1   \n",
       "\n",
       "                                                TEXT  \n",
       "2  Admission Date: [**2175-5-30**]        Dischar...  \n",
       "3  Admission Date:  [**2149-11-9**]       Dischar...  \n",
       "5  Admission Date:  [**2103-6-28**]       Dischar...  \n",
       "6  Admission Date:  [**2178-4-16**]              ...  \n",
       "7  Admission Date:  [**2104-8-7**]     Discharge ...  "
      ]
     },
     "execution_count": 8,
     "metadata": {},
     "output_type": "execute_result"
    }
   ],
   "source": [
    "notes_discharge_df=notes_discharge_df[notes_discharge_df['TEXT'].str.contains('Hospital Course:', case=False)]\n",
    "print(len(notes_discharge_df))\n",
    "notes_discharge_df.head()"
   ]
  },
  {
   "cell_type": "markdown",
   "metadata": {},
   "source": [
    "## Fix Bugs\n",
    "I think there is an error in the code for extracting the hospital course sections. I looked at a few samples in /data/liu/mimic3/CLAMP_NER/input/hospital_course and their discharge summaries in /data/liu/mimic3/NOTESEVENT_EXTRACTION/ALL/ and also in /data/liu/mimic3/CLAMP_NER/input/discharge_summary. For example see these patients: 29542_196600_1.txt and 19583_189695_1.txt. The extracted hospital course files don't match the section in the discharge summary. Can you check your code? Also please share the code.\n",
    "\n",
    "\n",
    "Check step:\n",
    "1. from notes_df -> notes_discharge_df"
   ]
  },
  {
   "cell_type": "code",
   "execution_count": 3,
   "metadata": {
    "code_folding": [
     0
    ]
   },
   "outputs": [],
   "source": [
    "## Revised Section Extraction Script\n",
    "def re_split(string, regex = r\"\\n\\n[A-Z][A-Za-z/ ]+:\"):\n",
    "    \"\"\"Split Discharge Summary to mulitple sections according to respective titles using regex rules\n",
    "\n",
    "    Return:\n",
    "    ------\n",
    "    {titles:sections}: dict\n",
    "        titiles : list. \n",
    "            Transfer all titles to lower case, making it easier to check and match\n",
    "        sections: list. \n",
    "            len(sections)=len(titles)+1. The first section doesn't have title as it is not beginning \n",
    "            with \"\\n\"       \n",
    "    \"\"\"\n",
    "    return dict(zip(map(str.lower,re.findall(regex, string)), re.split(regex, string)[1:]))\n",
    "    \n",
    "def extract_sections(text,rule_index = 0, rerules = [\n",
    "    r\"\\n[A-Z][A-Z/ ]+:\",\n",
    "    r\"\\n\\n[A-Z][A-Z/ ]+:\",\n",
    "    r\"\\n\\n[A-Z][A-Za-z/ ]+:\",\n",
    "    r\"\\n[A-Z][A-Za-z/ ]+:\"\n",
    "], selected_titles = [\"hospital course\",\"medical history\",\"medications on admission\"]):\n",
    "    \"\"\"\n",
    "    \n",
    "    Step:\n",
    "    -----\n",
    "    1) split original text to multiple sections with titles: dict{title -> section}\n",
    "    2) select key sections by matching their titles to selected titles\n",
    "    \"\"\"\n",
    "    section_dict = re_split(text, rerules[rule_index])\n",
    "    ## selected title -> matched title\n",
    "    titles_dict =dict([(selected_title, title) for title in section_dict.keys() \n",
    "                       for selected_title in selected_titles if selected_title in title])\n",
    "    ## get actually extracted titles that are matched to selected titles\n",
    "    section_titles = [titles_dict.get(title, None) for title in selected_titles]\n",
    "    \n",
    "    return tuple([(',').join(filter(None, section_titles))]+\n",
    "                 [section_dict.get(title, None) for title in section_titles])\n",
    "    \n",
    "                    \n",
    "#     for re_rule in rerules:\n",
    "#         section_dict=re_split(text,re_rule)\n",
    "#         keys = section_dict.keys\n",
    "#         matched_key\n",
    "        \n",
    "    \n",
    "\n",
    "#     indexes = [search_title_index(titles, section_title) for section_title in section_titles]\n",
    "    \n",
    "#     return tuple([('').join(titles)]+ [item_of_list(sections,index) for index in indexes])"
   ]
  },
  {
   "cell_type": "code",
   "execution_count": 33,
   "metadata": {},
   "outputs": [],
   "source": [
    "from S2.dis_sum_extraction import *"
   ]
  },
  {
   "cell_type": "code",
   "execution_count": 34,
   "metadata": {},
   "outputs": [
    {
     "data": {
      "text/html": [
       "<div>\n",
       "<style scoped>\n",
       "    .dataframe tbody tr th:only-of-type {\n",
       "        vertical-align: middle;\n",
       "    }\n",
       "\n",
       "    .dataframe tbody tr th {\n",
       "        vertical-align: top;\n",
       "    }\n",
       "\n",
       "    .dataframe thead th {\n",
       "        text-align: right;\n",
       "    }\n",
       "</style>\n",
       "<table border=\"1\" class=\"dataframe\">\n",
       "  <thead>\n",
       "    <tr style=\"text-align: right;\">\n",
       "      <th></th>\n",
       "      <th>SUBJECT_ID</th>\n",
       "      <th>HADM_ID</th>\n",
       "      <th>GROUP_RANK</th>\n",
       "      <th>TEXT</th>\n",
       "      <th>TITLE</th>\n",
       "      <th>LINE NUMBER</th>\n",
       "      <th>HOSPITAL COURSE</th>\n",
       "      <th>MEDICAL HISTORY</th>\n",
       "      <th>MEDICATIONS ON ADMISSION</th>\n",
       "    </tr>\n",
       "  </thead>\n",
       "  <tbody>\n",
       "    <tr>\n",
       "      <th>0</th>\n",
       "      <td>3</td>\n",
       "      <td>145834</td>\n",
       "      <td>1</td>\n",
       "      <td>Admission Date:  [**2101-10-20**]     Discharg...</td>\n",
       "      <td>hospital course by system:,past medical histor...</td>\n",
       "      <td>134,28,309</td>\n",
       "      <td>\\n\\n1.  CARDIOVASCULAR:  The patient was initi...</td>\n",
       "      <td>\\n 1.  Coronary artery disease with diffuse 3-...</td>\n",
       "      <td>\\n 1.  Amiodarone 400 mg p.o. b.i.d. (through ...</td>\n",
       "    </tr>\n",
       "    <tr>\n",
       "      <th>1</th>\n",
       "      <td>4</td>\n",
       "      <td>185777</td>\n",
       "      <td>1</td>\n",
       "      <td>Admission Date:  [**2191-3-16**]     Discharge...</td>\n",
       "      <td>brief summary of hospital course by issue/syst...</td>\n",
       "      <td>108,34,203</td>\n",
       "      <td>\\n\\n1.  PULMONARY ISSUES:  From the Emergency ...</td>\n",
       "      <td>\\n1.  Human immunodeficiency virus diagnosed i...</td>\n",
       "      <td>\\n 1.  Prednisone 40 mg once per day times thr...</td>\n",
       "    </tr>\n",
       "    <tr>\n",
       "      <th>2</th>\n",
       "      <td>6</td>\n",
       "      <td>107064</td>\n",
       "      <td>1</td>\n",
       "      <td>Admission Date: [**2175-5-30**]        Dischar...</td>\n",
       "      <td>hospital course:,past medical history:,medicat...</td>\n",
       "      <td>40,21,28</td>\n",
       "      <td>On [**2175-5-30**], the patient went to the\\...</td>\n",
       "      <td>End stage renal disease, secondary to\\nmalig...</td>\n",
       "      <td>Unknown.\\n</td>\n",
       "    </tr>\n",
       "    <tr>\n",
       "      <th>3</th>\n",
       "      <td>9</td>\n",
       "      <td>150750</td>\n",
       "      <td>1</td>\n",
       "      <td>Admission Date:  [**2149-11-9**]       Dischar...</td>\n",
       "      <td>hospital course:,past medical history:,admissi...</td>\n",
       "      <td>75,25,27</td>\n",
       "      <td>1.  NEUROLOGIC:  Left putaminal bleed\\nsecon...</td>\n",
       "      <td>Hypertension.\\n</td>\n",
       "      <td>The patient was on no medications\\nupon admi...</td>\n",
       "    </tr>\n",
       "    <tr>\n",
       "      <th>4</th>\n",
       "      <td>9</td>\n",
       "      <td>150750</td>\n",
       "      <td>2</td>\n",
       "      <td>Name:  [**Known lastname 10050**], [**Known fi...</td>\n",
       "      <td>NaN</td>\n",
       "      <td>NaN</td>\n",
       "      <td>NaN</td>\n",
       "      <td>NaN</td>\n",
       "      <td>NaN</td>\n",
       "    </tr>\n",
       "  </tbody>\n",
       "</table>\n",
       "</div>"
      ],
      "text/plain": [
       "   SUBJECT_ID HADM_ID  GROUP_RANK  \\\n",
       "0           3  145834           1   \n",
       "1           4  185777           1   \n",
       "2           6  107064           1   \n",
       "3           9  150750           1   \n",
       "4           9  150750           2   \n",
       "\n",
       "                                                TEXT  \\\n",
       "0  Admission Date:  [**2101-10-20**]     Discharg...   \n",
       "1  Admission Date:  [**2191-3-16**]     Discharge...   \n",
       "2  Admission Date: [**2175-5-30**]        Dischar...   \n",
       "3  Admission Date:  [**2149-11-9**]       Dischar...   \n",
       "4  Name:  [**Known lastname 10050**], [**Known fi...   \n",
       "\n",
       "                                               TITLE LINE NUMBER  \\\n",
       "0  hospital course by system:,past medical histor...  134,28,309   \n",
       "1  brief summary of hospital course by issue/syst...  108,34,203   \n",
       "2  hospital course:,past medical history:,medicat...    40,21,28   \n",
       "3  hospital course:,past medical history:,admissi...    75,25,27   \n",
       "4                                                NaN         NaN   \n",
       "\n",
       "                                     HOSPITAL COURSE  \\\n",
       "0  \\n\\n1.  CARDIOVASCULAR:  The patient was initi...   \n",
       "1  \\n\\n1.  PULMONARY ISSUES:  From the Emergency ...   \n",
       "2    On [**2175-5-30**], the patient went to the\\...   \n",
       "3    1.  NEUROLOGIC:  Left putaminal bleed\\nsecon...   \n",
       "4                                                NaN   \n",
       "\n",
       "                                     MEDICAL HISTORY  \\\n",
       "0  \\n 1.  Coronary artery disease with diffuse 3-...   \n",
       "1  \\n1.  Human immunodeficiency virus diagnosed i...   \n",
       "2    End stage renal disease, secondary to\\nmalig...   \n",
       "3                                    Hypertension.\\n   \n",
       "4                                                NaN   \n",
       "\n",
       "                            MEDICATIONS ON ADMISSION  \n",
       "0  \\n 1.  Amiodarone 400 mg p.o. b.i.d. (through ...  \n",
       "1  \\n 1.  Prednisone 40 mg once per day times thr...  \n",
       "2                                         Unknown.\\n  \n",
       "3    The patient was on no medications\\nupon admi...  \n",
       "4                                                NaN  "
      ]
     },
     "execution_count": 34,
     "metadata": {},
     "output_type": "execute_result"
    }
   ],
   "source": [
    "# notes_discharge_df=read_data(join(dis_sum_prefix,\"Discharge summary_All\"),dtype={\"HADM_ID\":str})\n",
    "# add_cols = [\"TITLE\", \"LINE NUMBER\", \"HOSPITAL COURSE\", \"MEDICAL HISTORY\", \"MEDICATIONS ON ADMISSION\"]\n",
    "# notes_discharge_df[add_cols] = pd.DataFrame(notes_discharge_df['TEXT'].apply(lambda x: extract_sections(x,0)).tolist())\n",
    "notes_discharge_df=read_data(join(\"/data/liu/mimic3/CLAMP_NER/input\",\"ReRule0_Discharge summary_All\"),dtype={\"HADM_ID\":str})\n",
    "notes_discharge_df.head()"
   ]
  },
  {
   "cell_type": "code",
   "execution_count": 36,
   "metadata": {},
   "outputs": [
    {
     "data": {
      "text/plain": [
       "'Name:  [**Known lastname 10050**], [**Known firstname 779**]                      Unit No:  [**Numeric Identifier 10051**]\\n\\nAdmission Date:  [**2149-11-9**]     Discharge Date:  [**2149-11-14**]\\n\\nDate of Birth:   [**2108-1-26**]     Sex:  M\\n\\nService:\\n\\nDespite mannital and hyperventilation on the [**2149-11-13**], patient continued to neurologically decline.  A brain\\ndeath exam was done showing that the patient had dilated\\nunreactive pupils with no evidence of a corneal or gag\\nreflex. He also did not respond to any noxious stimuli\\ndespite being off propofol.\\n\\nAn apnea test was performed allowing the pCO2 to rise above\\n60, and the patient still did not take any breath during the\\n10 minute interval.  At this time he was declared brain\\ndeath.  His family requested no organ donor or autopsy be\\ndone.\\n\\n\\n\\n                          [**First Name8 (NamePattern2) 2121**] [**First Name8 (NamePattern2) **] [**Last Name (NamePattern1) **], M.D.  [**MD Number(1) 9973**]\\n\\nDictated By:[**Last Name (NamePattern1) 4387**]\\n\\nMEDQUIST36\\n\\nD:  [**2149-11-23**]  23:19\\nT:  [**2149-11-24**]  06:19\\nJOB#:  [**Job Number 10052**]\\n'"
      ]
     },
     "execution_count": 36,
     "metadata": {},
     "output_type": "execute_result"
    }
   ],
   "source": [
    "notes_discharge_df.loc[4,:]['TEXT']"
   ]
  },
  {
   "cell_type": "code",
   "execution_count": 28,
   "metadata": {},
   "outputs": [
    {
     "ename": "TypeError",
     "evalue": "'in <string>' requires string as left operand, not reversed",
     "output_type": "error",
     "traceback": [
      "\u001b[0;31m---------------------------------------------------------------------------\u001b[0m",
      "\u001b[0;31mTypeError\u001b[0m                                 Traceback (most recent call last)",
      "\u001b[0;32m<ipython-input-28-eace4937ffbe>\u001b[0m in \u001b[0;36m<module>\u001b[0;34m\u001b[0m\n\u001b[0;32m----> 1\u001b[0;31m \u001b[0mreversed\u001b[0m\u001b[0;34m(\u001b[0m\u001b[0;34m\"ADMISSION MEDICATIONS\"\u001b[0m\u001b[0;34m)\u001b[0m \u001b[0;32min\u001b[0m \u001b[0;34m\"MEDICATIONS ON ADMISSIONS\"\u001b[0m\u001b[0;34m\u001b[0m\u001b[0;34m\u001b[0m\u001b[0m\n\u001b[0m",
      "\u001b[0;31mTypeError\u001b[0m: 'in <string>' requires string as left operand, not reversed"
     ]
    }
   ],
   "source": [
    "reversed(\"ADMISSION MEDICATIONS\") in \"MEDICATIONS ON ADMISSIONS\""
   ]
  },
  {
   "cell_type": "markdown",
   "metadata": {},
   "source": [
    "## deprecated: Extract sessions\n",
    "BRIEF SUMMARY OF HOSPITAL COURSE, PAST MEDICAL HISTORY and MEDICATIONS ON ADMISSION"
   ]
  },
  {
   "cell_type": "code",
   "execution_count": 58,
   "metadata": {
    "code_folding": []
   },
   "outputs": [],
   "source": [
    "## split by regex rules\n",
    "def re_split(string, regex = r\"\\n\\n[A-Z][A-Za-z/ ]+:\",length=False):\n",
    "    if length: return len(re.findall(regex, string))\n",
    "    else: \n",
    "        return re.findall(regex, string), re.split(regex, string)\n",
    "\n",
    "    \n",
    "## Titles of Wanted sections\n",
    "## BRIEF SUMMARY OF HOSPITAL COURSE: hospital course, PAST MEDICAL HISTORY and MEDICATIONS ON ADMISSION\n",
    "# section_titles = [\"HOSPITAL COURSE\", \"MEDICAL HISTORY\", \"MEDICATIONS ON ADMISSION\"]\n",
    "\n",
    "\n",
    "def search_title_index(titles, substring):\n",
    "    for i in range(len(titles)):\n",
    "        if substring.lower() in titles[i].lower():\n",
    "            return i\n",
    "    return None\n",
    "\n",
    "def item_of_list(list, index):\n",
    "    if index: return list[index]\n",
    "    else: return None\n",
    "\n",
    "def extract_sections(text,rerules = [\n",
    "    r\"\\n[A-Z][A-Z/ ]+:\",\n",
    "    r\"\\n\\n[A-Z][A-Z/ ]+:\",\n",
    "    r\"\\n\\n[A-Z][A-Za-z/ ]+:\",\n",
    "    r\"\\n[A-Z][A-Za-z/ ]+:\"\n",
    "], section_titles = [\"HOSPITAL COURSE\", \"MEDICAL HISTORY\", \"MEDICATIONS ON ADMISSION\"]):\n",
    "    # option 1\n",
    "    titles, sections=re_split(text, rerules[0])\n",
    "    \n",
    "    if(len(titles)>20): \n",
    "        titles, sections =re_split(text, rerules[1])\n",
    "        \n",
    "    if(len(titles)<5): \n",
    "        titles, sections=re_split(text, rerules[2])\n",
    "    if(len(titles)<2): \n",
    "        titles, sections=re_split(text, rerules[3])\n",
    "    print(titles)\n",
    "    indexes = [search_title_index(titles, section_title) for section_title in section_titles]\n",
    "    \n",
    "    return tuple([('').join(titles)]+ [item_of_list(sections,index) for index in indexes])\n",
    "    ## option 2: bad,  count -> {<5: 20608; >20: 2328 }\n",
    "#     split_lists=[re_split(text, rerule) for rerule in rerules]\n",
    "#     split_lens=[len(split) for split in split_lists]\n",
    "#     best_split_index = np.argsort(split_lens)[len(split_lens)//2]\n",
    "        \n",
    "#     return split_lens[best_split_index], ('').join(split_lists[best_split_index])   \n",
    "\n",
    "\n",
    "# notes_discharge_df['SPLIT_N'], notes_discharge_df['TITLE'] = zip(*(notes_discharge_df['TEXT']\n",
    "#                                                                    .apply(extract_sections).tolist()))"
   ]
  },
  {
   "cell_type": "code",
   "execution_count": 7,
   "metadata": {
    "code_folding": []
   },
   "outputs": [],
   "source": [
    "# res = notes_discharge_df['TEXT'].apply(extract_sessions).tolist()\n",
    "# pd.DataFrame(res)\n",
    "notes_discharge_df[[\"TITLE\", \"HOSPITAL COURSE\", \n",
    "                    \"MEDICAL HISTORY\", \"MEDICATIONS ON ADMISSION\"]] = pd.DataFrame(notes_discharge_df['TEXT']\n",
    "                                                                                   .apply(extract_sessions).tolist())"
   ]
  },
  {
   "cell_type": "code",
   "execution_count": 43,
   "metadata": {
    "code_folding": []
   },
   "outputs": [],
   "source": [
    "## EG. check SPLIT_N too high or low for all records\n",
    "notes_discharge_df_low = notes_discharge_df[notes_discharge_df['SPLIT_N']<5]\n",
    "notes_discharge_df_high = notes_discharge_df[notes_discharge_df['SPLIT_N']>20]\n",
    "print(\"<5: %d\" % len(notes_discharge_df_low))\n",
    "print(\">20: %d\" % len(notes_discharge_df_high))\n",
    "\n",
    "\n",
    "def show_one_note(df,id,count=None):\n",
    "    if not count:\n",
    "        index=df.index\n",
    "        one_note=df['TEXT'][index[0]]\n",
    "        return one_note\n",
    "    else:\n",
    "        return df[df['SPLIT_N']==count]\n",
    "\n",
    "# one_note = show_one_note(notes_discharge_df_high,1,67)['TEXT'][40594]\n",
    "one_note=show_one_note(notes_discharge_df_high,0)\n",
    "print(one_note)\n",
    "\n",
    "## single text example\n",
    "split_rule = [\n",
    "    r\"\\n[A-Z/ ]+:\",\n",
    "    r\"\\n[A-Z][A-Z/ ]+:\",\n",
    "    r\"\\n\\n[A-Z/ ]+:\",\n",
    "    r\"\\n\\n[A-Za-z/ ]+:\",\n",
    "    r\"\\n\\b[A-Za-z/ ]{2,}\\b:\",\n",
    "    r\"\\n\\n\\b[A-Za-z/ ]{2,}\\b:\",\n",
    "    r\"\\n\\n[A-Z]+[A-Za-z/ ]+:\",\n",
    "]\n",
    "\n",
    "# text_test = \"Admission Date:  [**2149-11-9**]       Discharge Date: [**2149-11-13**]\\n\\nDate of Birth:   [**2108-1-26**]       Sex:  M\\n\\nService:  NEUROLOGY\\n\\nCHIEF COMPLAINT:  Weakness, inability to talk.\\n\\nHISTORY OF THE PRESENT ILLNESS:  This is a 41-year-old\\nAfrican-American male with a history of hypertension who was\\nin his usual state of health until about 10:25 a.m. on the\\nmorning of admission.  He had gone to use the restroom and a\\nfew minutes later his family found him slumped onto the\\nfloor, apparently unable to talk and with weakness in his\\nright arm and leg.  EMS was called and he was brought into\\nthe Emergency Department at [**Hospital1 18**].\\n\\nThe patient has not had strokes or previous similar symptoms.\\nHe has a history of hypertension but no history of cardiac\\nsymptoms.  The patient was unable to talk for examination and\\nno family members were present at the bedside and were not at\\nhome (apparently they were on the way to the Emergency Room).\\nThe history was obtained by EMS.\\n\\nPAST MEDICAL HISTORY:  Hypertension.\\n\\nADMISSION MEDICATIONS:  The patient was on no medications\\nupon admission.\\n\\nALLERGIES:  The patient has no known drug allergies.\\n\\nFAMILY HISTORY:  Unknown.\\n\\nSOCIAL HISTORY:  The patient lives [**Location (un) 6409**].\\n\\nPHYSICAL EXAMINATION ON ADMISSION:  During the five minute\\nexamination, the patient became progressively less responsive\\nand then vomited requiring intubation and paralytics during\\nthe examination.  Vital signs:  Blood pressure 229/137, heart\\nrate 85, respiratory rate 20, temperature 98.8.  General:\\nThis was a well-developed African-American male.  HEENT:  The\\nneck was supple without lymphadenopathy or thyromegaly.\\nCardiovascular:  Regular rate and rhythm.  No murmurs, rubs,\\nor gallops noted.  Lungs:  Clear to auscultation bilaterally.\\nAbdomen:  Soft, nontender, nondistended with no hepatomegaly.\\nExtremities:  No clubbing, cyanosis or edema noted.\\nNeurologic:  On the mental status examination, the patient\\nwas alert but nonverbal.  Language was aphasic but can\\ncomprehend one-step commands.  There was no evidence of\\nneglect.  The patient can follow one-step commands.  On the\\ncranial nerve examination, his optic disk margins were sharp.\\nHis extraocular eye movements were intact.  His pupils were\\nequal and reactive to light.  His face was symmetrical at\\nrest.  Motor:  He had normal bulk and tone with no tremors.\\nHis power was 0/5 in the right arm and leg.  His left arm and\\nleg was apparently [**5-5**].  Sensory:  He was reactive to noxious\\nstimuli in all four extremities.  His reflexes were minimal\\nthroughout.  His toes were mute bilaterally.  Coordination\\nand gait examination was not tested.\\n\\nLABORATORY/RADIOLOGIC DATA:  White count 7.5, hematocrit 45,\\nplatelets 258,000.  PT 12.7, PTT 21.7, INR 1.1.\\n\\nThe EKG was normal sinus rhythm at 99 with normal axis and\\nintervals.  LVH was noted.  There were T wave inversions in\\nI, II, III, aVL, V1 through V3.\\n\\nSerum and urine toxicology was negative.  ESR was 18.  The\\nurinalysis was negative.  CT scan of the head showed 55 by 55\\nby 21 mm left putaminal bleed with a 5 mm midline shift to\\nthe right.\\n\\nChest x-ray showed cardiomegaly with CHF.\\n\\nHOSPITAL COURSE:  1.  NEUROLOGIC:  Left putaminal bleed\\nsecondary to presumed hypertension.  The patient's blood\\npressure was initially controlled with a Nipride drip to keep\\nthe cephalic pressure between 130-160.  The Nipride drip was\\nthen weaned as labetalol IV was added along with a\\nnicardipine drip.  The patient was also given Dilantin load\\nfollowed by a maintenance dose of 400 mg q.d.  His level has\\nbeen therapeutic around 20.  Considerations for a CTA and\\nangiogram for possible AVM or aneurysm were considered but\\nthe patient's renal function and health status did not allow\\nsuch studies to be done at the current time.\\n\\nRepeated noncontrast CT of the head revealed no increase in\\nthe bleeding but showed subsequently increases in cerebral\\nedema with some pressure onto the brain stem.  The patient's\\nneurological examination did deteriorate to the point that he\\nonly had reactive pupils that were equal and intact corneal\\nreflexes.  In addition, he had a gag reflex.  However, he\\nbegan to not move any extremities and not respond to any\\nnoxious stimuli in the four extremities.\\n\\nBy 4:00 p.m. on [**2149-11-13**], his neurological condition\\ndeteriorated to the point that his pupils were dilated and\\nnonreactive.  He lost gag and corneal reflex.  Calorics were\\ndone at this time which revealed no response.  Neurosurgery\\nwas reconsulted for a question of craniotomy but they felt\\nthat the patient would not be a candidate for the surgery in\\nthat it would not help him.  Mannitol was then started along\\nwith hyperventilation to keep the PC02 below 30 in an attempt\\nto decrease the cerebral edema.\\n\\nDespite clinical examination that the patient is clinically\\nbrain dead, the family wishes to continue aggressive\\ntreatment.  The family requested that the patient be\\ntransferred to the [**Hospital6 1129**].  However,\\nDr. [**Last Name (STitle) 54029**] at the [**Hospital3 **] Stroke Service said\\nthat the patient would not be accepted at the [**Hospital3 **] given that there would be no other intervention that\\nwould be done differently at [**Hospital3 **].\\n\\n2.  CARDIOVASCULAR:  As mentioned above, the patient was\\ninitially started on a Nipride drip to control the blood\\npressure between 130-160.  However, he was slowly weaned off\\nthe Nipride to be switched over to Cardene drip.  The Cardene\\ndrip was then weaned to allow for the addition of p.o.\\nLabetalol.  Three serial CKs and troponins were checked and\\nfound to be negative, thus, ruling the patient out for a\\nmyocardial infarction.\\n\\n3.  PULMONARY:  The patient was initially intubated when\\nfirst seen down in the Emergency Room for airway protection\\nsince he vomited.  He then showed a left lower lobe pneumonia\\non the chest x-ray.  He was started on levofloxacin and\\nFlagyl since the day of admission for aspiration pneumonia.\\nVancomycin was added on day number four of hospitalization\\ndue to sputum cultures showing Staphylococcus aureus\\ncoagulase-positive organisms and gram-negative rods.\\nSusceptibilities are still pending.  The patient did have one\\nor two episodes of desaturation secondary to breathing trials\\nand increased secretion in his nostrils.  In an attempt to\\ndecongest him, saline nasal spray was started.\\n\\n4.  RENAL:  Acute renal failure secondary to dehydration.\\nThe patient's creatinine upon admission was 1.4 and continued\\nto rise to 2 as he started third spacing his fluids.  Urine\\nelectrolytes were checked which showed a phena of less than 1\\nwhich is evidence of the patient being dehydrated and\\nprerenal.  He was subsequently given IV fluids and his\\ncreatinine improved to 1.6.  A renal ultrasound was done\\nwhich showed no evidence of hydronephrosis.\\n\\n5.  INFECTIOUS DISEASE:  Leukocytosis:  Given the aspiration\\npneumonia and elevated white count of 18.6, levofloxacin and\\nFlagyl were started on the day of admission.  Blood cultures\\nwere obtained.  The first two sets showed one out of four\\nblood cultures that grew staphylococcus coagulase-negative.\\nSince this was deemed a contaminent, no further antibiotics\\nwere given.  However, on day number four of hospitalization,\\nhis sputum culture returned showing Staphylococcus\\ncoagulase-positive organisms so vancomycin was added.  More\\nblood cultures were drawn but nothing has grown to date.\\n\\n6.  GASTROINTESTINAL:  The patient was given and orogastric\\ntube for tube feeds.  He had some high residuals so the tube\\nfeeds were stopped.  Reglan was then administered to promote\\nGI motility so that the tube feeds could be restarted.\\n\\n7. FLUIDS, ELECTROLYTES, AND NUTRITION:  Hyponatremia:  The\\npatient's sodium slowly fell from 136 upon admission to 130\\non the fourth day of hospitalization.  It was felt that this\\nwas due to salt wasting from his cerebral problems so he was\\nthen fluid restricted.  Although he has acute renal failure\\nsecondary to dehydration and third spacing, it was felt that\\nhe needed to be fluid restricted given that the overall\\nhyponatremia was more likely due to salt wasting.\\n\\n\\n\\n\\n                            [**First Name8 (NamePattern2) **] [**First Name8 (NamePattern2) 5930**] [**Last Name (NamePattern1) **], M.D.  [**MD Number(1) 6125**]\\n\\nDictated By:[**Last Name (NamePattern1) 4270**]\\nMEDQUIST36\\n\\nD:  [**2149-11-13**]  07:03\\nT:  [**2149-11-13**]  19:46\\nJOB#:  [**Job Number 54030**]\\n\"\n",
    "text_test=\"Admission Date:  [**2134-12-27**]              Discharge Date:   [**2134-12-31**]\\n\\nDate of Birth:  [**2087-7-14**]             Sex:   F\\n\\nService: CARDIOTHORACIC\\n\\nAllergies:\\nBactrim / Ampicillin / Remeron\\n\\nAttending:[**First Name3 (LF) 1283**]\\nChief Complaint:\\nHistory of stroke\\n\\nMajor Surgical or Invasive Procedure:\\n[**2134-12-27**] Minimally invasive closure of patent foramen ovale\\n\\n\\nHistory of Present Illness:\\nMrs. [**Known lastname 11679**] is a 47 year old female who suffered a cerebellar\\nstroke in [**2134-3-9**]. Workup at that time revealed a patent\\nforamen ovale. She is currently followed by Dr.\\n[**Last Name (STitle) 1693**](neurologist) from the [**Hospital1 18**]. Full hypercoagulability\\nworkup was unremarkable. Since [**Month (only) 956**], she has had no other\\nneurological events. In preperation for surgical intervention,\\nshe underwent cardiac catheterization in [**Month (only) **] which showed\\nnormal coronary arteries and normal left ventricular function.\\n\\nPast Medical History:\\nPatent foramen ovale; History of Stroke/TIA; Depression;\\nAnxiety; Borderline Hyperlipidemia; Herniation of Cervical\\nDiscs; Patella-Femoral Syndrome; s/p Bunionectomies\\n\\nSocial History:\\nDenies tobacco. Admits to occasional ETOH. She is an employee of\\nthe [**Hospital1 18**] in the Neuro-Pysch Department. She is married with two\\nchildren. She denies IVDA and recreational drugs.\\n\\nFamily History:\\nFather underwent CABG at age 72. Cousin died of an MI at age 46.\\n\\nPhysical Exam:\\nVitals: BP 114/68, HR 90, RR 14\\nGeneral: well developed female in no acute distress\\nHEENT: oropharynx benign,\\nNeck: supple, no JVD, no carotid bruits\\nHeart: regular rate, normal s1s2, no murmur or rub\\nLungs: clear bilaterally\\nAbdomen: soft, nontender, normoactive bowel sounds\\nExt: warm, no edema, no varicosities\\nPulses: 2+ distally\\nNeuro: nonfocal\\n\\n\\nPertinent Results:\\n[**2134-12-31**] 06:15AM BLOOD WBC-6.6# RBC-2.98* Hgb-9.1* Hct-26.1*\\nMCV-88 MCH-30.6 MCHC-35.0 RDW-13.1 Plt Ct-192\\n[**2134-12-27**] 06:19PM BLOOD WBC-10.5 RBC-3.42*# Hgb-10.5*# Hct-30.0*\\nMCV-88 MCH-30.8 MCHC-35.2* RDW-12.6 Plt Ct-138*\\n[**2134-12-31**] 06:15AM BLOOD Glucose-121* UreaN-12 Creat-0.7 Na-140\\nK-5.1 Cl-106 HCO3-28 AnGap-11\\n[**2134-12-27**] 07:21PM BLOOD UreaN-11 Creat-0.8 Cl-112* HCO3-23\\n[**2134-12-31**] 06:15AM BLOOD Calcium-8.1* Phos-3.2 Mg-2.0\\n\\nBrief Hospital Course:\\nMrs. [**Known lastname 11679**] was admitted and underwent surgical closure of her\\npatent foramen ovale. The operation was performed minimally\\ninvasive and there were no complications. Following the\\nprocedure, she was brought to the CSRU. She initially remained\\nhypotensive, requiring volume and Neosynephrine. Within 24\\nhours, she awoke neurologically intact and was extubated without\\ndifficulty. By postoperative day two, she successfully weaned\\nfrom inotropic support. She maintained stable hemodynamics and\\ntransferred to the floor. On telemetry, she remained mostly in a\\nnormal sinus rhythm with brief periods of accelerated junctional\\nrhythm. She otherwise continued to make clinical improvements\\nand was cleared for discharge on postoperative day four. She\\nremained just on Aspirin therapy. Aggrenox was not resumed as\\nher PFO was surgically repaired. At discharge, her systolic\\nblood pressures were in the 100's with heart rate of 80-90. Her\\nroom air saturations were 93% and she was ambulating without\\ndifficulty. She had good pain control with Dilaudid and all\\nwounds were clean, dry and intact.\\n\\nMedications on Admission:\\nBupropion 150 [**Hospital1 **], Aggrenox qd, Centrum, Calcium, Erythromycin\\neye gtts\\n\\nDischarge Medications:\\n1. Bupropion 150 mg Tablet Sustained Release Sig: One (1) Tablet\\nSustained Release PO BID (2 times a day).\\nDisp:*60 Tablet Sustained Release(s)* Refills:*2*\\n2. Docusate Sodium 100 mg Capsule Sig: One (1) Capsule PO BID (2\\ntimes a day).\\nDisp:*60 Capsule(s)* Refills:*2*\\n3. Aspirin 81 mg Tablet, Delayed Release (E.C.) Sig: One (1)\\nTablet, Delayed Release (E.C.) PO DAILY (Daily).\\nDisp:*30 Tablet, Delayed Release (E.C.)(s)* Refills:*2*\\n4. Hydromorphone 2 mg Tablet Sig: 1-2 Tablets PO every 6-8 hours\\nas needed.\\nDisp:*50 Tablet(s)* Refills:*0*\\n\\n\\nDischarge Disposition:\\nHome With Service\\n\\nFacility:\\n[**Hospital 119**] Homecare\\n\\nDischarge Diagnosis:\\nPatent foramen ovale - s/p surgical closure; History of\\nStroke/TIA; Depression; Anxiety; Borderline Hyperlipidemia;\\nHerniation of Cervical Discs; Patella-Femoral Syndrome; s/p\\nBunionectomies\\n\\n\\nDischarge Condition:\\nGood\\n\\n\\nDischarge Instructions:\\nPatient may shower, no baths. No creams, lotions or ointments to\\nincisions. No driving for at least one month. No lifting more\\nthan 10 lbs for at least 10 weeks from the date of surgery.\\nMonitor wounds for signs of infection. Please call with any\\nconcerns or questions.\\n\\n\\nFollowup Instructions:\\nCardiac surgeon, Dr. [**Last Name (STitle) 1290**] in [**5-11**] weeks - call for appt,\\n[**Telephone/Fax (1) 170**]. Local PCP, [**Last Name (NamePattern4) **]. [**Last Name (STitle) **] in [**3-11**] weeks - call for\\nappt. Local cardiologist, Dr. [**Last Name (STitle) 11255**] in [**3-11**] weeks - call for\\nappt\\n\\n\\n\\nCompleted by:[**2134-12-31**]\""
   ]
  },
  {
   "cell_type": "code",
   "execution_count": 66,
   "metadata": {},
   "outputs": [
    {
     "data": {
      "text/plain": [
       "Index(['SUBJECT_ID', 'HADM_ID', 'GROUP_RANK', 'TEXT', 'TITLE',\n",
       "       'HOSPITAL COURSE', 'MEDICAL HISTORY', 'MEDICATIONS ON ADMISSION'],\n",
       "      dtype='object')"
      ]
     },
     "execution_count": 66,
     "metadata": {},
     "output_type": "execute_result"
    }
   ],
   "source": [
    "notes_discharge_df.columns"
   ]
  },
  {
   "cell_type": "code",
   "execution_count": 83,
   "metadata": {
    "code_folding": []
   },
   "outputs": [],
   "source": [
    "## Only Run for One Time: save sessions for all episodes in one file\n",
    "write2file(notes_discharge_df[['SUBJECT_ID', 'HADM_ID', \n",
    "                               'GROUP_RANK','TITLE',\n",
    "                               'GROUP_RANK','HOSPITAL COURSE', 'MEDICAL HISTORY', 'MEDICATIONS ON ADMISSION']],\n",
    "          join(dis_sum_keysessions_prefix,\"Key Sessions_All\"))"
   ]
  },
  {
   "cell_type": "code",
   "execution_count": 5,
   "metadata": {
    "code_folding": []
   },
   "outputs": [],
   "source": [
    "def save_keysessions_byfolder(notes_discharge_df,file=\"Key sessions_%d\",prefix=dis_sum_keysessions_prefix):\n",
    "    for subject_id, group in notes_discharge_df.groupby(['SUBJECT_ID']):\n",
    "        hadm_ids = group['HADM_ID'].unique()\n",
    "        ## create folder ~/subject_id/hadm_id\n",
    "        cols = ['GROUP_RANK','HOSPITAL COURSE', 'MEDICAL HISTORY', 'MEDICATIONS ON ADMISSION']\n",
    "        \n",
    "        for hadm_id, subgroup in group.groupby(['HADM_ID']):\n",
    "            write_dir = join(prefix,str(subject_id),hadm_id)\n",
    "            create_folder(write_dir)\n",
    "#             [create_folder(join(dis_sum_prefix,str(subject_id),hadm_id)) for hadm_id in hadm_ids]\n",
    "#             dir = join(dis_sum_prefix,str(subject_id))    \n",
    "            \n",
    "            for _, row in subgroup[cols].iterrows():\n",
    "                file_name = file%row['GROUP_RANK']\n",
    "                write2json(row.to_json(),join(write_dir,file_name))"
   ]
  },
  {
   "cell_type": "code",
   "execution_count": 3,
   "metadata": {
    "code_folding": []
   },
   "outputs": [],
   "source": [
    "def save_keysessions_byfile(notes_discharge_df,file=\"%s_%s_%d\",prefix=\"/data/liu/mimic3/CLAMP_NER/input\"):\n",
    "    \n",
    "    pastdrug_pre = join(prefix,\"medical_history\")\n",
    "    course_pre = join(prefix,\"hospital_course\")\n",
    "    admi_medi_pre = join(prefix,\"medications_on_admission\")\n",
    "    \n",
    "    for subject_id, group in notes_discharge_df.groupby(['SUBJECT_ID']):\n",
    "        hadm_ids = group['HADM_ID'].unique()\n",
    "        ## create folder ~/subject_id/hadm_id\n",
    "        cols = ['GROUP_RANK','HOSPITAL COURSE', 'MEDICAL HISTORY', 'MEDICATIONS ON ADMISSION']\n",
    "        \n",
    "        for hadm_id, subgroup in group.groupby(['HADM_ID']):\n",
    "#             write_dir = join(prefix,str(subject_id),hadm_id)\n",
    "#             create_folder(write_dir)\n",
    "#             [create_folder(join(dis_sum_prefix,str(subject_id),hadm_id)) for hadm_id in hadm_ids]\n",
    "#             dir = join(dis_sum_prefix,str(subject_id))    \n",
    "            \n",
    "            for _, row in subgroup[cols].iterrows():\n",
    "                file_name = file%(str(subject_id), hadm_id, row['GROUP_RANK'])\n",
    "                write2txt(row[\"HOSPITAL COURSE\"],join(course_pre,file_name))\n",
    "                write2txt(row[\"MEDICAL HISTORY\"],join(pastdrug_pre,file_name))\n",
    "                write2txt(row[\"MEDICATIONS ON ADMISSION\"],join(admi_medi_pre,file_name))\n",
    "\n",
    "#                 file_name = file%(str(subject_id), hadm_id, row['GROUP_RANK'])\n",
    "# #                 print(('\\n\\n').join(row[cols[1:]].tolist()))\n",
    "#                 write2txt(('\\n\\n').join(row[cols[1:]].tolist()),join(prefix,file_name))"
   ]
  },
  {
   "cell_type": "code",
   "execution_count": 17,
   "metadata": {},
   "outputs": [],
   "source": [
    "notes_discharge_df = read_data(join(dis_sum_keysessions_prefix,\"Key Sessions_All\"))"
   ]
  },
  {
   "cell_type": "code",
   "execution_count": 7,
   "metadata": {},
   "outputs": [],
   "source": [
    "### dropna: remove those discharge summaries having null value in any session of three\n",
    "save_keysessions_byfile(notes_discharge_df.dropna())"
   ]
  },
  {
   "cell_type": "code",
   "execution_count": 15,
   "metadata": {},
   "outputs": [
    {
     "name": "stdout",
     "output_type": "stream",
     "text": [
      "HOSPITAL COURSE: 21,912 episodes\n",
      "MEDICAL HISTORY: 19,601 episodes\n",
      "MEDICATIONS ON ADMISSION: 15,520 episodes\n"
     ]
    }
   ],
   "source": [
    "for folder in ['HOSPITAL COURSE', 'MEDICAL HISTORY', 'MEDICATIONS ON ADMISSION']:    \n",
    "    print(\"{:}: {:,d} episodes\".format(folder,len(notes_discharge_df.dropna(subset=[folder]).HADM_ID.unique())))"
   ]
  },
  {
   "cell_type": "code",
   "execution_count": 23,
   "metadata": {},
   "outputs": [
    {
     "name": "stdout",
     "output_type": "stream",
     "text": [
      "Discharge Summaries without null value in any Session: 15,289 episodes\n"
     ]
    }
   ],
   "source": [
    "print(\"{:}: {:,d} episodes\".format(\"Discharge Summaries without null value in any Session\",\n",
    "                                  len(notes_discharge_df.dropna().HADM_ID.unique())))"
   ]
  },
  {
   "cell_type": "code",
   "execution_count": 6,
   "metadata": {},
   "outputs": [
    {
     "data": {
      "text/plain": [
       "37560"
      ]
     },
     "execution_count": 6,
     "metadata": {},
     "output_type": "execute_result"
    }
   ],
   "source": [
    "len(notes_discharge_df.SUBJECT_ID.unique())"
   ]
  },
  {
   "cell_type": "code",
   "execution_count": 12,
   "metadata": {},
   "outputs": [],
   "source": [
    "notes_discharge_df_withcourse = notes_discharge_df.dropna(subset=['HOSPITAL COURSE'])"
   ]
  },
  {
   "cell_type": "code",
   "execution_count": 15,
   "metadata": {},
   "outputs": [
    {
     "data": {
      "text/plain": [
       "17974"
      ]
     },
     "execution_count": 15,
     "metadata": {},
     "output_type": "execute_result"
    }
   ],
   "source": [
    "len(notes_discharge_df_withcourse.SUBJECT_ID.unique())"
   ]
  },
  {
   "cell_type": "code",
   "execution_count": 8,
   "metadata": {
    "code_folding": []
   },
   "outputs": [],
   "source": [
    "# save_keysessions_byfolder(notes_discharge_df)"
   ]
  },
  {
   "cell_type": "markdown",
   "metadata": {},
   "source": [
    "## Check Titles of Sessions"
   ]
  },
  {
   "cell_type": "code",
   "execution_count": 12,
   "metadata": {},
   "outputs": [
    {
     "data": {
      "text/html": [
       "<div>\n",
       "<style scoped>\n",
       "    .dataframe tbody tr th:only-of-type {\n",
       "        vertical-align: middle;\n",
       "    }\n",
       "\n",
       "    .dataframe tbody tr th {\n",
       "        vertical-align: top;\n",
       "    }\n",
       "\n",
       "    .dataframe thead th {\n",
       "        text-align: right;\n",
       "    }\n",
       "</style>\n",
       "<table border=\"1\" class=\"dataframe\">\n",
       "  <thead>\n",
       "    <tr style=\"text-align: right;\">\n",
       "      <th></th>\n",
       "      <th>SUBJECT_ID</th>\n",
       "      <th>HADM_ID</th>\n",
       "      <th>GROUP_RANK</th>\n",
       "      <th>TEXT</th>\n",
       "      <th>SPLIT_N</th>\n",
       "      <th>TITLE</th>\n",
       "    </tr>\n",
       "  </thead>\n",
       "  <tbody>\n",
       "    <tr>\n",
       "      <th>2</th>\n",
       "      <td>6</td>\n",
       "      <td>107064</td>\n",
       "      <td>1</td>\n",
       "      <td>Admission Date: [**2175-5-30**]        Dischar...</td>\n",
       "      <td>9</td>\n",
       "      <td>\\nADMISSION DIAGNOSIS:\\nHISTORY OF PRESENT ILL...</td>\n",
       "    </tr>\n",
       "    <tr>\n",
       "      <th>3</th>\n",
       "      <td>9</td>\n",
       "      <td>150750</td>\n",
       "      <td>1</td>\n",
       "      <td>Admission Date:  [**2149-11-9**]       Dischar...</td>\n",
       "      <td>10</td>\n",
       "      <td>\\nCHIEF COMPLAINT:\\nHISTORY OF THE PRESENT ILL...</td>\n",
       "    </tr>\n",
       "    <tr>\n",
       "      <th>5</th>\n",
       "      <td>10</td>\n",
       "      <td>184167</td>\n",
       "      <td>1</td>\n",
       "      <td>Admission Date:  [**2103-6-28**]       Dischar...</td>\n",
       "      <td>9</td>\n",
       "      <td>\\nHISTORY OF PRESENT ILLNESS:\\nPHYSICAL EXAMIN...</td>\n",
       "    </tr>\n",
       "    <tr>\n",
       "      <th>6</th>\n",
       "      <td>11</td>\n",
       "      <td>194540</td>\n",
       "      <td>1</td>\n",
       "      <td>Admission Date:  [**2178-4-16**]              ...</td>\n",
       "      <td>15</td>\n",
       "      <td>\\n\\nPHYSICAL EXAM:\\n\\nHISTORY:\\n\\nTECHNIQUE:\\n...</td>\n",
       "    </tr>\n",
       "    <tr>\n",
       "      <th>7</th>\n",
       "      <td>12</td>\n",
       "      <td>112213</td>\n",
       "      <td>1</td>\n",
       "      <td>Admission Date:  [**2104-8-7**]     Discharge ...</td>\n",
       "      <td>9</td>\n",
       "      <td>\\nHISTORY OF PRESENT ILLNESS:\\nPAST MEDICAL HI...</td>\n",
       "    </tr>\n",
       "  </tbody>\n",
       "</table>\n",
       "</div>"
      ],
      "text/plain": [
       "   SUBJECT_ID HADM_ID  GROUP_RANK  \\\n",
       "2           6  107064           1   \n",
       "3           9  150750           1   \n",
       "5          10  184167           1   \n",
       "6          11  194540           1   \n",
       "7          12  112213           1   \n",
       "\n",
       "                                                TEXT  SPLIT_N  \\\n",
       "2  Admission Date: [**2175-5-30**]        Dischar...        9   \n",
       "3  Admission Date:  [**2149-11-9**]       Dischar...       10   \n",
       "5  Admission Date:  [**2103-6-28**]       Dischar...        9   \n",
       "6  Admission Date:  [**2178-4-16**]              ...       15   \n",
       "7  Admission Date:  [**2104-8-7**]     Discharge ...        9   \n",
       "\n",
       "                                               TITLE  \n",
       "2  \\nADMISSION DIAGNOSIS:\\nHISTORY OF PRESENT ILL...  \n",
       "3  \\nCHIEF COMPLAINT:\\nHISTORY OF THE PRESENT ILL...  \n",
       "5  \\nHISTORY OF PRESENT ILLNESS:\\nPHYSICAL EXAMIN...  \n",
       "6  \\n\\nPHYSICAL EXAM:\\n\\nHISTORY:\\n\\nTECHNIQUE:\\n...  \n",
       "7  \\nHISTORY OF PRESENT ILLNESS:\\nPAST MEDICAL HI...  "
      ]
     },
     "execution_count": 12,
     "metadata": {},
     "output_type": "execute_result"
    }
   ],
   "source": [
    "notes_discharge_df.head()"
   ]
  },
  {
   "cell_type": "code",
   "execution_count": 5,
   "metadata": {},
   "outputs": [],
   "source": [
    "titles = notes_discharge_df['TITLE'][2].split('\\n')"
   ]
  },
  {
   "cell_type": "code",
   "execution_count": 6,
   "metadata": {},
   "outputs": [
    {
     "name": "stdout",
     "output_type": "stream",
     "text": [
      "Admission Date: [**2175-5-30**]        Discharge Date:  [**2175-6-15**]\n",
      "\n",
      "Date of Birth:                    Sex:  F\n",
      "\n",
      "Service:\n",
      "\n",
      "\n",
      "ADMISSION DIAGNOSIS:  End stage renal disease, admitted for\n",
      "transplant surgery.\n",
      "\n",
      "HISTORY OF PRESENT ILLNESS:  The patient is a 65 year-old\n",
      "woman with end stage renal disease, secondary to malignant\n",
      "hypertension. She was started on dialysis in [**2174-2-7**].  She currently was on peritoneal dialysis and appears\n",
      "to be doing well.  She has a history of gastric angiectasia\n",
      "which she requires endoscopy. She was admitted on [**2175-5-30**] for\n",
      "a scheduled living donor kidney transplant by her son, who is\n",
      "the donor.  She does have a donor specific antibody (B-51)\n",
      "and will have a final T & B cell class match prior to\n",
      "transplantation.\n",
      "\n",
      "PAST MEDICAL HISTORY:  End stage renal disease, secondary to\n",
      "malignant hypertension on dialysis.  History of anemia\n",
      "following gastric angiectasia.  She has no known history for\n",
      "coronary artery disease for diabetes.\n",
      "\n",
      "ALLERGIES:  No known drug allergies.\n",
      "\n",
      "MEDICATIONS:  Unknown.\n",
      "\n",
      "SOCIAL HISTORY:  Married, lives with her husband.  She has a\n",
      "history of a half pack of cigarettes per day for 20 years.\n",
      "Occasional alcohol.\n",
      "\n",
      "PHYSICAL EXAMINATION:  The patient was afebrile.  Vital signs\n",
      "were stable. Blood pressure was 124/58; heart rate 76; weight\n",
      "160 pounds. Abdomen soft and nontender.  She has a peritoneal\n",
      "dialysis catheter in the right lower quadrant. She has good\n",
      "femoral pulses bilaterally. Mild pedal edema.\n",
      "\n",
      "HOSPITAL COURSE:  On [**2175-5-30**], the patient went to the\n",
      "operating room for living donor kidney transplant, performed\n",
      "by Dr. [**Last Name (STitle) **] and assisting by Dr. [**Last Name (STitle) **]. Please see details\n",
      "of this surgery in operating room note. Also during her\n",
      "operating room time, the patient also had a right iliac\n",
      "artery thrombosis.  It was noted that at the end of the\n",
      "completion of the procedure, that she had an ischemic\n",
      "appearing right foot and absence of a right femoral pulse. In\n",
      "the operation, there was some difficulty with arterial\n",
      "anastomosis, renal artery to the left iliac artery and Dr.\n",
      "[**Last Name (STitle) **] came to assist Dr. [**Last Name (STitle) **].  Again, please see\n",
      "details of that operation in the operative report.\n",
      "\n",
      "Postoperatively, the patient went to the Intensive Care Unit.\n",
      "The patient had an A line, a central line, Foley. She was\n",
      "placed on a heparin drip to keep PTT between 45 and 50.  The\n",
      "patient's dressing was clean, dry and intact. The patient had\n",
      "2 [**First Name8 (NamePattern2) 1661**] [**Last Name (NamePattern1) 1662**] drains in place.  Good femoral pulse and good\n",
      "dorsalis pedis pulse.  These pulses were palpable.  The\n",
      "patient was making good urine output postoperatively.  Renal\n",
      "was consulted and made recommendations.  Postoperatively, the\n",
      "patient had a renal ultrasound demonstrating an unremarkable\n",
      "renal transplant ultrasound with normal size and appearance\n",
      "of the transplanted kidney and normal arterial wave forms and\n",
      "resistive disease, ranging from 0.63 to 0.75 throughout.\n",
      "\n",
      "On postoperative day number one, the patient had another\n",
      "ultrasound secondary to her hematocrit decreasing and they\n",
      "wanted to rule out hematoma. The ultrasound demonstrated that\n",
      "there was no hematoma seen adjacent to the transplanted\n",
      "kidney. The transplanted kidney is minimally changed from\n",
      "yesterday which was on [**2175-5-30**] with a small amount of pelvic\n",
      "ectasis.  Relatively unchanged resistive indices.  The\n",
      "patient did get multiple transfusions for her low hematocrit.\n",
      "Her heparin was discontinued on [**2175-6-1**]. The patient received\n",
      "1/2 cc per cc of replacement and on [**6-1**], Tacrolimus was\n",
      "started.  On [**2175-6-2**], the patient had some complaint of right\n",
      "foot numbness. Lower extremity ultrasound was obtained to\n",
      "rule out deep venous thrombosis and this showed no evidence\n",
      "of right lower extremity deep venous thrombosis.  On [**2175-6-2**],\n",
      "WBC was 2.9, hematocrit of 35.2. Also on [**6-2**], PT was 13.5,\n",
      "PTT was 36.7, INR of 1.2.  Sodium that day was 129 and 4.4,\n",
      "100 BUN, creatinine of 69 and 6.2 with a glucose of 96.\n",
      "\n",
      "Vascular surgery continued to see the patient.  It was\n",
      "decided that hematocrit was stable, that heparin could be\n",
      "continued. The patient was restarted on heparin.  The patient\n",
      "still complained of right foot numbness but it was about the\n",
      "same and not worse.  She was continued on all of her\n",
      "immunosuppressive medications, including Tacrolimus, Valcyte,\n",
      "Cellcept, Bactrim, Solu-Medrol.  The patient was transitioned\n",
      "from heparin to Coumadin.  The patient was transferred to the\n",
      "floor, continued to make excellent urine output.  The patient\n",
      "had another ultrasound on [**2175-6-6**] because there was blood in\n",
      "her [**First Name8 (NamePattern2) 1661**] [**Last Name (NamePattern1) 1662**] drain and with the decreasing hematocrit.\n",
      "Ultrasound demonstrated normal arterial and venous color,\n",
      "blood flow and wave form with normal residual indices.  7.6\n",
      "by 3.5 cm fluid collection, likely simply fluid, anterior to\n",
      "the contrast. Focal area of heterogeneity within the lateral\n",
      "aspect of the mid pole, probably which demonstrates normal\n",
      "blood flow and may represent artifact; however, attention to\n",
      "this area on a follow up scan is recommended to document\n",
      "interval change or resolution.\n",
      "\n",
      "On [**2175-6-9**], the patient's right lower extremity was swollen.\n",
      "The patient complained of right hip and thigh pain, pitting\n",
      "edema of right lower extremity greater than left lower\n",
      "extremity so an ultrasound was performed which included the\n",
      "right iliac artery. This demonstrated acute deep venous\n",
      "thrombosis within the right common femoral and superficial\n",
      "femoral veins which had developed since [**2175-6-2**]. There\n",
      "is a right groin hematoma which was unchanged. The patient\n",
      "continued to be anticoagulated for DVT.  One drain was\n",
      "eventually removed, continued on [**2175-6-12**] with drain output of\n",
      "170, afebrile, vital signs stable.  She went home with\n",
      "services on the following medications:  Valcyte 450 mg q.\n",
      "day, Bactrim SS 1 tab q. day, Protonix 40 mg q. day, Nystatin\n",
      "5 ml suspension, 5 ml four times a day, Colace 100 mg twice a\n",
      "day, Movlapine 10 mg q. day, Percocet 22 tabs q. day,\n",
      "Lopressor 100 mg twice a day, MMF 500 mg q.o.d. Coumadin 2 mg\n",
      "q. day.  This should be monitored to keep the INR between 2\n",
      "and 3. Reglan 10 mg four times a day before meals and at\n",
      "bedtime.  Tacrolimus 10 mg p.o. twice a day. Potassium sodium\n",
      "phosphate, one packet q. day and Compazine 10 mg q. 6 hours\n",
      "prn.  The patient has a follow up appointment with Dr.\n",
      "[**Last Name (STitle) **], please call [**Telephone/Fax (1) 673**] for an appointment.  The\n",
      "patient needs to change dressings on her wound twice a day\n",
      "located on her groin, place a dry gauze between the wound and\n",
      "her skin.  No heavy lifting of greater than 10 pounds for the\n",
      "first 6 weeks after surgery.\n",
      "\n",
      "DIAGNOSES:  End stage renal disease, status post renal\n",
      "transplant.\n",
      "Arterial thrombosis.\n",
      "Deep venous thrombosis.\n",
      "Resolving hypertension.\n",
      "\n",
      "\n",
      "\n",
      "                        [**Name6 (MD) **] [**Name8 (MD) **], [**MD Number(1) 55494**]\n",
      "\n",
      "Dictated By:[**Last Name (NamePattern1) 4835**]\n",
      "MEDQUIST36\n",
      "D:  [**2175-9-15**] 16:39:51\n",
      "T:  [**2175-9-15**] 17:14:46\n",
      "Job#:  [**Job Number 55495**]\n",
      "\n"
     ]
    }
   ],
   "source": [
    "print(notes_discharge_df['TEXT'][2])"
   ]
  }
 ],
 "metadata": {
  "kernelspec": {
   "display_name": "Python [conda env:py36]",
   "language": "python",
   "name": "conda-env-py36-py"
  },
  "language_info": {
   "codemirror_mode": {
    "name": "ipython",
    "version": 3
   },
   "file_extension": ".py",
   "mimetype": "text/x-python",
   "name": "python",
   "nbconvert_exporter": "python",
   "pygments_lexer": "ipython3",
   "version": "3.6.8"
  },
  "toc": {
   "base_numbering": 1,
   "nav_menu": {},
   "number_sections": true,
   "sideBar": true,
   "skip_h1_title": false,
   "title_cell": "Table of Contents",
   "title_sidebar": "Contents",
   "toc_cell": false,
   "toc_position": {
    "height": "calc(100% - 180px)",
    "left": "10px",
    "top": "150px",
    "width": "165px"
   },
   "toc_section_display": true,
   "toc_window_display": true
  }
 },
 "nbformat": 4,
 "nbformat_minor": 2
}
