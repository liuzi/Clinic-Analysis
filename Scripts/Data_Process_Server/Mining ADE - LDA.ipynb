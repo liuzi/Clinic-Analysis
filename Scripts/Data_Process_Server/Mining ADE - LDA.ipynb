{
 "cells": [
  {
   "cell_type": "code",
   "execution_count": 1,
   "metadata": {},
   "outputs": [],
   "source": [
    "import numpy as np\n",
    "import pandas as pd\n",
    "import re\n",
    "from os.path import join\n",
    "\n",
    "from tools import *"
   ]
  },
  {
   "cell_type": "code",
   "execution_count": 2,
   "metadata": {},
   "outputs": [],
   "source": [
    "## rename EXTRACT_FEATURES to DIMENSION_REDUCTION\n",
    "read_prefix = \"/data/MIMIC3/\"\n",
    "write_prefix = \"/data/liu/LDA\""
   ]
  },
  {
   "cell_type": "markdown",
   "metadata": {},
   "source": [
    "## Read Data"
   ]
  },
  {
   "cell_type": "code",
   "execution_count": 2,
   "metadata": {},
   "outputs": [],
   "source": [
    "diag_df = read_data(join(read_prefix,\"DIAGNOSES_ICD\"))\n",
    "diag_df.head()"
   ]
  },
  {
   "cell_type": "code",
   "execution_count": null,
   "metadata": {},
   "outputs": [],
   "source": [
    "pres_df = read_data(join(read_prefix,\"PRESCRIPTIONS\"),dtype={'NDC':str})\n",
    "pres_df.head()"
   ]
  },
  {
   "cell_type": "markdown",
   "metadata": {},
   "source": [
    "## Get Matrix of All Patients and All Items"
   ]
  },
  {
   "cell_type": "code",
   "execution_count": null,
   "metadata": {},
   "outputs": [],
   "source": [
    "diag_disease_all = diag_df[['SUBJECT_ID','ICD9_CODE','HADM_ID']].dropna().drop_duplicates()\n",
    "pres_drug_all = pres_df[['SUBJECT_ID','NDC','HADM_ID']].dropna().drop_duplicates()\n",
    "pres_drug_all = pres_drug_all[pres_drug_all['NDC']!='0']"
   ]
  },
  {
   "cell_type": "code",
   "execution_count": null,
   "metadata": {},
   "outputs": [],
   "source": [
    "print(\"Diagnoses: %d patients and %d diseases\" \n",
    "      %(len(diag_disease_all.SUBJECT_ID.unique()),len(diag_disease_all.ICD9_CODE.unique())))\n",
    "print(\"Prescriptions: %d patients and %d diseases\" \n",
    "      %(len(pres_drug_all.SUBJECT_ID.unique()),len(pres_drug_all.NDC.unique())))"
   ]
  },
  {
   "cell_type": "code",
   "execution_count": null,
   "metadata": {},
   "outputs": [],
   "source": [
    "## randomly select one HADM_ID for each patient\n",
    "diag_hadm_all = inner_join(diag_disease_all[['SUBJECT_ID','HADM_ID']].drop_duplicates(),\\\n",
    "                           pres_drug_all[['SUBJECT_ID','HADM_ID']].drop_duplicates(),'SUBJECT_ID')\n",
    "diag_hadm_all = diag_hadm_all[diag_hadm_all['HADM_ID_x']==diag_hadm_all['HADM_ID_y']]\n",
    "diag_hadm_all.head()"
   ]
  },
  {
   "cell_type": "code",
   "execution_count": null,
   "metadata": {},
   "outputs": [],
   "source": [
    "size = 1        # sample size\n",
    "fn = lambda obj: obj.loc[np.random.choice(obj.index, size),:]\n",
    "hadm_all = diag_hadm_all.groupby('SUBJECT_ID', as_index=False).apply(fn)['HADM_ID_x']"
   ]
  },
  {
   "cell_type": "code",
   "execution_count": null,
   "metadata": {},
   "outputs": [],
   "source": [
    "diag_hadm = diag_disease_all[diag_disease_all['HADM_ID'].isin(hadm_all)][['SUBJECT_ID','ICD9_CODE']]\n",
    "pres_hadm = pres_drug_all[pres_drug_all['HADM_ID'].isin(hadm_all)][['SUBJECT_ID','NDC']]\n",
    "diag_hadm.head()"
   ]
  },
  {
   "cell_type": "code",
   "execution_count": null,
   "metadata": {},
   "outputs": [],
   "source": [
    "diag_hadm['VALUE']=1\n",
    "pres_hadm['VALUE']=1"
   ]
  },
  {
   "cell_type": "code",
   "execution_count": null,
   "metadata": {},
   "outputs": [],
   "source": [
    "diag_matrix = diag_hadm.pivot(index='SUBJECT_ID', columns='ICD9_CODE', values='VALUE').fillna(0).reset_index()\n",
    "diag_matrix.head()"
   ]
  },
  {
   "cell_type": "code",
   "execution_count": null,
   "metadata": {},
   "outputs": [],
   "source": [
    "pres_matrix = pres_hadm.pivot(index='SUBJECT_ID', columns='NDC', values='VALUE').fillna(0).reset_index()\n",
    "pres_matrix.head()"
   ]
  },
  {
   "cell_type": "code",
   "execution_count": null,
   "metadata": {},
   "outputs": [],
   "source": [
    "print(\"diag_shape: %s \\npres_shape: %s\"%(diag_matrix.shape,pres_matrix.shape))"
   ]
  },
  {
   "cell_type": "code",
   "execution_count": null,
   "metadata": {},
   "outputs": [],
   "source": [
    "write2file(diag_matrix,join(write_prefix,\"diag_matrix\"))\n",
    "write2file(pres_matrix,join(write_prefix,\"pres_matrix\"))"
   ]
  },
  {
   "cell_type": "markdown",
   "metadata": {},
   "source": [
    "## Sampling"
   ]
  },
  {
   "cell_type": "code",
   "execution_count": null,
   "metadata": {},
   "outputs": [],
   "source": [
    "diag_disease_all = diag_df[['ICD9_CODE']].dropna().drop_duplicates()\n",
    "pres_drug_all = pres_df[['NDC']].dropna().drop_duplicates()\n",
    "sample_disease_1000 = diag_disease_all.sample(n=1000, random_state=2019)\n",
    "sample_drug_1000 = pres_drug_all.sample(n=1000, random_state=2019)"
   ]
  },
  {
   "cell_type": "code",
   "execution_count": null,
   "metadata": {},
   "outputs": [],
   "source": [
    "diag_df_1000 = diag_df[diag_df['ICD9_CODE'].isin(sample_disease_1000['ICD9_CODE'])]\n",
    "pres_df_1000 = pres_df[pres_df['NDC'].isin(sample_drug_1000['NDC'])]\n",
    "\n",
    "write2file(diag_df_1000,join(write_prefix,\"diag_df_1kdisease\"))\n",
    "write2file(pres_df_1000,join(write_prefix,\"pres_df_1kdrug\"))"
   ]
  },
  {
   "cell_type": "code",
   "execution_count": null,
   "metadata": {},
   "outputs": [],
   "source": [
    "## select common 1000 users after filter 1000 drugs and diseases\n",
    "common_user_all = inner_join(diag_df_1000[['SUBJECT_ID']].drop_duplicates(),\\\n",
    "                             pres_df_1000[['SUBJECT_ID']].drop_duplicates(),'SUBJECT_ID')\n",
    "sample_user_1000 = common_user_all.sample(n=1000, random_state=2019)\n",
    "diag_df_1k_1k = diag_df_1000[diag_df_1000['SUBJECT_ID'].isin(sample_user_1000['SUBJECT_ID'])]\n",
    "pres_df_1k_1k = pres_df_1000[pres_df_1000['SUBJECT_ID'].isin(sample_user_1000['SUBJECT_ID'])]"
   ]
  },
  {
   "cell_type": "code",
   "execution_count": null,
   "metadata": {},
   "outputs": [],
   "source": [
    "write2file(diag_df_1k_1k,join(write_prefix,\"diag_df_1k_1k\"))\n",
    "write2file(pres_df_1k_1k,join(write_prefix,\"pres_df_1k_1k\"))"
   ]
  },
  {
   "cell_type": "markdown",
   "metadata": {},
   "source": [
    "## Diag_df_1000 -> patients*clusters  *  cluster*elements"
   ]
  },
  {
   "cell_type": "code",
   "execution_count": null,
   "metadata": {},
   "outputs": [],
   "source": [
    "diag_df_1k_1k = read_data(join(write_prefix,\"diag_df_1k_1k\"))\n",
    "pres_df_1k_1k = read_data(join(write_prefix,\"pres_df_1k_1k\"))"
   ]
  },
  {
   "cell_type": "code",
   "execution_count": null,
   "metadata": {},
   "outputs": [],
   "source": [
    "diag_df_1k_1k.head()"
   ]
  },
  {
   "cell_type": "code",
   "execution_count": null,
   "metadata": {},
   "outputs": [],
   "source": [
    "## randomly select one HADM_ID for each patient\n",
    "diag_hadm_all = inner_join(diag_df_1k_1k[['SUBJECT_ID','HADM_ID']].drop_duplicates(),\\\n",
    "                           pres_df_1k_1k[['SUBJECT_ID','HADM_ID']].drop_duplicates(),'SUBJECT_ID')\n",
    "diag_hadm_all = diag_hadm_all[diag_hadm_all['HADM_ID_x']==diag_hadm_all['HADM_ID_y']]\n",
    "diag_hadm_all.head()"
   ]
  },
  {
   "cell_type": "code",
   "execution_count": null,
   "metadata": {},
   "outputs": [],
   "source": [
    "size = 1        # sample size\n",
    "fn = lambda obj: obj.loc[np.random.choice(obj.index, size),:]\n",
    "sample_hadm_1k = diag_hadm_all.groupby('SUBJECT_ID', as_index=False).apply(fn)['HADM_ID_x']"
   ]
  },
  {
   "cell_type": "code",
   "execution_count": null,
   "metadata": {},
   "outputs": [],
   "source": [
    "diag_df_1k_1k_hadm = diag_df_1k_1k[diag_df_1k_1k['HADM_ID']\\\n",
    "                                   .isin(sample_hadm_1k)][['SUBJECT_ID','ICD9_CODE']].drop_duplicates()\n",
    "diag_df_1k_1k_hadm['VALUE']=1"
   ]
  },
  {
   "cell_type": "code",
   "execution_count": null,
   "metadata": {},
   "outputs": [],
   "source": [
    "diag_matrix = diag_df_1k_1k_hadm.pivot(index='SUBJECT_ID', columns='ICD9_CODE', values='VALUE').fillna(0).reset_index()\n",
    "print(diag_matrix.shape)\n",
    "diag_matrix.head()"
   ]
  },
  {
   "cell_type": "code",
   "execution_count": null,
   "metadata": {},
   "outputs": [],
   "source": [
    "pres_df_1k_1k_hadm = pres_df_1k_1k[pres_df_1k_1k['HADM_ID']\\\n",
    "                                   .isin(sample_hadm_1k)][['SUBJECT_ID','NDC']].drop_duplicates()\n",
    "pres_df_1k_1k_hadm['VALUE']=1\n"
   ]
  },
  {
   "cell_type": "code",
   "execution_count": null,
   "metadata": {},
   "outputs": [],
   "source": [
    "pres_matrix = pres_df_1k_1k_hadm.pivot(index='SUBJECT_ID', columns='NDC', values='VALUE').fillna(0).reset_index()\n",
    "print(pres_matrix.shape)\n",
    "pres_matrix.head()\n"
   ]
  },
  {
   "cell_type": "code",
   "execution_count": null,
   "metadata": {},
   "outputs": [],
   "source": [
    "write2file(diag_matrix,join(write_prefix,\"diag_matrix\"))\n",
    "write2file(pres_matrix,join(write_prefix,\"pres_matrix\"))"
   ]
  },
  {
   "cell_type": "markdown",
   "metadata": {},
   "source": [
    "## Running LDA "
   ]
  },
  {
   "cell_type": "code",
   "execution_count": 17,
   "metadata": {},
   "outputs": [
    {
     "name": "stderr",
     "output_type": "stream",
     "text": [
      "/home/liu/anaconda3/envs/py36/lib/python3.6/site-packages/IPython/core/interactiveshell.py:3214: DtypeWarning: Columns (5) have mixed types. Specify dtype option on import or set low_memory=False.\n",
      "  if (yield from self.run_code(code, result)):\n"
     ]
    },
    {
     "data": {
      "text/html": [
       "<div>\n",
       "<style scoped>\n",
       "    .dataframe tbody tr th:only-of-type {\n",
       "        vertical-align: middle;\n",
       "    }\n",
       "\n",
       "    .dataframe tbody tr th {\n",
       "        vertical-align: top;\n",
       "    }\n",
       "\n",
       "    .dataframe thead th {\n",
       "        text-align: right;\n",
       "    }\n",
       "</style>\n",
       "<table border=\"1\" class=\"dataframe\">\n",
       "  <thead>\n",
       "    <tr style=\"text-align: right;\">\n",
       "      <th></th>\n",
       "      <th>NDC</th>\n",
       "      <th>drugbank_id</th>\n",
       "      <th>UMLS_CUI</th>\n",
       "      <th>ICD_CODE</th>\n",
       "      <th>SNOMED_CID</th>\n",
       "      <th>ICD9_CODE</th>\n",
       "    </tr>\n",
       "  </thead>\n",
       "  <tbody>\n",
       "    <tr>\n",
       "      <th>0</th>\n",
       "      <td>00003029305</td>\n",
       "      <td>DB00620</td>\n",
       "      <td>C0000731</td>\n",
       "      <td>789.36</td>\n",
       "      <td>60728008</td>\n",
       "      <td>78936</td>\n",
       "    </tr>\n",
       "    <tr>\n",
       "      <th>1</th>\n",
       "      <td>00003049420</td>\n",
       "      <td>DB00620</td>\n",
       "      <td>C0000731</td>\n",
       "      <td>789.36</td>\n",
       "      <td>60728008</td>\n",
       "      <td>78936</td>\n",
       "    </tr>\n",
       "    <tr>\n",
       "      <th>2</th>\n",
       "      <td>00009001104</td>\n",
       "      <td>DB00620</td>\n",
       "      <td>C0000731</td>\n",
       "      <td>789.36</td>\n",
       "      <td>60728008</td>\n",
       "      <td>78936</td>\n",
       "    </tr>\n",
       "    <tr>\n",
       "      <th>3</th>\n",
       "      <td>00009001201</td>\n",
       "      <td>DB00620</td>\n",
       "      <td>C0000731</td>\n",
       "      <td>789.36</td>\n",
       "      <td>60728008</td>\n",
       "      <td>78936</td>\n",
       "    </tr>\n",
       "    <tr>\n",
       "      <th>4</th>\n",
       "      <td>00009003101</td>\n",
       "      <td>DB00620</td>\n",
       "      <td>C0000731</td>\n",
       "      <td>789.36</td>\n",
       "      <td>60728008</td>\n",
       "      <td>78936</td>\n",
       "    </tr>\n",
       "  </tbody>\n",
       "</table>\n",
       "</div>"
      ],
      "text/plain": [
       "           NDC drugbank_id  UMLS_CUI ICD_CODE  SNOMED_CID ICD9_CODE\n",
       "0  00003029305     DB00620  C0000731   789.36    60728008     78936\n",
       "1  00003049420     DB00620  C0000731   789.36    60728008     78936\n",
       "2  00009001104     DB00620  C0000731   789.36    60728008     78936\n",
       "3  00009001201     DB00620  C0000731   789.36    60728008     78936\n",
       "4  00009003101     DB00620  C0000731   789.36    60728008     78936"
      ]
     },
     "execution_count": 17,
     "metadata": {},
     "output_type": "execute_result"
    }
   ],
   "source": [
    "## Select top10 drugs in sider4\n",
    "sideffect_prefix = '/data/liu/adverse_events'\n",
    "ade_df = read_data(join(sideffect_prefix, 'ndc_icd9_side_effects'), dtype={'NDC':str, 'ICD_CODE':str})\n",
    "ade_df.head()"
   ]
  },
  {
   "cell_type": "code",
   "execution_count": 31,
   "metadata": {},
   "outputs": [],
   "source": [
    "top10_NDC_ade = ade_df.groupby('NDC')['ICD9_CODE'].count().reset_index(name='count').sort_values(['count'], ascending=False).head(10)\n",
    "top10_NDCs = top10_NDC_ade['NDC']\n",
    "write2file(top10_NDC_ade,join(write_prefix,'top10_NDC_ade'))"
   ]
  },
  {
   "cell_type": "code",
   "execution_count": 3,
   "metadata": {},
   "outputs": [
    {
     "data": {
      "text/html": [
       "<div>\n",
       "<style scoped>\n",
       "    .dataframe tbody tr th:only-of-type {\n",
       "        vertical-align: middle;\n",
       "    }\n",
       "\n",
       "    .dataframe tbody tr th {\n",
       "        vertical-align: top;\n",
       "    }\n",
       "\n",
       "    .dataframe thead th {\n",
       "        text-align: right;\n",
       "    }\n",
       "</style>\n",
       "<table border=\"1\" class=\"dataframe\">\n",
       "  <thead>\n",
       "    <tr style=\"text-align: right;\">\n",
       "      <th></th>\n",
       "      <th>SUBJECT_ID</th>\n",
       "      <th>0030</th>\n",
       "      <th>0031</th>\n",
       "      <th>0038</th>\n",
       "      <th>0039</th>\n",
       "      <th>0041</th>\n",
       "      <th>0048</th>\n",
       "      <th>0051</th>\n",
       "      <th>00581</th>\n",
       "      <th>0059</th>\n",
       "      <th>...</th>\n",
       "      <th>V8745</th>\n",
       "      <th>V8801</th>\n",
       "      <th>V8811</th>\n",
       "      <th>V8812</th>\n",
       "      <th>V8821</th>\n",
       "      <th>V9010</th>\n",
       "      <th>V902</th>\n",
       "      <th>V9039</th>\n",
       "      <th>V9081</th>\n",
       "      <th>V9103</th>\n",
       "    </tr>\n",
       "  </thead>\n",
       "  <tbody>\n",
       "    <tr>\n",
       "      <th>0</th>\n",
       "      <td>2</td>\n",
       "      <td>0.0</td>\n",
       "      <td>0.0</td>\n",
       "      <td>0.0</td>\n",
       "      <td>0.0</td>\n",
       "      <td>0.0</td>\n",
       "      <td>0.0</td>\n",
       "      <td>0.0</td>\n",
       "      <td>0.0</td>\n",
       "      <td>0.0</td>\n",
       "      <td>...</td>\n",
       "      <td>0.0</td>\n",
       "      <td>0.0</td>\n",
       "      <td>0.0</td>\n",
       "      <td>0.0</td>\n",
       "      <td>0.0</td>\n",
       "      <td>0.0</td>\n",
       "      <td>0.0</td>\n",
       "      <td>0.0</td>\n",
       "      <td>0.0</td>\n",
       "      <td>0.0</td>\n",
       "    </tr>\n",
       "    <tr>\n",
       "      <th>1</th>\n",
       "      <td>4</td>\n",
       "      <td>0.0</td>\n",
       "      <td>0.0</td>\n",
       "      <td>0.0</td>\n",
       "      <td>0.0</td>\n",
       "      <td>0.0</td>\n",
       "      <td>0.0</td>\n",
       "      <td>0.0</td>\n",
       "      <td>0.0</td>\n",
       "      <td>0.0</td>\n",
       "      <td>...</td>\n",
       "      <td>0.0</td>\n",
       "      <td>0.0</td>\n",
       "      <td>0.0</td>\n",
       "      <td>0.0</td>\n",
       "      <td>0.0</td>\n",
       "      <td>0.0</td>\n",
       "      <td>0.0</td>\n",
       "      <td>0.0</td>\n",
       "      <td>0.0</td>\n",
       "      <td>0.0</td>\n",
       "    </tr>\n",
       "    <tr>\n",
       "      <th>2</th>\n",
       "      <td>6</td>\n",
       "      <td>0.0</td>\n",
       "      <td>0.0</td>\n",
       "      <td>0.0</td>\n",
       "      <td>0.0</td>\n",
       "      <td>0.0</td>\n",
       "      <td>0.0</td>\n",
       "      <td>0.0</td>\n",
       "      <td>0.0</td>\n",
       "      <td>0.0</td>\n",
       "      <td>...</td>\n",
       "      <td>0.0</td>\n",
       "      <td>0.0</td>\n",
       "      <td>0.0</td>\n",
       "      <td>0.0</td>\n",
       "      <td>0.0</td>\n",
       "      <td>0.0</td>\n",
       "      <td>0.0</td>\n",
       "      <td>0.0</td>\n",
       "      <td>0.0</td>\n",
       "      <td>0.0</td>\n",
       "    </tr>\n",
       "    <tr>\n",
       "      <th>3</th>\n",
       "      <td>8</td>\n",
       "      <td>0.0</td>\n",
       "      <td>0.0</td>\n",
       "      <td>0.0</td>\n",
       "      <td>0.0</td>\n",
       "      <td>0.0</td>\n",
       "      <td>0.0</td>\n",
       "      <td>0.0</td>\n",
       "      <td>0.0</td>\n",
       "      <td>0.0</td>\n",
       "      <td>...</td>\n",
       "      <td>0.0</td>\n",
       "      <td>0.0</td>\n",
       "      <td>0.0</td>\n",
       "      <td>0.0</td>\n",
       "      <td>0.0</td>\n",
       "      <td>0.0</td>\n",
       "      <td>0.0</td>\n",
       "      <td>0.0</td>\n",
       "      <td>0.0</td>\n",
       "      <td>0.0</td>\n",
       "    </tr>\n",
       "    <tr>\n",
       "      <th>4</th>\n",
       "      <td>9</td>\n",
       "      <td>0.0</td>\n",
       "      <td>0.0</td>\n",
       "      <td>0.0</td>\n",
       "      <td>0.0</td>\n",
       "      <td>0.0</td>\n",
       "      <td>0.0</td>\n",
       "      <td>0.0</td>\n",
       "      <td>0.0</td>\n",
       "      <td>0.0</td>\n",
       "      <td>...</td>\n",
       "      <td>0.0</td>\n",
       "      <td>0.0</td>\n",
       "      <td>0.0</td>\n",
       "      <td>0.0</td>\n",
       "      <td>0.0</td>\n",
       "      <td>0.0</td>\n",
       "      <td>0.0</td>\n",
       "      <td>0.0</td>\n",
       "      <td>0.0</td>\n",
       "      <td>0.0</td>\n",
       "    </tr>\n",
       "  </tbody>\n",
       "</table>\n",
       "<p>5 rows × 6548 columns</p>\n",
       "</div>"
      ],
      "text/plain": [
       "   SUBJECT_ID  0030  0031  0038  0039  0041  0048  0051  00581  0059  ...  \\\n",
       "0           2   0.0   0.0   0.0   0.0   0.0   0.0   0.0    0.0   0.0  ...   \n",
       "1           4   0.0   0.0   0.0   0.0   0.0   0.0   0.0    0.0   0.0  ...   \n",
       "2           6   0.0   0.0   0.0   0.0   0.0   0.0   0.0    0.0   0.0  ...   \n",
       "3           8   0.0   0.0   0.0   0.0   0.0   0.0   0.0    0.0   0.0  ...   \n",
       "4           9   0.0   0.0   0.0   0.0   0.0   0.0   0.0    0.0   0.0  ...   \n",
       "\n",
       "   V8745  V8801  V8811  V8812  V8821  V9010  V902  V9039  V9081  V9103  \n",
       "0    0.0    0.0    0.0    0.0    0.0    0.0   0.0    0.0    0.0    0.0  \n",
       "1    0.0    0.0    0.0    0.0    0.0    0.0   0.0    0.0    0.0    0.0  \n",
       "2    0.0    0.0    0.0    0.0    0.0    0.0   0.0    0.0    0.0    0.0  \n",
       "3    0.0    0.0    0.0    0.0    0.0    0.0   0.0    0.0    0.0    0.0  \n",
       "4    0.0    0.0    0.0    0.0    0.0    0.0   0.0    0.0    0.0    0.0  \n",
       "\n",
       "[5 rows x 6548 columns]"
      ]
     },
     "execution_count": 3,
     "metadata": {},
     "output_type": "execute_result"
    }
   ],
   "source": [
    "diag_matrix = read_data(join(write_prefix, \"diag_matrix\"))\n",
    "pres_matrix = read_data(join(write_prefix,\"pres_matrix\"))\n",
    "diag_matrix.head()"
   ]
  },
  {
   "cell_type": "code",
   "execution_count": 4,
   "metadata": {},
   "outputs": [],
   "source": [
    "from sklearn.decomposition import LatentDirichletAllocation\n",
    "from scipy.spatial import distance"
   ]
  },
  {
   "cell_type": "code",
   "execution_count": null,
   "metadata": {},
   "outputs": [],
   "source": [
    "# from numpy.linalg import norm\n",
    "\n",
    "# def cosine_sim(v1, v2):\n",
    "#     return np.matmul(v1,v2)/(norm(v1)*norm(v2))\n",
    "\n",
    "# def euclidean(v1, v2):\n",
    "#     return norm(v1-v2)\n"
   ]
  },
  {
   "cell_type": "code",
   "execution_count": 35,
   "metadata": {},
   "outputs": [],
   "source": [
    "n_comp = 6\n",
    "lda = LatentDirichletAllocation(n_components=n_comp, random_state=2019)\n",
    "#                                 ,doc_topic_prior=0.01,topic_word_prior=0.0001)\n",
    "pres_Z = lda.fit_transform(pres_matrix.iloc[:,1:]) \n",
    "pres_Y = lda.components_"
   ]
  },
  {
   "cell_type": "code",
   "execution_count": 5,
   "metadata": {},
   "outputs": [],
   "source": [
    "n_comp = 6\n",
    "lda_2 = LatentDirichletAllocation(n_components=n_comp, random_state=2019)\n",
    "#                                   ,doc_topic_prior=0.001,topic_word_prior=0.00001)\n",
    "diag_Z = lda_2.fit_transform(diag_matrix.iloc[:,1:]) \n",
    "diag_Y = lda_2.components_"
   ]
  },
  {
   "cell_type": "code",
   "execution_count": 41,
   "metadata": {},
   "outputs": [
    {
     "data": {
      "text/plain": [
       "[408, 409, 2731, 1835, 1834, 2205, 2092, 1716, 2849, 3770]"
      ]
     },
     "execution_count": 41,
     "metadata": {},
     "output_type": "execute_result"
    }
   ],
   "source": [
    "all_NDCs = pres_matrix.columns[1:]\n",
    "all_NDC_map = {}\n",
    "for i in range(len(all_NDCs)):\n",
    "    all_NDC_map[all_NDCs[i]]=i\n",
    "    \n",
    "    \n",
    "top10_NDC_indexes = [all_NDC_map[ndc] for ndc in top10_NDCs]\n",
    "top10_NDC_indexes"
   ]
  },
  {
   "cell_type": "code",
   "execution_count": 44,
   "metadata": {},
   "outputs": [
    {
     "data": {
      "text/plain": [
       "array([110.14552219, 195.81035247,  70.36553255, 731.88292703,\n",
       "         6.71897983, 212.07668593])"
      ]
     },
     "execution_count": 44,
     "metadata": {},
     "output_type": "execute_result"
    }
   ],
   "source": [
    "np.sum(pres_Y[:,top10_NDC_indexes],axis=1)"
   ]
  },
  {
   "cell_type": "code",
   "execution_count": 82,
   "metadata": {},
   "outputs": [],
   "source": [
    "def test_lda(diag_Z, pres_Z, pres_index, n_comp =2):\n",
    "    \n",
    "    l = []\n",
    "    for i in range(n_comp):\n",
    "        sim_i_j = distance.euclidean(diag_Z[:,i],pres_Z[:,pres_index])\n",
    "        l = l+[sim_i_j]\n",
    "        print(\"Distance between diag_%d: %f\"%(i, sim_i_j))\n",
    "    print(\"Min:%f arg_min:%d\"%(np.min(l),np.argmin(l)))"
   ]
  },
  {
   "cell_type": "code",
   "execution_count": 83,
   "metadata": {},
   "outputs": [
    {
     "name": "stdout",
     "output_type": "stream",
     "text": [
      "Distance between diag_0: 104.995317\n",
      "Distance between diag_1: 96.885347\n",
      "Distance between diag_2: 100.242077\n",
      "Distance between diag_3: 107.200800\n",
      "Distance between diag_4: 105.076139\n",
      "Distance between diag_5: 84.545936\n",
      "Min:84.545936 arg_min:5\n"
     ]
    }
   ],
   "source": [
    "## Selected diag 3 and pres 2\n",
    "test_lda(diag_Z,pres_Z,3,6)"
   ]
  },
  {
   "cell_type": "code",
   "execution_count": null,
   "metadata": {},
   "outputs": [],
   "source": [
    "# for i in range(n_comp):\n",
    "#     top_indices = np.where(pres_Y[i] >= 30)\n",
    "# top_pres_indices = pres_Y[1].argsort()[-100:][::-1]\n",
    "# print(top_indices)\n",
    "# print(len(top_indices))"
   ]
  },
  {
   "cell_type": "code",
   "execution_count": null,
   "metadata": {},
   "outputs": [],
   "source": [
    "# all_NDCs = pres_matrix.columns[1:]\n",
    "# select_NDCs = [all_NDCs[i] for i in top_pres_indices]\n",
    "# write2file(pd.DataFrame({'NDC':select_NDCs}),join(write_prefix,'top100_ndc'))"
   ]
  },
  {
   "cell_type": "code",
   "execution_count": 23,
   "metadata": {},
   "outputs": [],
   "source": [
    "all_ICD9s = diag_matrix.columns[1:]\n",
    "def get_top_diag(feature_index):\n",
    "    top_diag_indices = diag_Y[feature_index].argsort()[-1000:][::-1]\n",
    "    select_ICD9s = [all_ICD9s[i] for i in top_diag_indices]\n",
    "    return select_ICD9s\n",
    "# write2file(pd.DataFrame({'ICD9_CODE':select_ICD9s}),join(write_prefix,'top1000_icd9'))"
   ]
  },
  {
   "cell_type": "code",
   "execution_count": 75,
   "metadata": {},
   "outputs": [
    {
     "data": {
      "text/plain": [
       "array([6289, 6112, 4028, 6294, 6293, 3987, 3999, 4068, 6388, 3969])"
      ]
     },
     "execution_count": 75,
     "metadata": {},
     "output_type": "execute_result"
    }
   ],
   "source": [
    "top_diag_indices[:10]"
   ]
  },
  {
   "cell_type": "markdown",
   "metadata": {},
   "source": [
    "## Validation"
   ]
  },
  {
   "cell_type": "code",
   "execution_count": 56,
   "metadata": {},
   "outputs": [
    {
     "data": {
      "text/html": [
       "<div>\n",
       "<style scoped>\n",
       "    .dataframe tbody tr th:only-of-type {\n",
       "        vertical-align: middle;\n",
       "    }\n",
       "\n",
       "    .dataframe tbody tr th {\n",
       "        vertical-align: top;\n",
       "    }\n",
       "\n",
       "    .dataframe thead th {\n",
       "        text-align: right;\n",
       "    }\n",
       "</style>\n",
       "<table border=\"1\" class=\"dataframe\">\n",
       "  <thead>\n",
       "    <tr style=\"text-align: right;\">\n",
       "      <th></th>\n",
       "      <th>ICD9_CODE</th>\n",
       "    </tr>\n",
       "  </thead>\n",
       "  <tbody>\n",
       "    <tr>\n",
       "      <th>0</th>\n",
       "      <td>V290</td>\n",
       "    </tr>\n",
       "    <tr>\n",
       "      <th>1</th>\n",
       "      <td>V053</td>\n",
       "    </tr>\n",
       "    <tr>\n",
       "      <th>2</th>\n",
       "      <td>7742</td>\n",
       "    </tr>\n",
       "    <tr>\n",
       "      <th>3</th>\n",
       "      <td>V3001</td>\n",
       "    </tr>\n",
       "    <tr>\n",
       "      <th>4</th>\n",
       "      <td>V3000</td>\n",
       "    </tr>\n",
       "  </tbody>\n",
       "</table>\n",
       "</div>"
      ],
      "text/plain": [
       "  ICD9_CODE\n",
       "0      V290\n",
       "1      V053\n",
       "2      7742\n",
       "3     V3001\n",
       "4     V3000"
      ]
     },
     "execution_count": 56,
     "metadata": {},
     "output_type": "execute_result"
    }
   ],
   "source": [
    "select_ICD9s = read_data(join(write_prefix,'top1000_icd9'),dtype={'ICD9_CODE':str})\n",
    "# select_NDCs = read_data(join(write_prefix,'top100_ndc'),dtype={'NDC':str})\n",
    "select_ICD9s.head()"
   ]
  },
  {
   "cell_type": "code",
   "execution_count": 18,
   "metadata": {},
   "outputs": [],
   "source": [
    "# select_NDCs['NDC'][:10]\n",
    "top10_NDC_ade = read_data(join(write_prefix,'top10_NDC_ade'),dtype={'NDC':str})"
   ]
  },
  {
   "cell_type": "code",
   "execution_count": 19,
   "metadata": {},
   "outputs": [
    {
     "data": {
      "text/html": [
       "<div>\n",
       "<style scoped>\n",
       "    .dataframe tbody tr th:only-of-type {\n",
       "        vertical-align: middle;\n",
       "    }\n",
       "\n",
       "    .dataframe tbody tr th {\n",
       "        vertical-align: top;\n",
       "    }\n",
       "\n",
       "    .dataframe thead th {\n",
       "        text-align: right;\n",
       "    }\n",
       "</style>\n",
       "<table border=\"1\" class=\"dataframe\">\n",
       "  <thead>\n",
       "    <tr style=\"text-align: right;\">\n",
       "      <th></th>\n",
       "      <th>NDC</th>\n",
       "      <th>drugbank_id</th>\n",
       "      <th>UMLS_CUI</th>\n",
       "      <th>ICD_CODE</th>\n",
       "      <th>SNOMED_CID</th>\n",
       "      <th>ICD9_CODE</th>\n",
       "    </tr>\n",
       "  </thead>\n",
       "  <tbody>\n",
       "    <tr>\n",
       "      <th>38</th>\n",
       "      <td>24208063562</td>\n",
       "      <td>DB00620</td>\n",
       "      <td>C0000731</td>\n",
       "      <td>789.36</td>\n",
       "      <td>60728008</td>\n",
       "      <td>78936</td>\n",
       "    </tr>\n",
       "    <tr>\n",
       "      <th>87</th>\n",
       "      <td>24208063562</td>\n",
       "      <td>DB00741</td>\n",
       "      <td>C0000731</td>\n",
       "      <td>789.36</td>\n",
       "      <td>60728008</td>\n",
       "      <td>78936</td>\n",
       "    </tr>\n",
       "    <tr>\n",
       "      <th>208</th>\n",
       "      <td>00025152031</td>\n",
       "      <td>DB00188</td>\n",
       "      <td>C0000731</td>\n",
       "      <td>789.36</td>\n",
       "      <td>60728008</td>\n",
       "      <td>78936</td>\n",
       "    </tr>\n",
       "    <tr>\n",
       "      <th>209</th>\n",
       "      <td>00025152531</td>\n",
       "      <td>DB00188</td>\n",
       "      <td>C0000731</td>\n",
       "      <td>789.36</td>\n",
       "      <td>60728008</td>\n",
       "      <td>78936</td>\n",
       "    </tr>\n",
       "    <tr>\n",
       "      <th>211</th>\n",
       "      <td>00472011720</td>\n",
       "      <td>DB00188</td>\n",
       "      <td>C0000731</td>\n",
       "      <td>789.36</td>\n",
       "      <td>60728008</td>\n",
       "      <td>78936</td>\n",
       "    </tr>\n",
       "  </tbody>\n",
       "</table>\n",
       "</div>"
      ],
      "text/plain": [
       "             NDC drugbank_id  UMLS_CUI ICD_CODE  SNOMED_CID ICD9_CODE\n",
       "38   24208063562     DB00620  C0000731   789.36    60728008     78936\n",
       "87   24208063562     DB00741  C0000731   789.36    60728008     78936\n",
       "208  00025152031     DB00188  C0000731   789.36    60728008     78936\n",
       "209  00025152531     DB00188  C0000731   789.36    60728008     78936\n",
       "211  00472011720     DB00188  C0000731   789.36    60728008     78936"
      ]
     },
     "execution_count": 19,
     "metadata": {},
     "output_type": "execute_result"
    }
   ],
   "source": [
    "real_diseases  = ade_df[ade_df['NDC'].isin(top10_NDC_ade['NDC'])]\n",
    "real_diseases.head()"
   ]
  },
  {
   "cell_type": "code",
   "execution_count": 20,
   "metadata": {},
   "outputs": [
    {
     "data": {
      "text/plain": [
       "800"
      ]
     },
     "execution_count": 20,
     "metadata": {},
     "output_type": "execute_result"
    }
   ],
   "source": [
    "actual_ICD9s = real_diseases['ICD9_CODE'].unique()\n",
    "len(actual_ICD9s)"
   ]
  },
  {
   "cell_type": "code",
   "execution_count": 35,
   "metadata": {},
   "outputs": [
    {
     "name": "stdout",
     "output_type": "stream",
     "text": [
      "35\n",
      "34\n",
      "28\n",
      "47\n",
      "51\n",
      "4\n"
     ]
    }
   ],
   "source": [
    "for i in range(n_comp):\n",
    "#     print(len(set(get_top_diag(i)[:100])-set(actual_ICD9s)))\n",
    "    matched_disease = set(get_top_diag(i)[:100]).intersection(set(actual_ICD9s))\n",
    "    print(len(matched_disease))"
   ]
  },
  {
   "cell_type": "code",
   "execution_count": 33,
   "metadata": {},
   "outputs": [
    {
     "name": "stdout",
     "output_type": "stream",
     "text": [
      "214\n",
      "194\n",
      "162\n",
      "231\n",
      "244\n",
      "65\n"
     ]
    }
   ],
   "source": [
    "for i in range(n_comp):\n",
    "#     print(len(set(get_top_diag(i)[:100])-set(actual_ICD9s)))\n",
    "    print(len(set(get_top_diag(i)).intersection(set(actual_ICD9s))))"
   ]
  },
  {
   "cell_type": "code",
   "execution_count": 40,
   "metadata": {},
   "outputs": [
    {
     "data": {
      "text/plain": [
       "{'36221', '4589', '53081', '7852'}"
      ]
     },
     "execution_count": 40,
     "metadata": {},
     "output_type": "execute_result"
    }
   ],
   "source": [
    "matched_disease"
   ]
  },
  {
   "cell_type": "code",
   "execution_count": 41,
   "metadata": {},
   "outputs": [
    {
     "data": {
      "text/html": [
       "<div>\n",
       "<style scoped>\n",
       "    .dataframe tbody tr th:only-of-type {\n",
       "        vertical-align: middle;\n",
       "    }\n",
       "\n",
       "    .dataframe tbody tr th {\n",
       "        vertical-align: top;\n",
       "    }\n",
       "\n",
       "    .dataframe thead th {\n",
       "        text-align: right;\n",
       "    }\n",
       "</style>\n",
       "<table border=\"1\" class=\"dataframe\">\n",
       "  <thead>\n",
       "    <tr style=\"text-align: right;\">\n",
       "      <th></th>\n",
       "      <th>ROW_ID</th>\n",
       "      <th>ICD9_CODE</th>\n",
       "      <th>SHORT_TITLE</th>\n",
       "      <th>LONG_TITLE</th>\n",
       "    </tr>\n",
       "  </thead>\n",
       "  <tbody>\n",
       "    <tr>\n",
       "      <th>3561</th>\n",
       "      <td>3945</td>\n",
       "      <td>36221</td>\n",
       "      <td>Retrolental fibroplasia</td>\n",
       "      <td>Retrolental fibroplasia</td>\n",
       "    </tr>\n",
       "    <tr>\n",
       "      <th>5016</th>\n",
       "      <td>5396</td>\n",
       "      <td>4589</td>\n",
       "      <td>Hypotension NOS</td>\n",
       "      <td>Hypotension, unspecified</td>\n",
       "    </tr>\n",
       "    <tr>\n",
       "      <th>6009</th>\n",
       "      <td>6013</td>\n",
       "      <td>53081</td>\n",
       "      <td>Esophageal reflux</td>\n",
       "      <td>Esophageal reflux</td>\n",
       "    </tr>\n",
       "    <tr>\n",
       "      <th>13137</th>\n",
       "      <td>12986</td>\n",
       "      <td>7852</td>\n",
       "      <td>Cardiac murmurs NEC</td>\n",
       "      <td>Undiagnosed cardiac murmurs</td>\n",
       "    </tr>\n",
       "  </tbody>\n",
       "</table>\n",
       "</div>"
      ],
      "text/plain": [
       "       ROW_ID ICD9_CODE              SHORT_TITLE                   LONG_TITLE\n",
       "3561     3945     36221  Retrolental fibroplasia      Retrolental fibroplasia\n",
       "5016     5396      4589          Hypotension NOS     Hypotension, unspecified\n",
       "6009     6013     53081        Esophageal reflux            Esophageal reflux\n",
       "13137   12986      7852      Cardiac murmurs NEC  Undiagnosed cardiac murmurs"
      ]
     },
     "execution_count": 41,
     "metadata": {},
     "output_type": "execute_result"
    }
   ],
   "source": [
    "mimic_disease = read_data(join(read_prefix,\"D_ICD_DIAGNOSES\"),dtype={'ICD9_CODE':str})\n",
    "mimic_disease[mimic_disease['ICD9_CODE'].isin(matched_disease)]"
   ]
  },
  {
   "cell_type": "code",
   "execution_count": 50,
   "metadata": {},
   "outputs": [
    {
     "data": {
      "text/html": [
       "<div>\n",
       "<style scoped>\n",
       "    .dataframe tbody tr th:only-of-type {\n",
       "        vertical-align: middle;\n",
       "    }\n",
       "\n",
       "    .dataframe tbody tr th {\n",
       "        vertical-align: top;\n",
       "    }\n",
       "\n",
       "    .dataframe thead th {\n",
       "        text-align: right;\n",
       "    }\n",
       "</style>\n",
       "<table border=\"1\" class=\"dataframe\">\n",
       "  <thead>\n",
       "    <tr style=\"text-align: right;\">\n",
       "      <th></th>\n",
       "      <th>NDC</th>\n",
       "      <th>DRUG</th>\n",
       "    </tr>\n",
       "  </thead>\n",
       "  <tbody>\n",
       "    <tr>\n",
       "      <th>1394</th>\n",
       "      <td>00338114403</td>\n",
       "      <td>Amino Acids 4.25% W/ Dextrose 5%</td>\n",
       "    </tr>\n",
       "    <tr>\n",
       "      <th>3989</th>\n",
       "      <td>00264934155</td>\n",
       "      <td>Starter PN D10</td>\n",
       "    </tr>\n",
       "    <tr>\n",
       "      <th>4952</th>\n",
       "      <td>00264934155</td>\n",
       "      <td>Starter PN D5</td>\n",
       "    </tr>\n",
       "    <tr>\n",
       "      <th>30497</th>\n",
       "      <td>61958070101</td>\n",
       "      <td>Emtricitabine-Tenofovir</td>\n",
       "    </tr>\n",
       "    <tr>\n",
       "      <th>42287</th>\n",
       "      <td>00338114703</td>\n",
       "      <td>Amino Acids 5%-Dextrose 15%</td>\n",
       "    </tr>\n",
       "    <tr>\n",
       "      <th>69573</th>\n",
       "      <td>00025152531</td>\n",
       "      <td>Celecoxib</td>\n",
       "    </tr>\n",
       "    <tr>\n",
       "      <th>86309</th>\n",
       "      <td>00025152531</td>\n",
       "      <td>Celebrex</td>\n",
       "    </tr>\n",
       "    <tr>\n",
       "      <th>170619</th>\n",
       "      <td>61958070101</td>\n",
       "      <td>Emtricitabine-Tenofovir (Truvada)</td>\n",
       "    </tr>\n",
       "    <tr>\n",
       "      <th>208002</th>\n",
       "      <td>00025152031</td>\n",
       "      <td>Celebrex</td>\n",
       "    </tr>\n",
       "    <tr>\n",
       "      <th>505887</th>\n",
       "      <td>49702020218</td>\n",
       "      <td>LaMIVudine-Zidovudine (Combivir)</td>\n",
       "    </tr>\n",
       "    <tr>\n",
       "      <th>521268</th>\n",
       "      <td>00025152031</td>\n",
       "      <td>Celecoxib</td>\n",
       "    </tr>\n",
       "    <tr>\n",
       "      <th>787395</th>\n",
       "      <td>61958070101</td>\n",
       "      <td>Truvada</td>\n",
       "    </tr>\n",
       "    <tr>\n",
       "      <th>1422725</th>\n",
       "      <td>00338114403</td>\n",
       "      <td>Amino Acids 4.25%-Dextrose 5%</td>\n",
       "    </tr>\n",
       "    <tr>\n",
       "      <th>1524588</th>\n",
       "      <td>00025152031</td>\n",
       "      <td>CeleBREX</td>\n",
       "    </tr>\n",
       "    <tr>\n",
       "      <th>1965795</th>\n",
       "      <td>00025152531</td>\n",
       "      <td>CeleBREX</td>\n",
       "    </tr>\n",
       "    <tr>\n",
       "      <th>2283255</th>\n",
       "      <td>24208063562</td>\n",
       "      <td>Neomycin-Polymyxin-HC Otic Susp</td>\n",
       "    </tr>\n",
       "    <tr>\n",
       "      <th>2492136</th>\n",
       "      <td>00472011720</td>\n",
       "      <td>Tretinoin 0.025% Cream</td>\n",
       "    </tr>\n",
       "    <tr>\n",
       "      <th>2608971</th>\n",
       "      <td>00555080802</td>\n",
       "      <td>Tretinoin (ATRA-All Transretinoic Acid)</td>\n",
       "    </tr>\n",
       "    <tr>\n",
       "      <th>2619830</th>\n",
       "      <td>00555080802</td>\n",
       "      <td>ve</td>\n",
       "    </tr>\n",
       "    <tr>\n",
       "      <th>2877492</th>\n",
       "      <td>00025152531</td>\n",
       "      <td>celecoxib</td>\n",
       "    </tr>\n",
       "    <tr>\n",
       "      <th>3289975</th>\n",
       "      <td>00025152031</td>\n",
       "      <td>celecoxib</td>\n",
       "    </tr>\n",
       "    <tr>\n",
       "      <th>3382568</th>\n",
       "      <td>00555080802</td>\n",
       "      <td>Tretinoin Suspension</td>\n",
       "    </tr>\n",
       "    <tr>\n",
       "      <th>3383387</th>\n",
       "      <td>00555080802</td>\n",
       "      <td>Tretinoin</td>\n",
       "    </tr>\n",
       "  </tbody>\n",
       "</table>\n",
       "</div>"
      ],
      "text/plain": [
       "                 NDC                                     DRUG\n",
       "1394     00338114403         Amino Acids 4.25% W/ Dextrose 5%\n",
       "3989     00264934155                           Starter PN D10\n",
       "4952     00264934155                            Starter PN D5\n",
       "30497    61958070101                  Emtricitabine-Tenofovir\n",
       "42287    00338114703              Amino Acids 5%-Dextrose 15%\n",
       "69573    00025152531                                Celecoxib\n",
       "86309    00025152531                                 Celebrex\n",
       "170619   61958070101        Emtricitabine-Tenofovir (Truvada)\n",
       "208002   00025152031                                 Celebrex\n",
       "505887   49702020218         LaMIVudine-Zidovudine (Combivir)\n",
       "521268   00025152031                                Celecoxib\n",
       "787395   61958070101                                  Truvada\n",
       "1422725  00338114403            Amino Acids 4.25%-Dextrose 5%\n",
       "1524588  00025152031                                 CeleBREX\n",
       "1965795  00025152531                                 CeleBREX\n",
       "2283255  24208063562          Neomycin-Polymyxin-HC Otic Susp\n",
       "2492136  00472011720                   Tretinoin 0.025% Cream\n",
       "2608971  00555080802  Tretinoin (ATRA-All Transretinoic Acid)\n",
       "2619830  00555080802                                       ve\n",
       "2877492  00025152531                                celecoxib\n",
       "3289975  00025152031                                celecoxib\n",
       "3382568  00555080802                     Tretinoin Suspension\n",
       "3383387  00555080802                               Tretinoin "
      ]
     },
     "execution_count": 50,
     "metadata": {},
     "output_type": "execute_result"
    }
   ],
   "source": [
    "# mimic_drugs = read_data(join(read_prefix,\"PRESCRIPTIONS\"),dtype={'NDC':str})[['NDC','DRUG']].drop_duplicates()\n",
    " mimic_drugs[mimic_drugs['NDC'].isin(top10_NDC_ade['NDC'])]"
   ]
  },
  {
   "cell_type": "markdown",
   "metadata": {},
   "source": [
    "## Draft"
   ]
  },
  {
   "cell_type": "code",
   "execution_count": null,
   "metadata": {},
   "outputs": [],
   "source": [
    "def test_lda(diag_params, pres_params, n_comp =2):\n",
    "    \n",
    "#     n_comp = 2\n",
    "    ## doc_topic_prior, control the sparsity of probability\n",
    "    diag_topic, diag_word = diag_params\n",
    "    lda = LatentDirichletAllocation(n_components=n_comp, random_state=2019,\\\n",
    "                                    doc_topic_prior=diag_topic,topic_word_prior=diag_word)\n",
    "    diag_Z = lda.fit_transform(diag_matrix.iloc[:,1:]) \n",
    "    # print(diag_Z.shape)\n",
    "#     print(\"The first 5 rows of diagnoses_Z:\\n %s\"%diag_Z[:5])\n",
    "\n",
    "    pres_topic, pres_word = pres_params\n",
    "    lda_2 = LatentDirichletAllocation(n_components=n_comp, random_state=2019,\\\n",
    "                                      doc_topic_prior=pres_topic,topic_word_prior=pres_word)\n",
    "    pres_Z = lda_2.fit_transform(pres_matrix.iloc[:,1:]) \n",
    "    # print(pres_Z.shape)\n",
    "#     print(\"The first 5 rows of prescriptions_Z:\\n %s\"%pres_Z[:5])\n",
    "\n",
    "    for i in range(n_comp):\n",
    "        l = []\n",
    "        for j in range(n_comp):\n",
    "            sim_i_j = cosine_sim(diag_Z[:,i],pres_Z[:,j])\n",
    "    #         print(sim_i_j)\n",
    "            l = l + [sim_i_j]\n",
    "        current_range = np.max(l)-np.min(l)\n",
    "        print(\"Similarity between diag_%d and pres_j(j∈[0,%d): %s\"%(i,n_comp, l))\n",
    "        print(\"Max:%f  Range:%f arg_max:%d\"%(np.max(l),current_range,np.argmax(l)))\n",
    "        \n",
    "    return diag_Z, pres_Z"
   ]
  },
  {
   "cell_type": "code",
   "execution_count": null,
   "metadata": {},
   "outputs": [],
   "source": [
    "test_lda([0.1,0.001],[0.1,0.001],2)"
   ]
  },
  {
   "cell_type": "code",
   "execution_count": null,
   "metadata": {},
   "outputs": [],
   "source": [
    "for n_comp in range(2,11):\n",
    "    print(\"=============================================================\\nn_comp: %d\"%n_comp)\n",
    "    test_lda([0.1,0.001],[0.1,0.001],n_comp)    "
   ]
  },
  {
   "cell_type": "code",
   "execution_count": null,
   "metadata": {},
   "outputs": [],
   "source": [
    "## fix params for diagnoses, tune params for prescriptions\n",
    "## increase by 0.1\n",
    "for param in np.arange(0.2,1,0.2):\n",
    "    print(\"pres_params: %s\"%([param,param*0.01]))\n",
    "    test_lda([0.1,0.001],[param,param*0.01],6)\n",
    "## decrease by 0.01\n",
    "for param in np.arange(0.01,0.1,0.02):\n",
    "    print(\"pres_params: %s\"%([param,param*0.01]))\n",
    "    test_lda([0.1,0.001],[param,param*0.01],6) "
   ]
  },
  {
   "cell_type": "code",
   "execution_count": null,
   "metadata": {},
   "outputs": [],
   "source": [
    "diag_Y = lda.components_\n",
    "diag_Y"
   ]
  },
  {
   "cell_type": "code",
   "execution_count": null,
   "metadata": {},
   "outputs": [],
   "source": []
  },
  {
   "cell_type": "code",
   "execution_count": null,
   "metadata": {},
   "outputs": [],
   "source": []
  }
 ],
 "metadata": {
  "kernelspec": {
   "display_name": "Python [conda env:py36]",
   "language": "python",
   "name": "conda-env-py36-py"
  },
  "language_info": {
   "codemirror_mode": {
    "name": "ipython",
    "version": 3
   },
   "file_extension": ".py",
   "mimetype": "text/x-python",
   "name": "python",
   "nbconvert_exporter": "python",
   "pygments_lexer": "ipython3",
   "version": "3.6.8"
  },
  "toc": {
   "base_numbering": 1,
   "nav_menu": {},
   "number_sections": true,
   "sideBar": true,
   "skip_h1_title": false,
   "title_cell": "Table of Contents",
   "title_sidebar": "Contents",
   "toc_cell": false,
   "toc_position": {
    "height": "calc(100% - 180px)",
    "left": "10px",
    "top": "150px",
    "width": "256px"
   },
   "toc_section_display": true,
   "toc_window_display": true
  }
 },
 "nbformat": 4,
 "nbformat_minor": 2
}
