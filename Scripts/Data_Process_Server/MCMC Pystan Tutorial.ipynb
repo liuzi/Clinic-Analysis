{
 "cells": [
  {
   "cell_type": "code",
   "execution_count": null,
   "metadata": {},
   "outputs": [],
   "source": [
    "# https://github.com/timothyrubin/python_gclda.git"
   ]
  },
  {
   "cell_type": "markdown",
   "metadata": {},
   "source": [
    "## OpenCL"
   ]
  },
  {
   "cell_type": "code",
   "execution_count": 1,
   "metadata": {},
   "outputs": [],
   "source": [
    "import pyopencl as cl\n",
    "platforms = cl.get_platforms()"
   ]
  },
  {
   "cell_type": "markdown",
   "metadata": {},
   "source": [
    "## Pystan simple example (bernoulli)"
   ]
  },
  {
   "cell_type": "code",
   "execution_count": 1,
   "metadata": {},
   "outputs": [],
   "source": [
    "import pystan\n",
    "import numpy as np"
   ]
  },
  {
   "cell_type": "code",
   "execution_count": 8,
   "metadata": {
    "code_folding": [
     0
    ]
   },
   "outputs": [
    {
     "name": "stderr",
     "output_type": "stream",
     "text": [
      "INFO:pystan:COMPILING THE C++ CODE FOR MODEL anon_model_d601e865f1676ee91056b0611e70c7be NOW.\n"
     ]
    },
    {
     "name": "stdout",
     "output_type": "stream",
     "text": [
      "Inference for Stan model: anon_model_d601e865f1676ee91056b0611e70c7be.\n",
      "4 chains, each with iter=2000; warmup=1000; thin=1; \n",
      "post-warmup draws per chain=1000, total post-warmup draws=4000.\n",
      "\n",
      "        mean se_mean     sd   2.5%    25%    50%    75%  97.5%  n_eff   Rhat\n",
      "theta   0.59  3.7e-3   0.14   0.31    0.5    0.6   0.69   0.85   1469    1.0\n",
      "lp__   -7.96    0.02   0.77 -10.13  -8.11  -7.67   -7.5  -7.44   1567    1.0\n",
      "\n",
      "Samples were drawn using NUTS at Mon Nov  4 15:39:25 2019.\n",
      "For each parameter, n_eff is a crude measure of effective sample size,\n",
      "and Rhat is the potential scale reduction factor on split chains (at \n",
      "convergence, Rhat=1).\n",
      "Inference for Stan model: anon_model_d601e865f1676ee91056b0611e70c7be.\n",
      "4 chains, each with iter=2000; warmup=1000; thin=1; \n",
      "post-warmup draws per chain=1000, total post-warmup draws=4000.\n",
      "\n",
      "        mean se_mean     sd   2.5%    25%    50%    75%  97.5%  n_eff   Rhat\n",
      "theta   0.21  3.9e-3   0.14   0.02    0.1   0.19    0.3   0.55   1360    1.0\n",
      "lp__   -4.17    0.02   0.73  -6.19  -4.38  -3.89  -3.69  -3.64   1476    1.0\n",
      "\n",
      "Samples were drawn using NUTS at Mon Nov  4 15:39:27 2019.\n",
      "For each parameter, n_eff is a crude measure of effective sample size,\n",
      "and Rhat is the potential scale reduction factor on split chains (at \n",
      "convergence, Rhat=1).\n"
     ]
    }
   ],
   "source": [
    "## bernoulli distribution\n",
    "from pystan import stan\n",
    "# bernoulli model\n",
    "\n",
    "model_code = \"\"\"\n",
    "data {\n",
    "  int<lower=0> N;\n",
    "  int<lower=0,upper=1> y[N];\n",
    "}\n",
    "parameters {\n",
    "  real<lower=0,upper=1> theta;\n",
    "}\n",
    "model {\n",
    "  theta ~ beta(0.5, 0.5); // Jeffreys' prior\n",
    "  for (n in 1:N)\n",
    "    y[n] ~ bernoulli(theta);\n",
    "    }\n",
    "\"\"\"   \n",
    "\n",
    "\n",
    "from pystan import StanModel\n",
    "data = dict(N=10, y=[0, 1, 0, 1, 0, 1, 0, 1, 1, 1])\n",
    "sm = StanModel(model_code=model_code)\n",
    "fit = sm.sampling(data=data)\n",
    "print(fit)\n",
    "# reuse model with new data\n",
    "new_data = dict(N=6, y=[0, 0, 0, 0, 0, 1])\n",
    "fit2 = sm.sampling(data=new_data)\n",
    "print(fit2)"
   ]
  },
  {
   "cell_type": "markdown",
   "metadata": {},
   "source": [
    "## LDA on Diagnosis Table"
   ]
  },
  {
   "cell_type": "code",
   "execution_count": 2,
   "metadata": {
    "code_folding": [
     0
    ]
   },
   "outputs": [
    {
     "name": "stderr",
     "output_type": "stream",
     "text": [
      "INFO:pystan:COMPILING THE C++ CODE FOR MODEL anon_model_3aaa1aff3be33470f8a5bfa56085d51c NOW.\n"
     ]
    },
    {
     "data": {
      "text/plain": [
       "OrderedDict([('mu', array(-0.10765848))])"
      ]
     },
     "execution_count": 2,
     "metadata": {},
     "output_type": "execute_result"
    }
   ],
   "source": [
    "## Basic LDA for documents\n",
    "\"\"\"\n",
    "data {\n",
    "  int<lower=2> K;               // num topics\n",
    "  int<lower=2> V;               // num words(unique words, vocabulary)\n",
    "  int<lower=1> M;               // num docs\n",
    "  int<lower=1> N;               // total word instances (accumulated lengths of all documents)\n",
    "  int<lower=1,upper=V> w[N];    // word n\n",
    "  int<lower=1,upper=M> doc[N];  // doc ID for word n\n",
    "  vector<lower=0>[K] alpha;     // topic prior\n",
    "  vector<lower=0>[V] beta;      // word prior\n",
    "}\n",
    "parameters {\n",
    "  simplex[K] theta[M];   // topic dist for doc m\n",
    "  simplex[V] phi[K];     // word dist for topic k\n",
    "}\n",
    "model {\n",
    "  for (m in 1:M)\n",
    "    theta[m] ~ dirichlet(alpha);  // prior\n",
    "  for (k in 1:K)\n",
    "    phi[k] ~ dirichlet(beta);     // prior\n",
    "  for (n in 1:N) {\n",
    "    real gamma[K];\n",
    "    for (k in 1:K)\n",
    "      gamma[k] = log(theta[doc[n], k]) + log(phi[k, w[n]]);\n",
    "    target += log_sum_exp(gamma);  // likelihood;\n",
    "  }\n",
    "}\n",
    "\"\"\""
   ]
  },
  {
   "cell_type": "code",
   "execution_count": 2,
   "metadata": {
    "code_folding": []
   },
   "outputs": [],
   "source": [
    "## LDA for drug table\n",
    "ldacode = \"\"\"\n",
    "data {\n",
    "  int<lower=2> K;               // num topics\n",
    "  int<lower=1> V;               // num drugs\n",
    "  int<lower=1> M;               // num patients\n",
    "  int<lower=0,upper=1> w[V,M];    // disease matrix, column major order\n",
    "  vector<lower=0>[K] beta;     // topic prior\n",
    "  real alpha1;      // drug prior 1\n",
    "  real alpha2;      // drug prior 2\n",
    "}\n",
    "parameters {\n",
    "  simplex[K] theta[M];   // topic dist for doc m\n",
    "  simplex[V] phi[K];     // drug dist for topic k\n",
    "}\n",
    "model {\n",
    "  for (m in 1:M)\n",
    "    theta[m] ~ dirichlet(beta);  // prior\n",
    "  for (k in 1:K)\n",
    "    phi[k] ~ beta(alpha1, alpha2);     // prior\n",
    "  for (m in 1:M) {\n",
    "      for (v in 1:V){\n",
    "          real gamma[K];\n",
    "          for (k in 1:K)\n",
    "              gamma[k] = log(theta[m, k]) + log(phi[k, v]);\n",
    "          target += log_sum_exp(gamma);  // likelihood;\n",
    "      }\n",
    "    \n",
    "  }\n",
    "}\n",
    "\"\"\"\n"
   ]
  },
  {
   "cell_type": "markdown",
   "metadata": {},
   "source": [
    "## read mimic3 data"
   ]
  },
  {
   "cell_type": "code",
   "execution_count": 3,
   "metadata": {},
   "outputs": [],
   "source": [
    "import numpy as np\n",
    "import pandas as pd\n",
    "import re\n",
    "from os.path import join\n",
    "\n",
    "from tools import *\n",
    "\n",
    "from sklearn.decomposition import LatentDirichletAllocation\n",
    "from scipy.spatial import distance\n",
    "\n",
    "import matplotlib.pyplot as plt\n",
    "import numpy as np\n",
    "\n",
    "## rename EXTRACT_FEATURES to DIMENSION_REDUCTION\n",
    "read_prefix = \"/data/MIMIC3/\"\n",
    "write_prefix = \"/data/liu/LDA\"\n",
    "res_prefix = \"/data/liu/LDA/lda_result\"\n",
    "res_r_prefix = \"/data/liu/LDA/lda_R_result/\""
   ]
  },
  {
   "cell_type": "code",
   "execution_count": 4,
   "metadata": {},
   "outputs": [],
   "source": [
    "diag_matrix = read_data(join(write_prefix, \"diag_matrix_filtered\"))\n",
    "# pres_matrix = read_data(join(write_prefix,\"pres_matrix_filtered\"))"
   ]
  },
  {
   "cell_type": "code",
   "execution_count": 5,
   "metadata": {},
   "outputs": [
    {
     "data": {
      "text/html": [
       "<div>\n",
       "<style scoped>\n",
       "    .dataframe tbody tr th:only-of-type {\n",
       "        vertical-align: middle;\n",
       "    }\n",
       "\n",
       "    .dataframe tbody tr th {\n",
       "        vertical-align: top;\n",
       "    }\n",
       "\n",
       "    .dataframe thead th {\n",
       "        text-align: right;\n",
       "    }\n",
       "</style>\n",
       "<table border=\"1\" class=\"dataframe\">\n",
       "  <thead>\n",
       "    <tr style=\"text-align: right;\">\n",
       "      <th></th>\n",
       "      <th>78061</th>\n",
       "      <th>78062</th>\n",
       "      <th>78065</th>\n",
       "      <th>78079</th>\n",
       "      <th>78093</th>\n",
       "      <th>78097</th>\n",
       "      <th>00845</th>\n",
       "      <th>7810</th>\n",
       "      <th>7812</th>\n",
       "      <th>7813</th>\n",
       "      <th>...</th>\n",
       "      <th>77989</th>\n",
       "      <th>78001</th>\n",
       "      <th>78009</th>\n",
       "      <th>7802</th>\n",
       "      <th>78039</th>\n",
       "      <th>7804</th>\n",
       "      <th>78052</th>\n",
       "      <th>78057</th>\n",
       "      <th>7806</th>\n",
       "      <th>78060</th>\n",
       "    </tr>\n",
       "  </thead>\n",
       "  <tbody>\n",
       "    <tr>\n",
       "      <th>0</th>\n",
       "      <td>0.0</td>\n",
       "      <td>0.0</td>\n",
       "      <td>0.0</td>\n",
       "      <td>0.0</td>\n",
       "      <td>0.0</td>\n",
       "      <td>0.0</td>\n",
       "      <td>0.0</td>\n",
       "      <td>0.0</td>\n",
       "      <td>0.0</td>\n",
       "      <td>0.0</td>\n",
       "      <td>...</td>\n",
       "      <td>0.0</td>\n",
       "      <td>0.0</td>\n",
       "      <td>0.0</td>\n",
       "      <td>0.0</td>\n",
       "      <td>0.0</td>\n",
       "      <td>0.0</td>\n",
       "      <td>0.0</td>\n",
       "      <td>0.0</td>\n",
       "      <td>0.0</td>\n",
       "      <td>0.0</td>\n",
       "    </tr>\n",
       "    <tr>\n",
       "      <th>1</th>\n",
       "      <td>0.0</td>\n",
       "      <td>0.0</td>\n",
       "      <td>0.0</td>\n",
       "      <td>0.0</td>\n",
       "      <td>0.0</td>\n",
       "      <td>0.0</td>\n",
       "      <td>0.0</td>\n",
       "      <td>0.0</td>\n",
       "      <td>0.0</td>\n",
       "      <td>0.0</td>\n",
       "      <td>...</td>\n",
       "      <td>0.0</td>\n",
       "      <td>0.0</td>\n",
       "      <td>0.0</td>\n",
       "      <td>0.0</td>\n",
       "      <td>0.0</td>\n",
       "      <td>0.0</td>\n",
       "      <td>0.0</td>\n",
       "      <td>0.0</td>\n",
       "      <td>0.0</td>\n",
       "      <td>0.0</td>\n",
       "    </tr>\n",
       "    <tr>\n",
       "      <th>2</th>\n",
       "      <td>0.0</td>\n",
       "      <td>0.0</td>\n",
       "      <td>0.0</td>\n",
       "      <td>0.0</td>\n",
       "      <td>0.0</td>\n",
       "      <td>0.0</td>\n",
       "      <td>0.0</td>\n",
       "      <td>0.0</td>\n",
       "      <td>0.0</td>\n",
       "      <td>0.0</td>\n",
       "      <td>...</td>\n",
       "      <td>0.0</td>\n",
       "      <td>0.0</td>\n",
       "      <td>0.0</td>\n",
       "      <td>0.0</td>\n",
       "      <td>0.0</td>\n",
       "      <td>0.0</td>\n",
       "      <td>0.0</td>\n",
       "      <td>0.0</td>\n",
       "      <td>0.0</td>\n",
       "      <td>0.0</td>\n",
       "    </tr>\n",
       "    <tr>\n",
       "      <th>3</th>\n",
       "      <td>0.0</td>\n",
       "      <td>0.0</td>\n",
       "      <td>0.0</td>\n",
       "      <td>0.0</td>\n",
       "      <td>0.0</td>\n",
       "      <td>0.0</td>\n",
       "      <td>0.0</td>\n",
       "      <td>0.0</td>\n",
       "      <td>0.0</td>\n",
       "      <td>0.0</td>\n",
       "      <td>...</td>\n",
       "      <td>0.0</td>\n",
       "      <td>0.0</td>\n",
       "      <td>0.0</td>\n",
       "      <td>0.0</td>\n",
       "      <td>0.0</td>\n",
       "      <td>0.0</td>\n",
       "      <td>0.0</td>\n",
       "      <td>0.0</td>\n",
       "      <td>0.0</td>\n",
       "      <td>0.0</td>\n",
       "    </tr>\n",
       "    <tr>\n",
       "      <th>4</th>\n",
       "      <td>0.0</td>\n",
       "      <td>0.0</td>\n",
       "      <td>0.0</td>\n",
       "      <td>0.0</td>\n",
       "      <td>0.0</td>\n",
       "      <td>0.0</td>\n",
       "      <td>0.0</td>\n",
       "      <td>0.0</td>\n",
       "      <td>0.0</td>\n",
       "      <td>0.0</td>\n",
       "      <td>...</td>\n",
       "      <td>0.0</td>\n",
       "      <td>0.0</td>\n",
       "      <td>0.0</td>\n",
       "      <td>0.0</td>\n",
       "      <td>0.0</td>\n",
       "      <td>0.0</td>\n",
       "      <td>0.0</td>\n",
       "      <td>0.0</td>\n",
       "      <td>0.0</td>\n",
       "      <td>0.0</td>\n",
       "    </tr>\n",
       "  </tbody>\n",
       "</table>\n",
       "<p>5 rows × 1309 columns</p>\n",
       "</div>"
      ],
      "text/plain": [
       "   78061  78062  78065  78079  78093  78097  00845  7810  7812  7813  ...  \\\n",
       "0    0.0    0.0    0.0    0.0    0.0    0.0    0.0   0.0   0.0   0.0  ...   \n",
       "1    0.0    0.0    0.0    0.0    0.0    0.0    0.0   0.0   0.0   0.0  ...   \n",
       "2    0.0    0.0    0.0    0.0    0.0    0.0    0.0   0.0   0.0   0.0  ...   \n",
       "3    0.0    0.0    0.0    0.0    0.0    0.0    0.0   0.0   0.0   0.0  ...   \n",
       "4    0.0    0.0    0.0    0.0    0.0    0.0    0.0   0.0   0.0   0.0  ...   \n",
       "\n",
       "   77989  78001  78009  7802  78039  7804  78052  78057  7806  78060  \n",
       "0    0.0    0.0    0.0   0.0    0.0   0.0    0.0    0.0   0.0    0.0  \n",
       "1    0.0    0.0    0.0   0.0    0.0   0.0    0.0    0.0   0.0    0.0  \n",
       "2    0.0    0.0    0.0   0.0    0.0   0.0    0.0    0.0   0.0    0.0  \n",
       "3    0.0    0.0    0.0   0.0    0.0   0.0    0.0    0.0   0.0    0.0  \n",
       "4    0.0    0.0    0.0   0.0    0.0   0.0    0.0    0.0   0.0    0.0  \n",
       "\n",
       "[5 rows x 1309 columns]"
      ]
     },
     "execution_count": 5,
     "metadata": {},
     "output_type": "execute_result"
    }
   ],
   "source": [
    "diag_matrix.head()"
   ]
  },
  {
   "cell_type": "code",
   "execution_count": 6,
   "metadata": {},
   "outputs": [
    {
     "data": {
      "text/plain": [
       "(39356, 1309)"
      ]
     },
     "execution_count": 6,
     "metadata": {},
     "output_type": "execute_result"
    }
   ],
   "source": [
    "diag_matrix.shape"
   ]
  },
  {
   "cell_type": "code",
   "execution_count": 7,
   "metadata": {
    "code_folding": [
     0
    ]
   },
   "outputs": [],
   "source": [
    "## save or reload model cache\n",
    "# import pickle\n",
    "\n",
    "# def save(model, modelname):\n",
    "#     \"\"\"Save compiled models for reuse.\"\"\"\n",
    "#     with open(\"%s.pkl\"%modelname, \"wb\") as f:\n",
    "#         pickle.dump(model,f)\n",
    "#         # or with a list\n",
    "#         # pickle.dump([model, fit], f, protocol=-1)\n",
    "\n",
    "# def load(modelname):\n",
    "#     \"\"\"Reload compiled models for reuse.\"\"\"\n",
    "#     model = pickle.load(open('%s.pkl')%modelname, 'rb')\n",
    "#     return model"
   ]
  },
  {
   "cell_type": "code",
   "execution_count": 9,
   "metadata": {},
   "outputs": [],
   "source": [
    "##Automatically reusing models\n",
    "from hashlib import md5\n",
    "def StanModel_cache(model_code, model_name=None, **kwargs):\n",
    "    \"\"\"Use just as you would `stan`\"\"\"\n",
    "    code_hash = md5(model_code.encode('ascii')).hexdigest()\n",
    "    if model_name is None:\n",
    "        cache_fn = 'cached-model-{}.pkl'.format(code_hash)\n",
    "    else:\n",
    "        cache_fn = 'cached-{}-{}.pkl'.format(model_name, code_hash)\n",
    "    try:\n",
    "        sm = pickle.load(open(join(\"cache\",cache_fn), 'rb'))\n",
    "    except:\n",
    "        sm = pystan.StanModel(model_code=model_code)\n",
    "        with open(join(\"cache\",cache_fn), 'wb') as f:\n",
    "            pickle.dump(sm, f)\n",
    "    else:\n",
    "        print(\"Using cached StanModel\")\n",
    "    return sm"
   ]
  },
  {
   "cell_type": "code",
   "execution_count": 8,
   "metadata": {},
   "outputs": [],
   "source": [
    "# with open(\"basic_lda_model.pkl\" ,\"rb\") as f:\n",
    "#     data_dict = pickle.load(f)"
   ]
  },
  {
   "cell_type": "code",
   "execution_count": 10,
   "metadata": {},
   "outputs": [],
   "source": [
    "#   int<lower=2> K;               // num topics\n",
    "#   int<lower=1> V;               // num drugs\n",
    "#   int<lower=1> M;               // num patients\n",
    "#   int<lower=0,upper=1> w[M,V];    // disease\n",
    "#   vector<lower=0>[K] beta;     // topic prior\n",
    "#   real alpha1, alpha2;      // drug prior\n",
    "\n",
    "def run_model(ldacode,num_topics,iters,df,beta,alpha1,alpha2,model_file=\"basic_lda_model\"):\n",
    "    \n",
    "    dat = {\n",
    "        'K': num_topics,\n",
    "        'V': df.shape[0],\n",
    "        'M': df.shape[1],\n",
    "        'w': df,\n",
    "        'beta': np.array(num_topics*[beta]),\n",
    "        'alpha1': alpha1,\n",
    "        'alpha2': alpha2\n",
    "    }\n",
    "    \n",
    "    sm = StanModel_cache(model_code=ldacode)\n",
    "    fit = sm.sampling(data=dat, iter=iters, chains=4,seed=2019)\n",
    "#     save(sm,'basic_lda_diag')\n",
    "    return fit"
   ]
  },
  {
   "cell_type": "code",
   "execution_count": 11,
   "metadata": {},
   "outputs": [],
   "source": [
    "test_data = diag_matrix.astype(int)"
   ]
  },
  {
   "cell_type": "code",
   "execution_count": null,
   "metadata": {},
   "outputs": [
    {
     "name": "stderr",
     "output_type": "stream",
     "text": [
      "INFO:pystan:COMPILING THE C++ CODE FOR MODEL anon_model_c6c36827b439bb758be0f697b53ecc1e NOW.\n"
     ]
    }
   ],
   "source": [
    "fit = run_model(ldacode,5,700,test_data.T,0.01,0.01,0.01)"
   ]
  },
  {
   "cell_type": "code",
   "execution_count": null,
   "metadata": {},
   "outputs": [],
   "source": [
    "print(fit)"
   ]
  },
  {
   "cell_type": "code",
   "execution_count": null,
   "metadata": {},
   "outputs": [],
   "source": [
    "trace = fit.extract('theta','phi')\n"
   ]
  },
  {
   "cell_type": "code",
   "execution_count": null,
   "metadata": {},
   "outputs": [],
   "source": [
    "write2file(pandas.DataFrame(trace['theta'][699]),join(write_prefix,\"pystan_diag_matrix_theta\"))\n",
    "write2file(pandas.DataFrame(trace['phi'][699]),join(write_prefix,\"pystan_diag_matrix_phi\"))"
   ]
  },
  {
   "cell_type": "code",
   "execution_count": null,
   "metadata": {},
   "outputs": [],
   "source": [
    "# model = pystan.StanModel(model_code=ldacode)\n",
    "# save(model, fit,'basic_lda_model.pkl')"
   ]
  },
  {
   "cell_type": "code",
   "execution_count": null,
   "metadata": {},
   "outputs": [],
   "source": []
  }
 ],
 "metadata": {
  "kernelspec": {
   "display_name": "Python [conda env:py36]",
   "language": "python",
   "name": "conda-env-py36-py"
  },
  "language_info": {
   "codemirror_mode": {
    "name": "ipython",
    "version": 3
   },
   "file_extension": ".py",
   "mimetype": "text/x-python",
   "name": "python",
   "nbconvert_exporter": "python",
   "pygments_lexer": "ipython3",
   "version": "3.6.8"
  },
  "toc": {
   "base_numbering": 1,
   "nav_menu": {},
   "number_sections": true,
   "sideBar": true,
   "skip_h1_title": false,
   "title_cell": "Table of Contents",
   "title_sidebar": "Contents",
   "toc_cell": false,
   "toc_position": {},
   "toc_section_display": true,
   "toc_window_display": true
  }
 },
 "nbformat": 4,
 "nbformat_minor": 2
}
