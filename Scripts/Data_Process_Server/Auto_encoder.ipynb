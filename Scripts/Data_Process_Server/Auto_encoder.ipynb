{
 "cells": [
  {
   "cell_type": "code",
   "execution_count": 1,
   "metadata": {},
   "outputs": [],
   "source": [
    "import tensorflow as tf"
   ]
  },
  {
   "cell_type": "code",
   "execution_count": 2,
   "metadata": {},
   "outputs": [],
   "source": [
    "sess = tf.Session(config=tf.ConfigProto(log_device_placement=True))\n"
   ]
  },
  {
   "cell_type": "code",
   "execution_count": 3,
   "metadata": {},
   "outputs": [
    {
     "name": "stderr",
     "output_type": "stream",
     "text": [
      "Using TensorFlow backend.\n"
     ]
    }
   ],
   "source": [
    "import keras"
   ]
  },
  {
   "cell_type": "code",
   "execution_count": 4,
   "metadata": {},
   "outputs": [],
   "source": [
    "import os\n",
    "\n",
    "os.environ[\"CUDA_DEVICE_ORDER\"] = \"PCI_BUS_ID\"\n",
    "os.environ[\"CUDA_VISIBLE_DEVICES\"] = \"1\""
   ]
  },
  {
   "cell_type": "code",
   "execution_count": 7,
   "metadata": {},
   "outputs": [],
   "source": [
    "from Abstract import Abstract\n",
    "read_pre = '/data/liu/mimic3/USER_VECTORS/%s.csv'\n",
    "aa = Abstract(read_prefix=read_pre, write_prefix=read_pre)\n",
    "X_train_scaled = aa.read_data('lab_diag_train_scaled',None)\n",
    "X_test_scaled = aa.read_data('lab_diag_test_scaled',None)\n",
    "\n",
    "## Specify GPU\n",
    "import os\n",
    "os.environ[\"CUDA_DEVICE_ORDER\"] = \"PCI_BUS_ID\"\n",
    "os.environ[\"CUDA_VISIBLE_DEVICES\"] = \"1\"\n",
    "\n",
    "\n",
    "import numpy as np # linear algebra\n",
    "import pandas as pd # data processing, CSV file I/O (e.g. pd.read_csv)\n",
    "\n",
    "from keras.layers import Input, Dense\n",
    "from keras.models import Sequential\n",
    "from keras.models import Model\n",
    "from keras.optimizers import Adam"
   ]
  },
  {
   "cell_type": "code",
   "execution_count": 8,
   "metadata": {},
   "outputs": [
    {
     "name": "stdout",
     "output_type": "stream",
     "text": [
      "_________________________________________________________________\n",
      "Layer (type)                 Output Shape              Param #   \n",
      "=================================================================\n",
      "dense_1 (Dense)              (None, 5000)              65590000  \n",
      "_________________________________________________________________\n",
      "bottleneck (Dense)           (None, 128)               640128    \n",
      "_________________________________________________________________\n",
      "dense_2 (Dense)              (None, 5000)              645000    \n",
      "_________________________________________________________________\n",
      "dense_3 (Dense)              (None, 13117)             65598117  \n",
      "=================================================================\n",
      "Total params: 132,473,245\n",
      "Trainable params: 132,473,245\n",
      "Non-trainable params: 0\n",
      "_________________________________________________________________\n"
     ]
    }
   ],
   "source": [
    "## Construct autoencoder model\n",
    "model = Sequential()\n",
    "model.add(Dense(5000,  activation='relu', input_shape=(13117,)))\n",
    "model.add(Dense(128,  activation='linear', name=\"bottleneck\"))\n",
    "model.add(Dense(5000, activation='relu'))\n",
    "model.add(Dense(13117,  activation='sigmoid'))\n",
    "model.summary()"
   ]
  },
  {
   "cell_type": "code",
   "execution_count": 10,
   "metadata": {},
   "outputs": [
    {
     "name": "stdout",
     "output_type": "stream",
     "text": [
      "Epoch 1/3\n",
      "37000/37000 [==============================] - 22s 596us/step - loss: 0.0784\n",
      "Epoch 2/3\n",
      "37000/37000 [==============================] - 21s 555us/step - loss: 0.0180\n",
      "Epoch 3/3\n",
      "37000/37000 [==============================] - 21s 563us/step - loss: 0.0184\n"
     ]
    },
    {
     "data": {
      "text/plain": [
       "<keras.callbacks.History at 0x7efdc8039550>"
      ]
     },
     "execution_count": 10,
     "metadata": {},
     "output_type": "execute_result"
    }
   ],
   "source": [
    "## Train model\n",
    "encoder = Model(model.input, model.get_layer('bottleneck').output)\n",
    "model.compile(loss='mse', optimizer = Adam())\n",
    "\n",
    "model.fit(X_train_scaled,X_train_scaled, batch_size=5000, epochs=3, shuffle=True)\n"
   ]
  },
  {
   "cell_type": "code",
   "execution_count": 11,
   "metadata": {},
   "outputs": [],
   "source": [
    "representations = encoder.predict(np.concatenate((X_train_scaled, X_test_scaled), axis=0))  # bottleneck representation\n",
    "\n"
   ]
  },
  {
   "cell_type": "code",
   "execution_count": 12,
   "metadata": {},
   "outputs": [
    {
     "data": {
      "text/plain": [
       "(46250, 128)"
      ]
     },
     "execution_count": 12,
     "metadata": {},
     "output_type": "execute_result"
    }
   ],
   "source": [
    "representations.shape"
   ]
  },
  {
   "cell_type": "code",
   "execution_count": 14,
   "metadata": {},
   "outputs": [
    {
     "data": {
      "text/plain": [
       "array([[-79.54719  , -51.86097  , -59.784878 , -34.812004 , -17.154598 ,\n",
       "         57.76872  , -59.443817 ,  51.83057  ,  50.227425 ,  62.451515 ,\n",
       "        -64.134285 , -44.729664 , -41.08687  , -27.206694 , -83.18298  ,\n",
       "         43.851826 ,  72.819016 , -78.5613   ,  60.387184 ,  68.198265 ,\n",
       "         62.175426 , -34.75865  ,  69.06553  ,  43.556763 , -55.076534 ,\n",
       "         83.30189  ,  32.31986  ,  60.31306  ,  60.562336 ,  43.9537   ,\n",
       "         80.002464 ,  62.458225 , -15.407141 , -30.135937 ,   8.513957 ,\n",
       "        -73.47895  ,  57.139557 ,  62.26405  , -43.905163 ,  63.872627 ,\n",
       "        -55.155872 ,  -0.7657843,  -9.014201 , -64.246605 ,  34.068794 ,\n",
       "        -53.160583 ,  -6.3852863,  83.42692  ,  48.867424 ,  60.738735 ,\n",
       "         43.074425 ,  54.66656  , -47.293873 ,  52.9292   ,  17.722717 ,\n",
       "         -5.6023965,  47.75376  ,  47.776806 , -45.0529   ,  44.312042 ,\n",
       "        -58.800545 ,  68.85031  ,  34.991154 ,  13.000304 ,  -7.6618285,\n",
       "        -61.760605 ,  25.64993  ,  56.485313 , -49.157166 ,  69.950096 ,\n",
       "        -42.1019   ,  59.25502  , -62.862595 ,  65.41431  , -70.3631   ,\n",
       "         40.12086  , -52.569096 ,  93.45408  , -28.317877 , -68.70306  ,\n",
       "        -56.231426 , -74.22167  ,  84.39616  ,  16.074583 ,  42.74294  ,\n",
       "         55.523537 ,  47.950596 , -61.34385  ,  51.520603 , -42.924873 ,\n",
       "        -40.34962  , -49.22799  ,  45.45043  , -22.892906 , -71.860634 ,\n",
       "         66.50611  , -68.01584  , -43.351593 , -69.34099  , -70.81087  ,\n",
       "        -70.59665  ,  54.66306  , -62.763557 ,  -0.849892 , -69.32919  ,\n",
       "         55.137253 ,  93.68915  , -60.681965 , -29.425194 ,  62.906273 ,\n",
       "         16.676834 ,  38.396877 ,   3.9218328,  70.29433  ,  64.40705  ,\n",
       "        -53.35958  , -62.099197 ,  16.562521 , -50.56533  , -46.27336  ,\n",
       "        -97.74122  ,  53.1758   , -31.98992  ,  39.62513  , -66.736824 ,\n",
       "         15.015954 ,  22.958214 ,  70.693794 ],\n",
       "       [-69.96433  , -45.51471  , -52.370514 , -30.266981 , -14.975619 ,\n",
       "         50.87732  , -52.251034 ,  45.400696 ,  44.138832 ,  54.965343 ,\n",
       "        -56.100918 , -39.08053  , -35.884808 , -23.812754 , -72.917145 ,\n",
       "         38.563908 ,  63.781216 , -68.474075 ,  53.144806 ,  59.757477 ,\n",
       "         54.535824 , -30.534332 ,  60.320766 ,  38.14963  , -48.03768  ,\n",
       "         73.05978  ,  28.21224  ,  52.72606  ,  53.08453  ,  38.53997  ,\n",
       "         69.93569  ,  54.998005 , -13.390653 , -26.35131  ,   7.368968 ,\n",
       "        -64.16658  ,  50.102047 ,  54.557922 , -38.34268  ,  55.982216 ,\n",
       "        -48.22399  ,  -0.4802435,  -8.086281 , -56.47643  ,  29.825174 ,\n",
       "        -46.524246 ,  -5.4999647,  73.01493  ,  42.75217  ,  53.051178 ,\n",
       "         37.690502 ,  48.069115 , -41.359062 ,  46.41727  ,  15.434014 ,\n",
       "         -4.9091206,  42.07214  ,  41.80776  , -39.598408 ,  38.95033  ,\n",
       "        -51.577896 ,  60.249382 ,  30.671373 ,  11.265896 ,  -6.669737 ,\n",
       "        -54.066196 ,  22.57352  ,  49.676735 , -42.795303 ,  61.305584 ,\n",
       "        -36.815792 ,  51.985092 , -55.020107 ,  57.109108 , -61.267235 ,\n",
       "         35.036366 , -45.821167 ,  82.02597  , -24.851059 , -60.181473 ,\n",
       "        -49.393085 , -65.06131  ,  73.88821  ,  14.198694 ,  37.345253 ,\n",
       "         48.695904 ,  42.08977  , -53.808987 ,  45.01159  , -37.508896 ,\n",
       "        -35.2556   , -42.756042 ,  39.784725 , -19.956911 , -62.814262 ,\n",
       "         58.3533   , -59.790905 , -38.25586  , -60.461    , -62.217476 ,\n",
       "        -61.90378  ,  47.755547 , -54.94861  ,  -0.8603467, -60.84721  ,\n",
       "         48.359467 ,  82.36435  , -53.039318 , -26.19665  ,  55.157326 ,\n",
       "         14.382957 ,  33.796883 ,   3.431452 ,  61.784565 ,  56.367653 ,\n",
       "        -46.774338 , -54.2122   ,  14.372    , -44.556442 , -40.611103 ,\n",
       "        -85.68153  ,  46.637024 , -27.696245 ,  34.67488  , -58.5062   ,\n",
       "         13.189717 ,  20.143808 ,  62.099285 ]], dtype=float32)"
      ]
     },
     "execution_count": 14,
     "metadata": {},
     "output_type": "execute_result"
    }
   ],
   "source": [
    "representations[:2]"
   ]
  },
  {
   "cell_type": "code",
   "execution_count": 15,
   "metadata": {},
   "outputs": [
    {
     "data": {
      "text/plain": [
       "['/job:localhost/replica:0/task:0/device:GPU:0',\n",
       " '/job:localhost/replica:0/task:0/device:GPU:1']"
      ]
     },
     "execution_count": 15,
     "metadata": {},
     "output_type": "execute_result"
    }
   ],
   "source": [
    "from keras import backend as K\n",
    "K.tensorflow_backend._get_available_gpus()"
   ]
  },
  {
   "cell_type": "code",
   "execution_count": 16,
   "metadata": {},
   "outputs": [],
   "source": [
    "## Save 0 only as 0\n",
    "def savetxt_compact(fname, x, fmt=\"%.6g\", delimiter=','):\n",
    "    with open(fname, 'w') as fh:\n",
    "        for row in x:\n",
    "            line = delimiter.join(\"0\" if value == 0 else fmt % value for value in row)\n",
    "            fh.write(line + '\\n')\n",
    "            \n",
    "savetxt_compact(read_pre % 'lab_diag_128', representations, fmt='%.8f')"
   ]
  },
  {
   "cell_type": "code",
   "execution_count": 17,
   "metadata": {},
   "outputs": [],
   "source": [
    "savetxt_compact(read_pre % 'lab_diag_128', representations, fmt='%.8f')\n"
   ]
  },
  {
   "cell_type": "code",
   "execution_count": 18,
   "metadata": {},
   "outputs": [
    {
     "name": "stdout",
     "output_type": "stream",
     "text": [
      "Time (s) to convolve 32x7x7x3 filter over random 100x100x100x3 images (batch x height x width x channel). Sum of ten runs.\n",
      "CPU (s):\n",
      "0.9046358852647245\n",
      "GPU (s):\n",
      "1.7261545551009476\n",
      "GPU speedup over CPU: 0x\n"
     ]
    }
   ],
   "source": [
    "##\n",
    "import tensorflow as tf\n",
    "import timeit\n",
    "\n",
    "# See https://www.tensorflow.org/tutorials/using_gpu#allowing_gpu_memory_growth\n",
    "config = tf.ConfigProto()\n",
    "config.gpu_options.allow_growth = True\n",
    "\n",
    "with tf.device('/cpu:0'):\n",
    "  random_image_cpu = tf.random_normal((100, 100, 100, 3))\n",
    "  net_cpu = tf.layers.conv2d(random_image_cpu, 32, 7)\n",
    "  net_cpu = tf.reduce_sum(net_cpu)\n",
    "\n",
    "with tf.device('/gpu:0'):\n",
    "  random_image_gpu = tf.random_normal((100, 100, 100, 3))\n",
    "  net_gpu = tf.layers.conv2d(random_image_gpu, 32, 7)\n",
    "  net_gpu = tf.reduce_sum(net_gpu)\n",
    "\n",
    "sess = tf.Session(config=config)\n",
    "\n",
    "# Test execution once to detect errors early.\n",
    "try:\n",
    "  sess.run(tf.global_variables_initializer())\n",
    "except tf.errors.InvalidArgumentError:\n",
    "  print(\n",
    "      '\\n\\nThis error most likely means that this notebook is not '\n",
    "      'configured to use a GPU.  Change this in Notebook Settings via the '\n",
    "      'command palette (cmd/ctrl-shift-P) or the Edit menu.\\n\\n')\n",
    "  raise\n",
    "\n",
    "def cpu():\n",
    "  sess.run(net_cpu)\n",
    "  \n",
    "def gpu():\n",
    "  sess.run(net_gpu)\n",
    "  \n",
    "# Runs the op several times.\n",
    "print('Time (s) to convolve 32x7x7x3 filter over random 100x100x100x3 images '\n",
    "      '(batch x height x width x channel). Sum of ten runs.')\n",
    "print('CPU (s):')\n",
    "cpu_time = timeit.timeit('cpu()', number=10, setup=\"from __main__ import cpu\")\n",
    "print(cpu_time)\n",
    "print('GPU (s):')\n",
    "gpu_time = timeit.timeit('gpu()', number=10, setup=\"from __main__ import gpu\")\n",
    "print(gpu_time)\n",
    "print('GPU speedup over CPU: {}x'.format(int(cpu_time/gpu_time)))\n",
    "\n",
    "sess.close()"
   ]
  },
  {
   "cell_type": "code",
   "execution_count": null,
   "metadata": {},
   "outputs": [],
   "source": []
  }
 ],
 "metadata": {
  "kernelspec": {
   "display_name": "Python [conda env:py35]",
   "language": "python",
   "name": "conda-env-py35-py"
  },
  "language_info": {
   "codemirror_mode": {
    "name": "ipython",
    "version": 3
   },
   "file_extension": ".py",
   "mimetype": "text/x-python",
   "name": "python",
   "nbconvert_exporter": "python",
   "pygments_lexer": "ipython3",
   "version": "3.5.6"
  },
  "toc": {
   "base_numbering": 1,
   "nav_menu": {},
   "number_sections": true,
   "sideBar": true,
   "skip_h1_title": false,
   "title_cell": "Table of Contents",
   "title_sidebar": "Contents",
   "toc_cell": false,
   "toc_position": {},
   "toc_section_display": true,
   "toc_window_display": true
  }
 },
 "nbformat": 4,
 "nbformat_minor": 2
}
