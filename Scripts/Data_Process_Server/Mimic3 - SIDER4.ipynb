{
 "cells": [
  {
   "cell_type": "markdown",
   "metadata": {},
   "source": [
    "## NDC - ATC - DrugBank_ID"
   ]
  },
  {
   "cell_type": "markdown",
   "metadata": {},
   "source": [
    "### MIMIC3_NDC - ATC (CANNOT match those drugs without NDC codes)"
   ]
  },
  {
   "cell_type": "code",
   "execution_count": 1,
   "metadata": {
    "code_folding": [
     0
    ]
   },
   "outputs": [],
   "source": [
    "## Import base packages\n",
    "import numpy as np\n",
    "import pandas as pd\n",
    "from Abstract import Abstract\n",
    "import re\n",
    "import requests\n",
    "read_prefix = '/data/liu/adverse_events'\n",
    "write_prefix = '/data/liu/adverse_events'\n",
    "aa = Abstract(read_prefix=read_prefix,write_prefix=write_prefix)"
   ]
  },
  {
   "cell_type": "code",
   "execution_count": 31,
   "metadata": {
    "code_folding": [
     0
    ]
   },
   "outputs": [],
   "source": [
    "def get_ndc_codes(ndc):\n",
    "    \n",
    "    if(ndc == '0'): return []\n",
    "    \n",
    "    ndc_codes = []\n",
    "    if(ndc[0]=='0'):\n",
    "        ## 442\n",
    "        ndc_codes = ndc_codes + [('-').join([ndc[1:5],ndc[5:9],ndc[9:]])]\n",
    "    if(ndc[5]=='0'):\n",
    "        ## 532\n",
    "        ndc_codes = ndc_codes + [('-').join([ndc[0:5],ndc[6:9],ndc[9:]])]\n",
    "    if(ndc[9]=='0'):\n",
    "        ## 541\n",
    "        ndc_codes = ndc_codes + [('-').join([ndc[0:5],ndc[5:9],ndc[-1]])]\n",
    "    return ndc_codes"
   ]
  },
  {
   "cell_type": "code",
   "execution_count": 32,
   "metadata": {
    "code_folding": [
     0
    ]
   },
   "outputs": [
    {
     "data": {
      "text/html": [
       "<div>\n",
       "<style scoped>\n",
       "    .dataframe tbody tr th:only-of-type {\n",
       "        vertical-align: middle;\n",
       "    }\n",
       "\n",
       "    .dataframe tbody tr th {\n",
       "        vertical-align: top;\n",
       "    }\n",
       "\n",
       "    .dataframe thead th {\n",
       "        text-align: right;\n",
       "    }\n",
       "</style>\n",
       "<table border=\"1\" class=\"dataframe\">\n",
       "  <thead>\n",
       "    <tr style=\"text-align: right;\">\n",
       "      <th></th>\n",
       "      <th>SUBJECT_ID</th>\n",
       "      <th>STARTDATE</th>\n",
       "      <th>ENDDATE</th>\n",
       "      <th>DRUG</th>\n",
       "      <th>DRUG_NAME_GENERIC</th>\n",
       "      <th>NDC</th>\n",
       "      <th>ROUTE</th>\n",
       "    </tr>\n",
       "  </thead>\n",
       "  <tbody>\n",
       "    <tr>\n",
       "      <th>0</th>\n",
       "      <td>6</td>\n",
       "      <td>2175-06-11 00:00:00</td>\n",
       "      <td>2175-06-12 00:00:00</td>\n",
       "      <td>Tacrolimus</td>\n",
       "      <td>Tacrolimus</td>\n",
       "      <td>00469061711</td>\n",
       "      <td>PO</td>\n",
       "    </tr>\n",
       "    <tr>\n",
       "      <th>1</th>\n",
       "      <td>6</td>\n",
       "      <td>2175-06-11 00:00:00</td>\n",
       "      <td>2175-06-12 00:00:00</td>\n",
       "      <td>Warfarin</td>\n",
       "      <td>Warfarin</td>\n",
       "      <td>00056017275</td>\n",
       "      <td>PO</td>\n",
       "    </tr>\n",
       "    <tr>\n",
       "      <th>2</th>\n",
       "      <td>6</td>\n",
       "      <td>2175-06-11 00:00:00</td>\n",
       "      <td>2175-06-12 00:00:00</td>\n",
       "      <td>Heparin Sodium</td>\n",
       "      <td>NaN</td>\n",
       "      <td>00338055002</td>\n",
       "      <td>IV</td>\n",
       "    </tr>\n",
       "    <tr>\n",
       "      <th>3</th>\n",
       "      <td>6</td>\n",
       "      <td>2175-06-11 00:00:00</td>\n",
       "      <td>2175-06-12 00:00:00</td>\n",
       "      <td>D5W</td>\n",
       "      <td>NaN</td>\n",
       "      <td>0</td>\n",
       "      <td>IV</td>\n",
       "    </tr>\n",
       "    <tr>\n",
       "      <th>4</th>\n",
       "      <td>6</td>\n",
       "      <td>2175-06-11 00:00:00</td>\n",
       "      <td>2175-06-12 00:00:00</td>\n",
       "      <td>Furosemide</td>\n",
       "      <td>Furosemide</td>\n",
       "      <td>00054829725</td>\n",
       "      <td>PO</td>\n",
       "    </tr>\n",
       "  </tbody>\n",
       "</table>\n",
       "</div>"
      ],
      "text/plain": [
       "   SUBJECT_ID            STARTDATE              ENDDATE            DRUG  \\\n",
       "0           6  2175-06-11 00:00:00  2175-06-12 00:00:00      Tacrolimus   \n",
       "1           6  2175-06-11 00:00:00  2175-06-12 00:00:00        Warfarin   \n",
       "2           6  2175-06-11 00:00:00  2175-06-12 00:00:00  Heparin Sodium   \n",
       "3           6  2175-06-11 00:00:00  2175-06-12 00:00:00             D5W   \n",
       "4           6  2175-06-11 00:00:00  2175-06-12 00:00:00      Furosemide   \n",
       "\n",
       "  DRUG_NAME_GENERIC          NDC ROUTE  \n",
       "0        Tacrolimus  00469061711    PO  \n",
       "1          Warfarin  00056017275    PO  \n",
       "2               NaN  00338055002    IV  \n",
       "3               NaN            0    IV  \n",
       "4        Furosemide  00054829725    PO  "
      ]
     },
     "execution_count": 32,
     "metadata": {},
     "output_type": "execute_result"
    }
   ],
   "source": [
    "## Read raw prescriptions\n",
    "usecols=[\"SUBJECT_ID\", \"STARTDATE\", \"ENDDATE\",\"DRUG\",\"NDC\",\"DRUG_NAME_GENERIC\",\"ROUTE\"]\n",
    "pres_df = pd.read_csv(read_prefix%'PRESCRIPTIONS',usecols=usecols,dtype={'NDC': str})\n",
    "pres_df.head()"
   ]
  },
  {
   "cell_type": "code",
   "execution_count": 33,
   "metadata": {
    "code_folding": [
     0
    ]
   },
   "outputs": [],
   "source": [
    "## Drop duplicate NDC\n",
    "mimic_drugs_NDCs = pres_df[['NDC']].dropna().drop_duplicates()"
   ]
  },
  {
   "cell_type": "code",
   "execution_count": 34,
   "metadata": {
    "code_folding": [
     0
    ]
   },
   "outputs": [
    {
     "data": {
      "text/html": [
       "<div>\n",
       "<style scoped>\n",
       "    .dataframe tbody tr th:only-of-type {\n",
       "        vertical-align: middle;\n",
       "    }\n",
       "\n",
       "    .dataframe tbody tr th {\n",
       "        vertical-align: top;\n",
       "    }\n",
       "\n",
       "    .dataframe thead th {\n",
       "        text-align: right;\n",
       "    }\n",
       "</style>\n",
       "<table border=\"1\" class=\"dataframe\">\n",
       "  <thead>\n",
       "    <tr style=\"text-align: right;\">\n",
       "      <th></th>\n",
       "      <th>NDC</th>\n",
       "      <th>NDC_CODES</th>\n",
       "      <th>L</th>\n",
       "    </tr>\n",
       "  </thead>\n",
       "  <tbody>\n",
       "    <tr>\n",
       "      <th>0</th>\n",
       "      <td>00469061711</td>\n",
       "      <td>[0469-0617-11, 00469-617-11]</td>\n",
       "      <td>11</td>\n",
       "    </tr>\n",
       "    <tr>\n",
       "      <th>1</th>\n",
       "      <td>00056017275</td>\n",
       "      <td>[0056-0172-75, 00056-172-75]</td>\n",
       "      <td>11</td>\n",
       "    </tr>\n",
       "    <tr>\n",
       "      <th>2</th>\n",
       "      <td>00338055002</td>\n",
       "      <td>[0338-0550-02, 00338-550-02, 00338-0550-2]</td>\n",
       "      <td>11</td>\n",
       "    </tr>\n",
       "    <tr>\n",
       "      <th>4</th>\n",
       "      <td>00054829725</td>\n",
       "      <td>[0054-8297-25]</td>\n",
       "      <td>11</td>\n",
       "    </tr>\n",
       "    <tr>\n",
       "      <th>5</th>\n",
       "      <td>00056016975</td>\n",
       "      <td>[0056-0169-75, 00056-169-75]</td>\n",
       "      <td>11</td>\n",
       "    </tr>\n",
       "  </tbody>\n",
       "</table>\n",
       "</div>"
      ],
      "text/plain": [
       "           NDC                                   NDC_CODES   L\n",
       "0  00469061711                [0469-0617-11, 00469-617-11]  11\n",
       "1  00056017275                [0056-0172-75, 00056-172-75]  11\n",
       "2  00338055002  [0338-0550-02, 00338-550-02, 00338-0550-2]  11\n",
       "4  00054829725                              [0054-8297-25]  11\n",
       "5  00056016975                [0056-0169-75, 00056-169-75]  11"
      ]
     },
     "execution_count": 34,
     "metadata": {},
     "output_type": "execute_result"
    }
   ],
   "source": [
    "## 4204 ndcs, transform them to 3 kinds of possible formatted codes\n",
    "mimic_drugs_NDCs['NDC_CODES'] = mimic_drugs_NDCs['NDC'].apply(get_ndc_codes)\n",
    "mimic_drugs_NDCs['L'] = mimic_drugs_NDCs['NDC'].apply(len)\n",
    "mimic_drugs_NDCs = mimic_drugs_NDCs[mimic_drugs_NDCs['L']==11]\n",
    "mimic_drugs_NDCs.head()"
   ]
  },
  {
   "cell_type": "code",
   "execution_count": 35,
   "metadata": {
    "code_folding": [
     0
    ]
   },
   "outputs": [
    {
     "data": {
      "text/html": [
       "<div>\n",
       "<style scoped>\n",
       "    .dataframe tbody tr th:only-of-type {\n",
       "        vertical-align: middle;\n",
       "    }\n",
       "\n",
       "    .dataframe tbody tr th {\n",
       "        vertical-align: top;\n",
       "    }\n",
       "\n",
       "    .dataframe thead th {\n",
       "        text-align: right;\n",
       "    }\n",
       "</style>\n",
       "<table border=\"1\" class=\"dataframe\">\n",
       "  <thead>\n",
       "    <tr style=\"text-align: right;\">\n",
       "      <th></th>\n",
       "      <th>NDC</th>\n",
       "      <th>NDC_CODES</th>\n",
       "      <th>L</th>\n",
       "      <th>0</th>\n",
       "      <th>1</th>\n",
       "      <th>2</th>\n",
       "    </tr>\n",
       "  </thead>\n",
       "  <tbody>\n",
       "    <tr>\n",
       "      <th>0</th>\n",
       "      <td>00469061711</td>\n",
       "      <td>[0469-0617-11, 00469-617-11]</td>\n",
       "      <td>11</td>\n",
       "      <td>0469-0617-11</td>\n",
       "      <td>00469-617-11</td>\n",
       "      <td>NaN</td>\n",
       "    </tr>\n",
       "    <tr>\n",
       "      <th>1</th>\n",
       "      <td>00056017275</td>\n",
       "      <td>[0056-0172-75, 00056-172-75]</td>\n",
       "      <td>11</td>\n",
       "      <td>0056-0172-75</td>\n",
       "      <td>00056-172-75</td>\n",
       "      <td>NaN</td>\n",
       "    </tr>\n",
       "    <tr>\n",
       "      <th>2</th>\n",
       "      <td>00338055002</td>\n",
       "      <td>[0338-0550-02, 00338-550-02, 00338-0550-2]</td>\n",
       "      <td>11</td>\n",
       "      <td>0338-0550-02</td>\n",
       "      <td>00338-550-02</td>\n",
       "      <td>00338-0550-2</td>\n",
       "    </tr>\n",
       "    <tr>\n",
       "      <th>4</th>\n",
       "      <td>00054829725</td>\n",
       "      <td>[0054-8297-25]</td>\n",
       "      <td>11</td>\n",
       "      <td>0054-8297-25</td>\n",
       "      <td>NaN</td>\n",
       "      <td>NaN</td>\n",
       "    </tr>\n",
       "    <tr>\n",
       "      <th>5</th>\n",
       "      <td>00056016975</td>\n",
       "      <td>[0056-0169-75, 00056-169-75]</td>\n",
       "      <td>11</td>\n",
       "      <td>0056-0169-75</td>\n",
       "      <td>00056-169-75</td>\n",
       "      <td>NaN</td>\n",
       "    </tr>\n",
       "  </tbody>\n",
       "</table>\n",
       "</div>"
      ],
      "text/plain": [
       "           NDC                                   NDC_CODES   L             0  \\\n",
       "0  00469061711                [0469-0617-11, 00469-617-11]  11  0469-0617-11   \n",
       "1  00056017275                [0056-0172-75, 00056-172-75]  11  0056-0172-75   \n",
       "2  00338055002  [0338-0550-02, 00338-550-02, 00338-0550-2]  11  0338-0550-02   \n",
       "4  00054829725                              [0054-8297-25]  11  0054-8297-25   \n",
       "5  00056016975                [0056-0169-75, 00056-169-75]  11  0056-0169-75   \n",
       "\n",
       "              1             2  \n",
       "0  00469-617-11           NaN  \n",
       "1  00056-172-75           NaN  \n",
       "2  00338-550-02  00338-0550-2  \n",
       "4           NaN           NaN  \n",
       "5  00056-169-75           NaN  "
      ]
     },
     "execution_count": 35,
     "metadata": {},
     "output_type": "execute_result"
    }
   ],
   "source": [
    "## Split three kinds codes into three columns\n",
    "mimic_drugs_NDCs= pd.concat([mimic_drugs_NDCs, mimic_drugs_NDCs['NDC_CODES'].apply(pd.Series)],axis=1)\n",
    "mimic_drugs_NDCs.head()"
   ]
  },
  {
   "cell_type": "code",
   "execution_count": 36,
   "metadata": {
    "code_folding": [
     0
    ]
   },
   "outputs": [
    {
     "data": {
      "text/html": [
       "<div>\n",
       "<style scoped>\n",
       "    .dataframe tbody tr th:only-of-type {\n",
       "        vertical-align: middle;\n",
       "    }\n",
       "\n",
       "    .dataframe tbody tr th {\n",
       "        vertical-align: top;\n",
       "    }\n",
       "\n",
       "    .dataframe thead th {\n",
       "        text-align: right;\n",
       "    }\n",
       "</style>\n",
       "<table border=\"1\" class=\"dataframe\">\n",
       "  <thead>\n",
       "    <tr style=\"text-align: right;\">\n",
       "      <th></th>\n",
       "      <th>NDC</th>\n",
       "      <th>variable</th>\n",
       "      <th>NDC_CODE</th>\n",
       "    </tr>\n",
       "  </thead>\n",
       "  <tbody>\n",
       "    <tr>\n",
       "      <th>3550</th>\n",
       "      <td>00002050101</td>\n",
       "      <td>0</td>\n",
       "      <td>0002-0501-01</td>\n",
       "    </tr>\n",
       "    <tr>\n",
       "      <th>7753</th>\n",
       "      <td>00002050101</td>\n",
       "      <td>1</td>\n",
       "      <td>00002-501-01</td>\n",
       "    </tr>\n",
       "    <tr>\n",
       "      <th>11956</th>\n",
       "      <td>00002050101</td>\n",
       "      <td>2</td>\n",
       "      <td>00002-0501-1</td>\n",
       "    </tr>\n",
       "    <tr>\n",
       "      <th>3672</th>\n",
       "      <td>00002140701</td>\n",
       "      <td>0</td>\n",
       "      <td>0002-1407-01</td>\n",
       "    </tr>\n",
       "    <tr>\n",
       "      <th>7875</th>\n",
       "      <td>00002140701</td>\n",
       "      <td>1</td>\n",
       "      <td>00002-1407-1</td>\n",
       "    </tr>\n",
       "  </tbody>\n",
       "</table>\n",
       "</div>"
      ],
      "text/plain": [
       "               NDC variable      NDC_CODE\n",
       "3550   00002050101        0  0002-0501-01\n",
       "7753   00002050101        1  00002-501-01\n",
       "11956  00002050101        2  00002-0501-1\n",
       "3672   00002140701        0  0002-1407-01\n",
       "7875   00002140701        1  00002-1407-1"
      ]
     },
     "execution_count": 36,
     "metadata": {},
     "output_type": "execute_result"
    }
   ],
   "source": [
    "## remove intermediate result columns AND Convert 3 NDC_CODE columns to rows AND drop null NDC_CODE:\n",
    "mimic_drugs_NDCs = mimic_drugs_NDCs[['NDC', 0, 1, 2]]\n",
    "mimic_drugs_NDCs=pd.melt(mimic_drugs_NDCs, id_vars=[\"NDC\"], \\\n",
    "                         value_name=\"NDC_CODE\").sort_values(by=['NDC','variable'])\n",
    "mimic_drugs_NDCs=mimic_drugs_NDCs.dropna(subset=['NDC_CODE'])\n",
    "mimic_drugs_NDCs.head()"
   ]
  },
  {
   "cell_type": "code",
   "execution_count": 37,
   "metadata": {
    "code_folding": [
     0
    ]
   },
   "outputs": [],
   "source": [
    "## save mimic NDC-CODE to file\n",
    "aa.write2file(mimic_drugs_NDCs,'mimic_NDCcode')"
   ]
  },
  {
   "cell_type": "code",
   "execution_count": 39,
   "metadata": {
    "code_folding": [
     0
    ]
   },
   "outputs": [
    {
     "data": {
      "text/html": [
       "<div>\n",
       "<style scoped>\n",
       "    .dataframe tbody tr th:only-of-type {\n",
       "        vertical-align: middle;\n",
       "    }\n",
       "\n",
       "    .dataframe tbody tr th {\n",
       "        vertical-align: top;\n",
       "    }\n",
       "\n",
       "    .dataframe thead th {\n",
       "        text-align: right;\n",
       "    }\n",
       "</style>\n",
       "<table border=\"1\" class=\"dataframe\">\n",
       "  <thead>\n",
       "    <tr style=\"text-align: right;\">\n",
       "      <th></th>\n",
       "      <th>YEAR</th>\n",
       "      <th>MONTH</th>\n",
       "      <th>NDC_CODE</th>\n",
       "      <th>RXCUI</th>\n",
       "      <th>ATC4</th>\n",
       "    </tr>\n",
       "  </thead>\n",
       "  <tbody>\n",
       "    <tr>\n",
       "      <th>0</th>\n",
       "      <td>2015</td>\n",
       "      <td>5</td>\n",
       "      <td>0002-7712-27</td>\n",
       "      <td>1652242</td>\n",
       "      <td>A10AD</td>\n",
       "    </tr>\n",
       "    <tr>\n",
       "      <th>1</th>\n",
       "      <td>2017</td>\n",
       "      <td>10</td>\n",
       "      <td>0002-7712-61</td>\n",
       "      <td>1652242</td>\n",
       "      <td>A10AB</td>\n",
       "    </tr>\n",
       "    <tr>\n",
       "      <th>2</th>\n",
       "      <td>2017</td>\n",
       "      <td>10</td>\n",
       "      <td>0002-7712-61</td>\n",
       "      <td>1652242</td>\n",
       "      <td>A10AC</td>\n",
       "    </tr>\n",
       "    <tr>\n",
       "      <th>3</th>\n",
       "      <td>2017</td>\n",
       "      <td>10</td>\n",
       "      <td>0002-7712-61</td>\n",
       "      <td>1652242</td>\n",
       "      <td>A10AD</td>\n",
       "    </tr>\n",
       "    <tr>\n",
       "      <th>4</th>\n",
       "      <td>2015</td>\n",
       "      <td>5</td>\n",
       "      <td>0002-7712-99</td>\n",
       "      <td>1652242</td>\n",
       "      <td>A10AB</td>\n",
       "    </tr>\n",
       "  </tbody>\n",
       "</table>\n",
       "</div>"
      ],
      "text/plain": [
       "   YEAR MONTH      NDC_CODE    RXCUI   ATC4\n",
       "0  2015     5  0002-7712-27  1652242  A10AD\n",
       "1  2017    10  0002-7712-61  1652242  A10AB\n",
       "2  2017    10  0002-7712-61  1652242  A10AC\n",
       "3  2017    10  0002-7712-61  1652242  A10AD\n",
       "4  2015     5  0002-7712-99  1652242  A10AB"
      ]
     },
     "execution_count": 39,
     "metadata": {},
     "output_type": "execute_result"
    }
   ],
   "source": [
    "## read NDC-ATC data\n",
    "drugbank_path = '/data/liu/adverse_events/mapping/%s'\n",
    "ndc2atc_df = pd.read_csv(drugbank_path%'ndc_atc4_201903.csv',sep=',',dtype={'RXCUI':str})\n",
    "ndc2atc_df = ndc2atc_df.rename(columns = {'NDC':'NDC_CODE'})\n",
    "ndc2atc_df.head()"
   ]
  },
  {
   "cell_type": "code",
   "execution_count": 40,
   "metadata": {
    "code_folding": [
     0
    ]
   },
   "outputs": [
    {
     "data": {
      "text/html": [
       "<div>\n",
       "<style scoped>\n",
       "    .dataframe tbody tr th:only-of-type {\n",
       "        vertical-align: middle;\n",
       "    }\n",
       "\n",
       "    .dataframe tbody tr th {\n",
       "        vertical-align: top;\n",
       "    }\n",
       "\n",
       "    .dataframe thead th {\n",
       "        text-align: right;\n",
       "    }\n",
       "</style>\n",
       "<table border=\"1\" class=\"dataframe\">\n",
       "  <thead>\n",
       "    <tr style=\"text-align: right;\">\n",
       "      <th></th>\n",
       "      <th>NDC</th>\n",
       "      <th>variable</th>\n",
       "      <th>NDC_CODE</th>\n",
       "      <th>YEAR</th>\n",
       "      <th>MONTH</th>\n",
       "      <th>RXCUI</th>\n",
       "      <th>ATC4</th>\n",
       "    </tr>\n",
       "  </thead>\n",
       "  <tbody>\n",
       "    <tr>\n",
       "      <th>0</th>\n",
       "      <td>00002821501</td>\n",
       "      <td>0</td>\n",
       "      <td>0002-8215-01</td>\n",
       "      <td>1983</td>\n",
       "      <td>6</td>\n",
       "      <td>311036</td>\n",
       "      <td>A10AB</td>\n",
       "    </tr>\n",
       "    <tr>\n",
       "      <th>1</th>\n",
       "      <td>00002821501</td>\n",
       "      <td>0</td>\n",
       "      <td>0002-8215-01</td>\n",
       "      <td>1983</td>\n",
       "      <td>6</td>\n",
       "      <td>311036</td>\n",
       "      <td>A10AC</td>\n",
       "    </tr>\n",
       "    <tr>\n",
       "      <th>2</th>\n",
       "      <td>00002821501</td>\n",
       "      <td>0</td>\n",
       "      <td>0002-8215-01</td>\n",
       "      <td>1983</td>\n",
       "      <td>6</td>\n",
       "      <td>311036</td>\n",
       "      <td>A10AD</td>\n",
       "    </tr>\n",
       "    <tr>\n",
       "      <th>3</th>\n",
       "      <td>00002821501</td>\n",
       "      <td>0</td>\n",
       "      <td>0002-8215-01</td>\n",
       "      <td>1983</td>\n",
       "      <td>6</td>\n",
       "      <td>311036</td>\n",
       "      <td>A10AE</td>\n",
       "    </tr>\n",
       "    <tr>\n",
       "      <th>4</th>\n",
       "      <td>00002821501</td>\n",
       "      <td>0</td>\n",
       "      <td>0002-8215-01</td>\n",
       "      <td>1983</td>\n",
       "      <td>6</td>\n",
       "      <td>311036</td>\n",
       "      <td>A10AF</td>\n",
       "    </tr>\n",
       "  </tbody>\n",
       "</table>\n",
       "</div>"
      ],
      "text/plain": [
       "           NDC variable      NDC_CODE  YEAR MONTH   RXCUI   ATC4\n",
       "0  00002821501        0  0002-8215-01  1983     6  311036  A10AB\n",
       "1  00002821501        0  0002-8215-01  1983     6  311036  A10AC\n",
       "2  00002821501        0  0002-8215-01  1983     6  311036  A10AD\n",
       "3  00002821501        0  0002-8215-01  1983     6  311036  A10AE\n",
       "4  00002821501        0  0002-8215-01  1983     6  311036  A10AF"
      ]
     },
     "execution_count": 40,
     "metadata": {},
     "output_type": "execute_result"
    }
   ],
   "source": [
    "## Join mimic_drugs_NDCs to drugbank_df(NDC - ATC4), Inner_join no null value will be generated for ATC\n",
    "mimic_drug_ATCs = aa.inner_join(mimic_drugs_NDCs, ndc2atc_df, 'NDC_CODE')\n",
    "mimic_drug_ATCs.head()"
   ]
  },
  {
   "cell_type": "code",
   "execution_count": 46,
   "metadata": {
    "code_folding": [
     0
    ]
   },
   "outputs": [],
   "source": [
    "## select columns of mimic_atc and write it into files\n",
    "mimic_atc_cols = ['NDC', 'NDC_CODE', 'ATC4']\n",
    "mimic_drug_ATCs = mimic_drug_ATCs[mimic_atc_cols]\n",
    "aa.write2file(mimic_drug_ATCs, 'mimic_ATCcode')"
   ]
  },
  {
   "cell_type": "markdown",
   "metadata": {},
   "source": [
    "###  ATC to drugbank_ID"
   ]
  },
  {
   "cell_type": "markdown",
   "metadata": {},
   "source": [
    "#### read drug atc-drugbank_id from drugbank.tsv"
   ]
  },
  {
   "cell_type": "code",
   "execution_count": 2,
   "metadata": {},
   "outputs": [],
   "source": [
    "drugbank_df = aa.read_data(filename='mapping/drugbank',sep='\\t',suffix='.tsv')"
   ]
  },
  {
   "cell_type": "code",
   "execution_count": 18,
   "metadata": {
    "code_folding": [
     0
    ]
   },
   "outputs": [
    {
     "data": {
      "text/html": [
       "<div>\n",
       "<style scoped>\n",
       "    .dataframe tbody tr th:only-of-type {\n",
       "        vertical-align: middle;\n",
       "    }\n",
       "\n",
       "    .dataframe tbody tr th {\n",
       "        vertical-align: top;\n",
       "    }\n",
       "\n",
       "    .dataframe thead th {\n",
       "        text-align: right;\n",
       "    }\n",
       "</style>\n",
       "<table border=\"1\" class=\"dataframe\">\n",
       "  <thead>\n",
       "    <tr style=\"text-align: right;\">\n",
       "      <th></th>\n",
       "      <th>drugbank_id</th>\n",
       "      <th>ATC4</th>\n",
       "    </tr>\n",
       "  </thead>\n",
       "  <tbody>\n",
       "    <tr>\n",
       "      <th>0</th>\n",
       "      <td>DB00001</td>\n",
       "      <td>B01AE</td>\n",
       "    </tr>\n",
       "    <tr>\n",
       "      <th>1</th>\n",
       "      <td>DB00002</td>\n",
       "      <td>L01XC</td>\n",
       "    </tr>\n",
       "    <tr>\n",
       "      <th>2</th>\n",
       "      <td>DB00003</td>\n",
       "      <td>R05CB</td>\n",
       "    </tr>\n",
       "    <tr>\n",
       "      <th>3</th>\n",
       "      <td>DB00004</td>\n",
       "      <td>L01XX</td>\n",
       "    </tr>\n",
       "    <tr>\n",
       "      <th>4</th>\n",
       "      <td>DB00005</td>\n",
       "      <td>L04AB</td>\n",
       "    </tr>\n",
       "  </tbody>\n",
       "</table>\n",
       "</div>"
      ],
      "text/plain": [
       "  drugbank_id   ATC4\n",
       "0     DB00001  B01AE\n",
       "1     DB00002  L01XC\n",
       "2     DB00003  R05CB\n",
       "3     DB00004  L01XX\n",
       "4     DB00005  L04AB"
      ]
     },
     "execution_count": 18,
     "metadata": {},
     "output_type": "execute_result"
    }
   ],
   "source": [
    "## drugbank: atc_codes -> ATC4\n",
    "drugbank_col = ['drugbank_id','atc_codes']\n",
    "drugbank_df = drugbank_df[drugbank_col]\n",
    "drugbank_df['ATC4'] = drugbank_df['atc_codes'].apply(lambda x: str(x)[:5])\n",
    "drugbank_df = drugbank_df[['drugbank_id','ATC4']].drop_duplicates()\n",
    "drugbank_df.head()"
   ]
  },
  {
   "cell_type": "code",
   "execution_count": 19,
   "metadata": {},
   "outputs": [
    {
     "data": {
      "text/html": [
       "<div>\n",
       "<style scoped>\n",
       "    .dataframe tbody tr th:only-of-type {\n",
       "        vertical-align: middle;\n",
       "    }\n",
       "\n",
       "    .dataframe tbody tr th {\n",
       "        vertical-align: top;\n",
       "    }\n",
       "\n",
       "    .dataframe thead th {\n",
       "        text-align: right;\n",
       "    }\n",
       "</style>\n",
       "<table border=\"1\" class=\"dataframe\">\n",
       "  <thead>\n",
       "    <tr style=\"text-align: right;\">\n",
       "      <th></th>\n",
       "      <th>NDC</th>\n",
       "      <th>NDC_CODE</th>\n",
       "      <th>ATC4</th>\n",
       "    </tr>\n",
       "  </thead>\n",
       "  <tbody>\n",
       "    <tr>\n",
       "      <th>0</th>\n",
       "      <td>00002821501</td>\n",
       "      <td>0002-8215-01</td>\n",
       "      <td>A10AB</td>\n",
       "    </tr>\n",
       "    <tr>\n",
       "      <th>1</th>\n",
       "      <td>00002821501</td>\n",
       "      <td>0002-8215-01</td>\n",
       "      <td>A10AC</td>\n",
       "    </tr>\n",
       "    <tr>\n",
       "      <th>2</th>\n",
       "      <td>00002821501</td>\n",
       "      <td>0002-8215-01</td>\n",
       "      <td>A10AD</td>\n",
       "    </tr>\n",
       "    <tr>\n",
       "      <th>3</th>\n",
       "      <td>00002821501</td>\n",
       "      <td>0002-8215-01</td>\n",
       "      <td>A10AE</td>\n",
       "    </tr>\n",
       "    <tr>\n",
       "      <th>4</th>\n",
       "      <td>00002821501</td>\n",
       "      <td>0002-8215-01</td>\n",
       "      <td>A10AF</td>\n",
       "    </tr>\n",
       "  </tbody>\n",
       "</table>\n",
       "</div>"
      ],
      "text/plain": [
       "           NDC      NDC_CODE   ATC4\n",
       "0  00002821501  0002-8215-01  A10AB\n",
       "1  00002821501  0002-8215-01  A10AC\n",
       "2  00002821501  0002-8215-01  A10AD\n",
       "3  00002821501  0002-8215-01  A10AE\n",
       "4  00002821501  0002-8215-01  A10AF"
      ]
     },
     "execution_count": 19,
     "metadata": {},
     "output_type": "execute_result"
    }
   ],
   "source": [
    "drug_mimic_atcs = pd.read_csv('/data/liu/adverse_events/mimic_ATCcode.csv',dtype={'NDC':str})\n",
    "drug_mimic_atcs.head()"
   ]
  },
  {
   "cell_type": "code",
   "execution_count": 20,
   "metadata": {},
   "outputs": [
    {
     "data": {
      "text/html": [
       "<div>\n",
       "<style scoped>\n",
       "    .dataframe tbody tr th:only-of-type {\n",
       "        vertical-align: middle;\n",
       "    }\n",
       "\n",
       "    .dataframe tbody tr th {\n",
       "        vertical-align: top;\n",
       "    }\n",
       "\n",
       "    .dataframe thead th {\n",
       "        text-align: right;\n",
       "    }\n",
       "</style>\n",
       "<table border=\"1\" class=\"dataframe\">\n",
       "  <thead>\n",
       "    <tr style=\"text-align: right;\">\n",
       "      <th></th>\n",
       "      <th>NDC</th>\n",
       "      <th>NDC_CODE</th>\n",
       "      <th>ATC4</th>\n",
       "      <th>drugbank_id</th>\n",
       "    </tr>\n",
       "  </thead>\n",
       "  <tbody>\n",
       "    <tr>\n",
       "      <th>0</th>\n",
       "      <td>00002821501</td>\n",
       "      <td>0002-8215-01</td>\n",
       "      <td>A10AB</td>\n",
       "      <td>DB00030</td>\n",
       "    </tr>\n",
       "    <tr>\n",
       "      <th>1</th>\n",
       "      <td>00002821501</td>\n",
       "      <td>0002-8215-01</td>\n",
       "      <td>A10AB</td>\n",
       "      <td>DB01309</td>\n",
       "    </tr>\n",
       "    <tr>\n",
       "      <th>2</th>\n",
       "      <td>00002850101</td>\n",
       "      <td>0002-8501-01</td>\n",
       "      <td>A10AB</td>\n",
       "      <td>DB00030</td>\n",
       "    </tr>\n",
       "    <tr>\n",
       "      <th>3</th>\n",
       "      <td>00002850101</td>\n",
       "      <td>0002-8501-01</td>\n",
       "      <td>A10AB</td>\n",
       "      <td>DB01309</td>\n",
       "    </tr>\n",
       "    <tr>\n",
       "      <th>4</th>\n",
       "      <td>00002871501</td>\n",
       "      <td>0002-8715-01</td>\n",
       "      <td>A10AB</td>\n",
       "      <td>DB00030</td>\n",
       "    </tr>\n",
       "  </tbody>\n",
       "</table>\n",
       "</div>"
      ],
      "text/plain": [
       "           NDC      NDC_CODE   ATC4 drugbank_id\n",
       "0  00002821501  0002-8215-01  A10AB     DB00030\n",
       "1  00002821501  0002-8215-01  A10AB     DB01309\n",
       "2  00002850101  0002-8501-01  A10AB     DB00030\n",
       "3  00002850101  0002-8501-01  A10AB     DB01309\n",
       "4  00002871501  0002-8715-01  A10AB     DB00030"
      ]
     },
     "execution_count": 20,
     "metadata": {},
     "output_type": "execute_result"
    }
   ],
   "source": [
    "drug_mimic_bankids = aa.inner_join(drug_mimic_atcs, drugbank_df, 'ATC4')\n",
    "drug_mimic_bankids.head()"
   ]
  },
  {
   "cell_type": "markdown",
   "metadata": {},
   "source": [
    "###  SIDER4 drugbank_ID -> Match MIMIC3 and SIDER4"
   ]
  },
  {
   "cell_type": "code",
   "execution_count": 12,
   "metadata": {
    "code_folding": []
   },
   "outputs": [
    {
     "data": {
      "text/html": [
       "<div>\n",
       "<style scoped>\n",
       "    .dataframe tbody tr th:only-of-type {\n",
       "        vertical-align: middle;\n",
       "    }\n",
       "\n",
       "    .dataframe tbody tr th {\n",
       "        vertical-align: top;\n",
       "    }\n",
       "\n",
       "    .dataframe thead th {\n",
       "        text-align: right;\n",
       "    }\n",
       "</style>\n",
       "<table border=\"1\" class=\"dataframe\">\n",
       "  <thead>\n",
       "    <tr style=\"text-align: right;\">\n",
       "      <th></th>\n",
       "      <th>drugbank_id</th>\n",
       "      <th>drugbank_name</th>\n",
       "      <th>umls_cui_from_meddra</th>\n",
       "      <th>side_effect_name</th>\n",
       "    </tr>\n",
       "  </thead>\n",
       "  <tbody>\n",
       "    <tr>\n",
       "      <th>0</th>\n",
       "      <td>DB07768</td>\n",
       "      <td>(10ALPHA,13ALPHA,14BETA,17ALPHA)-17-HYDROXYAND...</td>\n",
       "      <td>C0000729</td>\n",
       "      <td>Abdominal cramps</td>\n",
       "    </tr>\n",
       "    <tr>\n",
       "      <th>1</th>\n",
       "      <td>DB07768</td>\n",
       "      <td>(10ALPHA,13ALPHA,14BETA,17ALPHA)-17-HYDROXYAND...</td>\n",
       "      <td>C0000737</td>\n",
       "      <td>Abdominal pain</td>\n",
       "    </tr>\n",
       "    <tr>\n",
       "      <th>2</th>\n",
       "      <td>DB07768</td>\n",
       "      <td>(10ALPHA,13ALPHA,14BETA,17ALPHA)-17-HYDROXYAND...</td>\n",
       "      <td>C0232492</td>\n",
       "      <td>Abdominal pain upper</td>\n",
       "    </tr>\n",
       "    <tr>\n",
       "      <th>3</th>\n",
       "      <td>DB07768</td>\n",
       "      <td>(10ALPHA,13ALPHA,14BETA,17ALPHA)-17-HYDROXYAND...</td>\n",
       "      <td>C0740651</td>\n",
       "      <td>Abdominal symptom</td>\n",
       "    </tr>\n",
       "    <tr>\n",
       "      <th>4</th>\n",
       "      <td>DB07768</td>\n",
       "      <td>(10ALPHA,13ALPHA,14BETA,17ALPHA)-17-HYDROXYAND...</td>\n",
       "      <td>C0877331</td>\n",
       "      <td>Abnormal clotting factor</td>\n",
       "    </tr>\n",
       "  </tbody>\n",
       "</table>\n",
       "</div>"
      ],
      "text/plain": [
       "  drugbank_id                                      drugbank_name  \\\n",
       "0     DB07768  (10ALPHA,13ALPHA,14BETA,17ALPHA)-17-HYDROXYAND...   \n",
       "1     DB07768  (10ALPHA,13ALPHA,14BETA,17ALPHA)-17-HYDROXYAND...   \n",
       "2     DB07768  (10ALPHA,13ALPHA,14BETA,17ALPHA)-17-HYDROXYAND...   \n",
       "3     DB07768  (10ALPHA,13ALPHA,14BETA,17ALPHA)-17-HYDROXYAND...   \n",
       "4     DB07768  (10ALPHA,13ALPHA,14BETA,17ALPHA)-17-HYDROXYAND...   \n",
       "\n",
       "  umls_cui_from_meddra          side_effect_name  \n",
       "0             C0000729          Abdominal cramps  \n",
       "1             C0000737            Abdominal pain  \n",
       "2             C0232492      Abdominal pain upper  \n",
       "3             C0740651         Abdominal symptom  \n",
       "4             C0877331  Abnormal clotting factor  "
      ]
     },
     "execution_count": 12,
     "metadata": {},
     "output_type": "execute_result"
    }
   ],
   "source": [
    "## read data of  side effects\n",
    "side_effects = aa.read_data('SIDER4/side-effects',sep='\\t',suffix='.tsv',pre='/data/liu/adverse_events')\n",
    "side_effects.head()"
   ]
  },
  {
   "cell_type": "code",
   "execution_count": 28,
   "metadata": {
    "code_folding": [
     0
    ]
   },
   "outputs": [
    {
     "data": {
      "text/html": [
       "<div>\n",
       "<style scoped>\n",
       "    .dataframe tbody tr th:only-of-type {\n",
       "        vertical-align: middle;\n",
       "    }\n",
       "\n",
       "    .dataframe tbody tr th {\n",
       "        vertical-align: top;\n",
       "    }\n",
       "\n",
       "    .dataframe thead th {\n",
       "        text-align: right;\n",
       "    }\n",
       "</style>\n",
       "<table border=\"1\" class=\"dataframe\">\n",
       "  <thead>\n",
       "    <tr style=\"text-align: right;\">\n",
       "      <th></th>\n",
       "      <th>NDC</th>\n",
       "      <th>drugbank_id</th>\n",
       "      <th>umls_cui_from_meddra</th>\n",
       "    </tr>\n",
       "  </thead>\n",
       "  <tbody>\n",
       "    <tr>\n",
       "      <th>0</th>\n",
       "      <td>00003029305</td>\n",
       "      <td>DB00620</td>\n",
       "      <td>C0000731</td>\n",
       "    </tr>\n",
       "    <tr>\n",
       "      <th>1</th>\n",
       "      <td>00003029305</td>\n",
       "      <td>DB00620</td>\n",
       "      <td>C1302752</td>\n",
       "    </tr>\n",
       "    <tr>\n",
       "      <th>2</th>\n",
       "      <td>00003029305</td>\n",
       "      <td>DB00620</td>\n",
       "      <td>C0000833</td>\n",
       "    </tr>\n",
       "    <tr>\n",
       "      <th>3</th>\n",
       "      <td>00003029305</td>\n",
       "      <td>DB00620</td>\n",
       "      <td>C0702166</td>\n",
       "    </tr>\n",
       "    <tr>\n",
       "      <th>4</th>\n",
       "      <td>00003029305</td>\n",
       "      <td>DB00620</td>\n",
       "      <td>C0175167</td>\n",
       "    </tr>\n",
       "  </tbody>\n",
       "</table>\n",
       "</div>"
      ],
      "text/plain": [
       "           NDC drugbank_id umls_cui_from_meddra\n",
       "0  00003029305     DB00620             C0000731\n",
       "1  00003029305     DB00620             C1302752\n",
       "2  00003029305     DB00620             C0000833\n",
       "3  00003029305     DB00620             C0702166\n",
       "4  00003029305     DB00620             C0175167"
      ]
     },
     "execution_count": 28,
     "metadata": {},
     "output_type": "execute_result"
    }
   ],
   "source": [
    "ndc_side_effects = aa.inner_join(drug_mimic_bankids[['NDC','drugbank_id']],\n",
    "                                side_effects[['drugbank_id','umls_cui_from_meddra']],'drugbank_id')\n",
    "ndc_side_effects.head()"
   ]
  },
  {
   "cell_type": "code",
   "execution_count": 29,
   "metadata": {},
   "outputs": [],
   "source": [
    "aa.write2file(ndc_side_effects, \"ndc-side-effects\")"
   ]
  },
  {
   "cell_type": "markdown",
   "metadata": {},
   "source": [
    "## umls_cui - NOMED code - ICD9"
   ]
  },
  {
   "cell_type": "code",
   "execution_count": 3,
   "metadata": {},
   "outputs": [
    {
     "data": {
      "text/html": [
       "<div>\n",
       "<style scoped>\n",
       "    .dataframe tbody tr th:only-of-type {\n",
       "        vertical-align: middle;\n",
       "    }\n",
       "\n",
       "    .dataframe tbody tr th {\n",
       "        vertical-align: top;\n",
       "    }\n",
       "\n",
       "    .dataframe thead th {\n",
       "        text-align: right;\n",
       "    }\n",
       "</style>\n",
       "<table border=\"1\" class=\"dataframe\">\n",
       "  <thead>\n",
       "    <tr style=\"text-align: right;\">\n",
       "      <th></th>\n",
       "      <th>NDC</th>\n",
       "      <th>drugbank_id</th>\n",
       "      <th>umls_cui_from_meddra</th>\n",
       "    </tr>\n",
       "  </thead>\n",
       "  <tbody>\n",
       "    <tr>\n",
       "      <th>0</th>\n",
       "      <td>00003029305</td>\n",
       "      <td>DB00620</td>\n",
       "      <td>C0000731</td>\n",
       "    </tr>\n",
       "    <tr>\n",
       "      <th>1</th>\n",
       "      <td>00003029305</td>\n",
       "      <td>DB00620</td>\n",
       "      <td>C1302752</td>\n",
       "    </tr>\n",
       "    <tr>\n",
       "      <th>2</th>\n",
       "      <td>00003029305</td>\n",
       "      <td>DB00620</td>\n",
       "      <td>C0000833</td>\n",
       "    </tr>\n",
       "    <tr>\n",
       "      <th>3</th>\n",
       "      <td>00003029305</td>\n",
       "      <td>DB00620</td>\n",
       "      <td>C0702166</td>\n",
       "    </tr>\n",
       "    <tr>\n",
       "      <th>4</th>\n",
       "      <td>00003029305</td>\n",
       "      <td>DB00620</td>\n",
       "      <td>C0175167</td>\n",
       "    </tr>\n",
       "  </tbody>\n",
       "</table>\n",
       "</div>"
      ],
      "text/plain": [
       "           NDC drugbank_id umls_cui_from_meddra\n",
       "0  00003029305     DB00620             C0000731\n",
       "1  00003029305     DB00620             C1302752\n",
       "2  00003029305     DB00620             C0000833\n",
       "3  00003029305     DB00620             C0702166\n",
       "4  00003029305     DB00620             C0175167"
      ]
     },
     "execution_count": 3,
     "metadata": {},
     "output_type": "execute_result"
    }
   ],
   "source": [
    "ndc_side_effects = pd.read_csv('/data/liu/adverse_events/ndc-side-effects.csv',dtype={'NDC':str})\n",
    "ndc_side_effects.head()"
   ]
  },
  {
   "cell_type": "code",
   "execution_count": 4,
   "metadata": {},
   "outputs": [
    {
     "data": {
      "text/html": [
       "<div>\n",
       "<style scoped>\n",
       "    .dataframe tbody tr th:only-of-type {\n",
       "        vertical-align: middle;\n",
       "    }\n",
       "\n",
       "    .dataframe tbody tr th {\n",
       "        vertical-align: top;\n",
       "    }\n",
       "\n",
       "    .dataframe thead th {\n",
       "        text-align: right;\n",
       "    }\n",
       "</style>\n",
       "<table border=\"1\" class=\"dataframe\">\n",
       "  <thead>\n",
       "    <tr style=\"text-align: right;\">\n",
       "      <th></th>\n",
       "      <th>ROW_ID</th>\n",
       "      <th>ICD9_CODE</th>\n",
       "      <th>SHORT_TITLE</th>\n",
       "      <th>LONG_TITLE</th>\n",
       "    </tr>\n",
       "  </thead>\n",
       "  <tbody>\n",
       "    <tr>\n",
       "      <th>0</th>\n",
       "      <td>174</td>\n",
       "      <td>01166</td>\n",
       "      <td>TB pneumonia-oth test</td>\n",
       "      <td>Tuberculous pneumonia [any form], tubercle bac...</td>\n",
       "    </tr>\n",
       "    <tr>\n",
       "      <th>1</th>\n",
       "      <td>175</td>\n",
       "      <td>01170</td>\n",
       "      <td>TB pneumothorax-unspec</td>\n",
       "      <td>Tuberculous pneumothorax, unspecified</td>\n",
       "    </tr>\n",
       "    <tr>\n",
       "      <th>2</th>\n",
       "      <td>176</td>\n",
       "      <td>01171</td>\n",
       "      <td>TB pneumothorax-no exam</td>\n",
       "      <td>Tuberculous pneumothorax, bacteriological or h...</td>\n",
       "    </tr>\n",
       "    <tr>\n",
       "      <th>3</th>\n",
       "      <td>177</td>\n",
       "      <td>01172</td>\n",
       "      <td>TB pneumothorx-exam unkn</td>\n",
       "      <td>Tuberculous pneumothorax, bacteriological or h...</td>\n",
       "    </tr>\n",
       "    <tr>\n",
       "      <th>4</th>\n",
       "      <td>178</td>\n",
       "      <td>01173</td>\n",
       "      <td>TB pneumothorax-micro dx</td>\n",
       "      <td>Tuberculous pneumothorax, tubercle bacilli fou...</td>\n",
       "    </tr>\n",
       "  </tbody>\n",
       "</table>\n",
       "</div>"
      ],
      "text/plain": [
       "   ROW_ID ICD9_CODE               SHORT_TITLE  \\\n",
       "0     174     01166     TB pneumonia-oth test   \n",
       "1     175     01170    TB pneumothorax-unspec   \n",
       "2     176     01171   TB pneumothorax-no exam   \n",
       "3     177     01172  TB pneumothorx-exam unkn   \n",
       "4     178     01173  TB pneumothorax-micro dx   \n",
       "\n",
       "                                          LONG_TITLE  \n",
       "0  Tuberculous pneumonia [any form], tubercle bac...  \n",
       "1              Tuberculous pneumothorax, unspecified  \n",
       "2  Tuberculous pneumothorax, bacteriological or h...  \n",
       "3  Tuberculous pneumothorax, bacteriological or h...  \n",
       "4  Tuberculous pneumothorax, tubercle bacilli fou...  "
      ]
     },
     "execution_count": 4,
     "metadata": {},
     "output_type": "execute_result"
    }
   ],
   "source": [
    "diagnosis_df = aa.read_data('D_ICD_DIAGNOSES',pre='/data/MIMIC3')\n",
    "diagnosis_df.head()"
   ]
  },
  {
   "cell_type": "code",
   "execution_count": 11,
   "metadata": {},
   "outputs": [
    {
     "data": {
      "text/html": [
       "<div>\n",
       "<style scoped>\n",
       "    .dataframe tbody tr th:only-of-type {\n",
       "        vertical-align: middle;\n",
       "    }\n",
       "\n",
       "    .dataframe tbody tr th {\n",
       "        vertical-align: top;\n",
       "    }\n",
       "\n",
       "    .dataframe thead th {\n",
       "        text-align: right;\n",
       "    }\n",
       "</style>\n",
       "<table border=\"1\" class=\"dataframe\">\n",
       "  <thead>\n",
       "    <tr style=\"text-align: right;\">\n",
       "      <th></th>\n",
       "      <th>ICD_CODE</th>\n",
       "      <th>ICD_NAME</th>\n",
       "      <th>IS_CURRENT_ICD</th>\n",
       "      <th>IP_USAGE</th>\n",
       "      <th>OP_USAGE</th>\n",
       "      <th>AVG_USAGE</th>\n",
       "      <th>IS_NEC</th>\n",
       "      <th>SNOMED_CID</th>\n",
       "      <th>SNOMED_FSN</th>\n",
       "      <th>IS_1-1MAP</th>\n",
       "      <th>CORE_USAGE</th>\n",
       "      <th>IN_CORE</th>\n",
       "    </tr>\n",
       "  </thead>\n",
       "  <tbody>\n",
       "    <tr>\n",
       "      <th>0</th>\n",
       "      <td>427.31</td>\n",
       "      <td>Atrial fibrillation</td>\n",
       "      <td>1</td>\n",
       "      <td>1.89778</td>\n",
       "      <td>3.20644</td>\n",
       "      <td>2.55211</td>\n",
       "      <td>0</td>\n",
       "      <td>49436004</td>\n",
       "      <td>Atrial fibrillation (disorder)</td>\n",
       "      <td>1</td>\n",
       "      <td>0.499</td>\n",
       "      <td>1</td>\n",
       "    </tr>\n",
       "  </tbody>\n",
       "</table>\n",
       "</div>"
      ],
      "text/plain": [
       "  ICD_CODE             ICD_NAME  IS_CURRENT_ICD  IP_USAGE  OP_USAGE  \\\n",
       "0   427.31  Atrial fibrillation               1   1.89778   3.20644   \n",
       "\n",
       "   AVG_USAGE  IS_NEC SNOMED_CID                      SNOMED_FSN  IS_1-1MAP  \\\n",
       "0    2.55211       0   49436004  Atrial fibrillation (disorder)          1   \n",
       "\n",
       "   CORE_USAGE  IN_CORE  \n",
       "0       0.499        1  "
      ]
     },
     "execution_count": 11,
     "metadata": {},
     "output_type": "execute_result"
    }
   ],
   "source": [
    "icd9_SNOMED =pd.read_csv('/data/liu/adverse_events/mapping/ICD9CM_SNOMED_MAP_1TO1_201812.txt'\n",
    "                         ,sep='\\t', dtype={'ICD9_CODE':str, 'SNOMED_CID':str})\n",
    "icd9_SNOMED[:1]"
   ]
  },
  {
   "cell_type": "code",
   "execution_count": 18,
   "metadata": {},
   "outputs": [
    {
     "data": {
      "text/html": [
       "<div>\n",
       "<style scoped>\n",
       "    .dataframe tbody tr th:only-of-type {\n",
       "        vertical-align: middle;\n",
       "    }\n",
       "\n",
       "    .dataframe tbody tr th {\n",
       "        vertical-align: top;\n",
       "    }\n",
       "\n",
       "    .dataframe thead th {\n",
       "        text-align: right;\n",
       "    }\n",
       "</style>\n",
       "<table border=\"1\" class=\"dataframe\">\n",
       "  <thead>\n",
       "    <tr style=\"text-align: right;\">\n",
       "      <th></th>\n",
       "      <th>ICD_CODE</th>\n",
       "      <th>SNOMED_CID</th>\n",
       "      <th>ICD9_CODE</th>\n",
       "    </tr>\n",
       "  </thead>\n",
       "  <tbody>\n",
       "    <tr>\n",
       "      <th>0</th>\n",
       "      <td>427.31</td>\n",
       "      <td>49436004</td>\n",
       "      <td>42731</td>\n",
       "    </tr>\n",
       "    <tr>\n",
       "      <th>1</th>\n",
       "      <td>599.0</td>\n",
       "      <td>68566005</td>\n",
       "      <td>5990</td>\n",
       "    </tr>\n",
       "    <tr>\n",
       "      <th>2</th>\n",
       "      <td>486</td>\n",
       "      <td>233604007</td>\n",
       "      <td>486</td>\n",
       "    </tr>\n",
       "    <tr>\n",
       "      <th>3</th>\n",
       "      <td>585.6</td>\n",
       "      <td>46177005</td>\n",
       "      <td>5856</td>\n",
       "    </tr>\n",
       "    <tr>\n",
       "      <th>4</th>\n",
       "      <td>414.01</td>\n",
       "      <td>1641000119107</td>\n",
       "      <td>41401</td>\n",
       "    </tr>\n",
       "  </tbody>\n",
       "</table>\n",
       "</div>"
      ],
      "text/plain": [
       "  ICD_CODE     SNOMED_CID ICD9_CODE\n",
       "0   427.31       49436004     42731\n",
       "1    599.0       68566005      5990\n",
       "2      486      233604007       486\n",
       "3    585.6       46177005      5856\n",
       "4   414.01  1641000119107     41401"
      ]
     },
     "execution_count": 18,
     "metadata": {},
     "output_type": "execute_result"
    }
   ],
   "source": [
    "icd9_SNOMED = icd9_SNOMED[['ICD_CODE','SNOMED_CID']]\n",
    "icd9_SNOMED['ICD9_CODE']=icd9_SNOMED['ICD_CODE'].apply(lambda x: str(x).replace('.',''))\n",
    "icd9_SNOMED.head()"
   ]
  },
  {
   "cell_type": "code",
   "execution_count": 15,
   "metadata": {},
   "outputs": [
    {
     "data": {
      "text/html": [
       "<div>\n",
       "<style scoped>\n",
       "    .dataframe tbody tr th:only-of-type {\n",
       "        vertical-align: middle;\n",
       "    }\n",
       "\n",
       "    .dataframe tbody tr th {\n",
       "        vertical-align: top;\n",
       "    }\n",
       "\n",
       "    .dataframe thead th {\n",
       "        text-align: right;\n",
       "    }\n",
       "</style>\n",
       "<table border=\"1\" class=\"dataframe\">\n",
       "  <thead>\n",
       "    <tr style=\"text-align: right;\">\n",
       "      <th></th>\n",
       "      <th>SNOMED_CID</th>\n",
       "      <th>SNOMED_FSN</th>\n",
       "      <th>SNOMED_CONCEPT_STATUS</th>\n",
       "      <th>UMLS_CUI</th>\n",
       "      <th>OCCURRENCE</th>\n",
       "      <th>USAGE</th>\n",
       "      <th>FIRST_IN_SUBSET</th>\n",
       "      <th>IS_RETIRED_FROM_SUBSET</th>\n",
       "      <th>LAST_IN_SUBSET</th>\n",
       "      <th>REPLACED_BY_SNOMED_CID</th>\n",
       "    </tr>\n",
       "  </thead>\n",
       "  <tbody>\n",
       "    <tr>\n",
       "      <th>0</th>\n",
       "      <td>38341003</td>\n",
       "      <td>Hypertensive disorder, systemic arterial (diso...</td>\n",
       "      <td>Current</td>\n",
       "      <td>C0020538</td>\n",
       "      <td>8.0</td>\n",
       "      <td>3.2242</td>\n",
       "      <td>200907</td>\n",
       "      <td>False</td>\n",
       "      <td>NaN</td>\n",
       "      <td>NaN</td>\n",
       "    </tr>\n",
       "  </tbody>\n",
       "</table>\n",
       "</div>"
      ],
      "text/plain": [
       "  SNOMED_CID                                         SNOMED_FSN  \\\n",
       "0   38341003  Hypertensive disorder, systemic arterial (diso...   \n",
       "\n",
       "  SNOMED_CONCEPT_STATUS  UMLS_CUI  OCCURRENCE   USAGE  FIRST_IN_SUBSET  \\\n",
       "0               Current  C0020538         8.0  3.2242           200907   \n",
       "\n",
       "   IS_RETIRED_FROM_SUBSET  LAST_IN_SUBSET REPLACED_BY_SNOMED_CID  \n",
       "0                   False             NaN                    NaN  "
      ]
     },
     "execution_count": 15,
     "metadata": {},
     "output_type": "execute_result"
    }
   ],
   "source": [
    "cui_SNOMED =pd.read_csv('/data/liu/adverse_events/mapping/SNOMEDCT_CORE_SUBSET_201901.txt'\n",
    "                        ,sep='|', dtype={'SNOMED_CID':str})\n",
    "cui_SNOMED[:1]"
   ]
  },
  {
   "cell_type": "code",
   "execution_count": 17,
   "metadata": {},
   "outputs": [
    {
     "data": {
      "text/html": [
       "<div>\n",
       "<style scoped>\n",
       "    .dataframe tbody tr th:only-of-type {\n",
       "        vertical-align: middle;\n",
       "    }\n",
       "\n",
       "    .dataframe tbody tr th {\n",
       "        vertical-align: top;\n",
       "    }\n",
       "\n",
       "    .dataframe thead th {\n",
       "        text-align: right;\n",
       "    }\n",
       "</style>\n",
       "<table border=\"1\" class=\"dataframe\">\n",
       "  <thead>\n",
       "    <tr style=\"text-align: right;\">\n",
       "      <th></th>\n",
       "      <th>SNOMED_CID</th>\n",
       "      <th>UMLS_CUI</th>\n",
       "    </tr>\n",
       "  </thead>\n",
       "  <tbody>\n",
       "    <tr>\n",
       "      <th>0</th>\n",
       "      <td>38341003</td>\n",
       "      <td>C0020538</td>\n",
       "    </tr>\n",
       "  </tbody>\n",
       "</table>\n",
       "</div>"
      ],
      "text/plain": [
       "  SNOMED_CID  UMLS_CUI\n",
       "0   38341003  C0020538"
      ]
     },
     "execution_count": 17,
     "metadata": {},
     "output_type": "execute_result"
    }
   ],
   "source": [
    "cui_SNOMED=cui_SNOMED[['SNOMED_CID','UMLS_CUI']]\n",
    "cui_SNOMED[:1]"
   ]
  },
  {
   "cell_type": "code",
   "execution_count": 19,
   "metadata": {},
   "outputs": [
    {
     "data": {
      "text/html": [
       "<div>\n",
       "<style scoped>\n",
       "    .dataframe tbody tr th:only-of-type {\n",
       "        vertical-align: middle;\n",
       "    }\n",
       "\n",
       "    .dataframe tbody tr th {\n",
       "        vertical-align: top;\n",
       "    }\n",
       "\n",
       "    .dataframe thead th {\n",
       "        text-align: right;\n",
       "    }\n",
       "</style>\n",
       "<table border=\"1\" class=\"dataframe\">\n",
       "  <thead>\n",
       "    <tr style=\"text-align: right;\">\n",
       "      <th></th>\n",
       "      <th>ICD_CODE</th>\n",
       "      <th>SNOMED_CID</th>\n",
       "      <th>ICD9_CODE</th>\n",
       "      <th>UMLS_CUI</th>\n",
       "    </tr>\n",
       "  </thead>\n",
       "  <tbody>\n",
       "    <tr>\n",
       "      <th>0</th>\n",
       "      <td>427.31</td>\n",
       "      <td>49436004</td>\n",
       "      <td>42731</td>\n",
       "      <td>C0004238</td>\n",
       "    </tr>\n",
       "  </tbody>\n",
       "</table>\n",
       "</div>"
      ],
      "text/plain": [
       "  ICD_CODE SNOMED_CID ICD9_CODE  UMLS_CUI\n",
       "0   427.31   49436004     42731  C0004238"
      ]
     },
     "execution_count": 19,
     "metadata": {},
     "output_type": "execute_result"
    }
   ],
   "source": [
    "icd9_cui = aa.inner_join(icd9_SNOMED, cui_SNOMED,'SNOMED_CID')\n",
    "icd9_cui[:1]"
   ]
  },
  {
   "cell_type": "code",
   "execution_count": 21,
   "metadata": {},
   "outputs": [
    {
     "data": {
      "text/html": [
       "<div>\n",
       "<style scoped>\n",
       "    .dataframe tbody tr th:only-of-type {\n",
       "        vertical-align: middle;\n",
       "    }\n",
       "\n",
       "    .dataframe tbody tr th {\n",
       "        vertical-align: top;\n",
       "    }\n",
       "\n",
       "    .dataframe thead th {\n",
       "        text-align: right;\n",
       "    }\n",
       "</style>\n",
       "<table border=\"1\" class=\"dataframe\">\n",
       "  <thead>\n",
       "    <tr style=\"text-align: right;\">\n",
       "      <th></th>\n",
       "      <th>NDC</th>\n",
       "      <th>drugbank_id</th>\n",
       "      <th>umls_cui_from_meddra</th>\n",
       "    </tr>\n",
       "  </thead>\n",
       "  <tbody>\n",
       "    <tr>\n",
       "      <th>0</th>\n",
       "      <td>00003029305</td>\n",
       "      <td>DB00620</td>\n",
       "      <td>C0000731</td>\n",
       "    </tr>\n",
       "    <tr>\n",
       "      <th>1</th>\n",
       "      <td>00003029305</td>\n",
       "      <td>DB00620</td>\n",
       "      <td>C1302752</td>\n",
       "    </tr>\n",
       "    <tr>\n",
       "      <th>2</th>\n",
       "      <td>00003029305</td>\n",
       "      <td>DB00620</td>\n",
       "      <td>C0000833</td>\n",
       "    </tr>\n",
       "    <tr>\n",
       "      <th>3</th>\n",
       "      <td>00003029305</td>\n",
       "      <td>DB00620</td>\n",
       "      <td>C0702166</td>\n",
       "    </tr>\n",
       "    <tr>\n",
       "      <th>4</th>\n",
       "      <td>00003029305</td>\n",
       "      <td>DB00620</td>\n",
       "      <td>C0175167</td>\n",
       "    </tr>\n",
       "  </tbody>\n",
       "</table>\n",
       "</div>"
      ],
      "text/plain": [
       "           NDC drugbank_id umls_cui_from_meddra\n",
       "0  00003029305     DB00620             C0000731\n",
       "1  00003029305     DB00620             C1302752\n",
       "2  00003029305     DB00620             C0000833\n",
       "3  00003029305     DB00620             C0702166\n",
       "4  00003029305     DB00620             C0175167"
      ]
     },
     "execution_count": 21,
     "metadata": {},
     "output_type": "execute_result"
    }
   ],
   "source": [
    "ndc_side_effects = pd.read_csv('/data/liu/adverse_events/ndc-side-effects.csv',\n",
    "                              dtype={'NDC':str})\n",
    "ndc_side_effects.head()"
   ]
  },
  {
   "cell_type": "code",
   "execution_count": 22,
   "metadata": {},
   "outputs": [
    {
     "data": {
      "text/plain": [
       "Index(['NDC', 'drugbank_id', 'UMLS_CUI'], dtype='object')"
      ]
     },
     "execution_count": 22,
     "metadata": {},
     "output_type": "execute_result"
    }
   ],
   "source": [
    "ndc_side_effects = ndc_side_effects.rename(columns={'umls_cui_from_meddra':'UMLS_CUI'})\n",
    "ndc_side_effects.columns"
   ]
  },
  {
   "cell_type": "code",
   "execution_count": 23,
   "metadata": {},
   "outputs": [
    {
     "data": {
      "text/html": [
       "<div>\n",
       "<style scoped>\n",
       "    .dataframe tbody tr th:only-of-type {\n",
       "        vertical-align: middle;\n",
       "    }\n",
       "\n",
       "    .dataframe tbody tr th {\n",
       "        vertical-align: top;\n",
       "    }\n",
       "\n",
       "    .dataframe thead th {\n",
       "        text-align: right;\n",
       "    }\n",
       "</style>\n",
       "<table border=\"1\" class=\"dataframe\">\n",
       "  <thead>\n",
       "    <tr style=\"text-align: right;\">\n",
       "      <th></th>\n",
       "      <th>NDC</th>\n",
       "      <th>drugbank_id</th>\n",
       "      <th>UMLS_CUI</th>\n",
       "      <th>ICD_CODE</th>\n",
       "      <th>SNOMED_CID</th>\n",
       "      <th>ICD9_CODE</th>\n",
       "    </tr>\n",
       "  </thead>\n",
       "  <tbody>\n",
       "    <tr>\n",
       "      <th>0</th>\n",
       "      <td>00003029305</td>\n",
       "      <td>DB00620</td>\n",
       "      <td>C1302752</td>\n",
       "      <td>521.20</td>\n",
       "      <td>399963005</td>\n",
       "      <td>52120</td>\n",
       "    </tr>\n",
       "    <tr>\n",
       "      <th>1</th>\n",
       "      <td>00003049420</td>\n",
       "      <td>DB00620</td>\n",
       "      <td>C1302752</td>\n",
       "      <td>521.20</td>\n",
       "      <td>399963005</td>\n",
       "      <td>52120</td>\n",
       "    </tr>\n",
       "    <tr>\n",
       "      <th>2</th>\n",
       "      <td>00009001104</td>\n",
       "      <td>DB00620</td>\n",
       "      <td>C1302752</td>\n",
       "      <td>521.20</td>\n",
       "      <td>399963005</td>\n",
       "      <td>52120</td>\n",
       "    </tr>\n",
       "    <tr>\n",
       "      <th>3</th>\n",
       "      <td>00009001201</td>\n",
       "      <td>DB00620</td>\n",
       "      <td>C1302752</td>\n",
       "      <td>521.20</td>\n",
       "      <td>399963005</td>\n",
       "      <td>52120</td>\n",
       "    </tr>\n",
       "    <tr>\n",
       "      <th>4</th>\n",
       "      <td>00009003101</td>\n",
       "      <td>DB00620</td>\n",
       "      <td>C1302752</td>\n",
       "      <td>521.20</td>\n",
       "      <td>399963005</td>\n",
       "      <td>52120</td>\n",
       "    </tr>\n",
       "  </tbody>\n",
       "</table>\n",
       "</div>"
      ],
      "text/plain": [
       "           NDC drugbank_id  UMLS_CUI ICD_CODE SNOMED_CID ICD9_CODE\n",
       "0  00003029305     DB00620  C1302752   521.20  399963005     52120\n",
       "1  00003049420     DB00620  C1302752   521.20  399963005     52120\n",
       "2  00009001104     DB00620  C1302752   521.20  399963005     52120\n",
       "3  00009001201     DB00620  C1302752   521.20  399963005     52120\n",
       "4  00009003101     DB00620  C1302752   521.20  399963005     52120"
      ]
     },
     "execution_count": 23,
     "metadata": {},
     "output_type": "execute_result"
    }
   ],
   "source": [
    "ndc_idc9_side_effects = aa.inner_join(ndc_side_effects, icd9_cui, 'UMLS_CUI')\n",
    "ndc_idc9_side_effects.head()"
   ]
  },
  {
   "cell_type": "code",
   "execution_count": 24,
   "metadata": {},
   "outputs": [],
   "source": [
    "aa.write2file(ndc_idc9_side_effects, 'ndc_idc9_side_effects')"
   ]
  },
  {
   "cell_type": "markdown",
   "metadata": {},
   "source": [
    "## Match to side effects in mimic3"
   ]
  },
  {
   "cell_type": "code",
   "execution_count": 2,
   "metadata": {},
   "outputs": [
    {
     "name": "stderr",
     "output_type": "stream",
     "text": [
      "/home/liu/anaconda3/lib/python3.7/site-packages/IPython/core/interactiveshell.py:3020: DtypeWarning: Columns (5) have mixed types. Specify dtype option on import or set low_memory=False.\n",
      "  interactivity=interactivity, compiler=compiler, result=result)\n"
     ]
    },
    {
     "data": {
      "text/html": [
       "<div>\n",
       "<style scoped>\n",
       "    .dataframe tbody tr th:only-of-type {\n",
       "        vertical-align: middle;\n",
       "    }\n",
       "\n",
       "    .dataframe tbody tr th {\n",
       "        vertical-align: top;\n",
       "    }\n",
       "\n",
       "    .dataframe thead th {\n",
       "        text-align: right;\n",
       "    }\n",
       "</style>\n",
       "<table border=\"1\" class=\"dataframe\">\n",
       "  <thead>\n",
       "    <tr style=\"text-align: right;\">\n",
       "      <th></th>\n",
       "      <th>NDC</th>\n",
       "      <th>ICD9_CODE</th>\n",
       "    </tr>\n",
       "  </thead>\n",
       "  <tbody>\n",
       "    <tr>\n",
       "      <th>0</th>\n",
       "      <td>00003029305</td>\n",
       "      <td>52120</td>\n",
       "    </tr>\n",
       "    <tr>\n",
       "      <th>1</th>\n",
       "      <td>00003049420</td>\n",
       "      <td>52120</td>\n",
       "    </tr>\n",
       "    <tr>\n",
       "      <th>2</th>\n",
       "      <td>00009001104</td>\n",
       "      <td>52120</td>\n",
       "    </tr>\n",
       "    <tr>\n",
       "      <th>3</th>\n",
       "      <td>00009001201</td>\n",
       "      <td>52120</td>\n",
       "    </tr>\n",
       "    <tr>\n",
       "      <th>4</th>\n",
       "      <td>00009003101</td>\n",
       "      <td>52120</td>\n",
       "    </tr>\n",
       "  </tbody>\n",
       "</table>\n",
       "</div>"
      ],
      "text/plain": [
       "           NDC ICD9_CODE\n",
       "0  00003029305     52120\n",
       "1  00003049420     52120\n",
       "2  00009001104     52120\n",
       "3  00009001201     52120\n",
       "4  00009003101     52120"
      ]
     },
     "execution_count": 2,
     "metadata": {},
     "output_type": "execute_result"
    }
   ],
   "source": [
    "sider_code = pd.read_csv('/data/liu/adverse_events/ndc_idc9_side_effects.csv',dtype={'NDC':str,'ICD_CODE':str})\n",
    "sider_code = sider_code[['NDC','ICD9_CODE']].drop_duplicates()\n",
    "sider_code.head()"
   ]
  },
  {
   "cell_type": "code",
   "execution_count": 3,
   "metadata": {},
   "outputs": [
    {
     "name": "stderr",
     "output_type": "stream",
     "text": [
      "/home/liu/anaconda3/lib/python3.7/site-packages/IPython/core/interactiveshell.py:3020: DtypeWarning: Columns (11) have mixed types. Specify dtype option on import or set low_memory=False.\n",
      "  interactivity=interactivity, compiler=compiler, result=result)\n"
     ]
    },
    {
     "data": {
      "text/html": [
       "<div>\n",
       "<style scoped>\n",
       "    .dataframe tbody tr th:only-of-type {\n",
       "        vertical-align: middle;\n",
       "    }\n",
       "\n",
       "    .dataframe tbody tr th {\n",
       "        vertical-align: top;\n",
       "    }\n",
       "\n",
       "    .dataframe thead th {\n",
       "        text-align: right;\n",
       "    }\n",
       "</style>\n",
       "<table border=\"1\" class=\"dataframe\">\n",
       "  <thead>\n",
       "    <tr style=\"text-align: right;\">\n",
       "      <th></th>\n",
       "      <th>SUBJECT_ID</th>\n",
       "      <th>NDC</th>\n",
       "      <th>DRUG</th>\n",
       "    </tr>\n",
       "  </thead>\n",
       "  <tbody>\n",
       "    <tr>\n",
       "      <th>0</th>\n",
       "      <td>6</td>\n",
       "      <td>00469061711</td>\n",
       "      <td>Tacrolimus</td>\n",
       "    </tr>\n",
       "    <tr>\n",
       "      <th>1</th>\n",
       "      <td>6</td>\n",
       "      <td>00056017275</td>\n",
       "      <td>Warfarin</td>\n",
       "    </tr>\n",
       "    <tr>\n",
       "      <th>2</th>\n",
       "      <td>6</td>\n",
       "      <td>00338055002</td>\n",
       "      <td>Heparin Sodium</td>\n",
       "    </tr>\n",
       "    <tr>\n",
       "      <th>3</th>\n",
       "      <td>6</td>\n",
       "      <td>0</td>\n",
       "      <td>D5W</td>\n",
       "    </tr>\n",
       "    <tr>\n",
       "      <th>4</th>\n",
       "      <td>6</td>\n",
       "      <td>00054829725</td>\n",
       "      <td>Furosemide</td>\n",
       "    </tr>\n",
       "  </tbody>\n",
       "</table>\n",
       "</div>"
      ],
      "text/plain": [
       "   SUBJECT_ID          NDC            DRUG\n",
       "0           6  00469061711      Tacrolimus\n",
       "1           6  00056017275        Warfarin\n",
       "2           6  00338055002  Heparin Sodium\n",
       "3           6            0             D5W\n",
       "4           6  00054829725      Furosemide"
      ]
     },
     "execution_count": 3,
     "metadata": {},
     "output_type": "execute_result"
    }
   ],
   "source": [
    "prescriptions = pd.read_csv('/data/MIMIC3/PRESCRIPTIONS.csv',dtype={'NDC':str})\n",
    "prescriptions = prescriptions[['SUBJECT_ID','NDC','DRUG']].drop_duplicates()\n",
    "prescriptions.head()"
   ]
  },
  {
   "cell_type": "code",
   "execution_count": 5,
   "metadata": {},
   "outputs": [
    {
     "data": {
      "text/html": [
       "<div>\n",
       "<style scoped>\n",
       "    .dataframe tbody tr th:only-of-type {\n",
       "        vertical-align: middle;\n",
       "    }\n",
       "\n",
       "    .dataframe tbody tr th {\n",
       "        vertical-align: top;\n",
       "    }\n",
       "\n",
       "    .dataframe thead th {\n",
       "        text-align: right;\n",
       "    }\n",
       "</style>\n",
       "<table border=\"1\" class=\"dataframe\">\n",
       "  <thead>\n",
       "    <tr style=\"text-align: right;\">\n",
       "      <th></th>\n",
       "      <th>SUBJECT_ID</th>\n",
       "      <th>NDC</th>\n",
       "      <th>DRUG</th>\n",
       "      <th>ICD9_CODE</th>\n",
       "    </tr>\n",
       "  </thead>\n",
       "  <tbody>\n",
       "    <tr>\n",
       "      <th>0</th>\n",
       "      <td>6</td>\n",
       "      <td>00469061711</td>\n",
       "      <td>Tacrolimus</td>\n",
       "      <td>71690</td>\n",
       "    </tr>\n",
       "    <tr>\n",
       "      <th>1</th>\n",
       "      <td>6</td>\n",
       "      <td>00469061711</td>\n",
       "      <td>Tacrolimus</td>\n",
       "      <td>71990</td>\n",
       "    </tr>\n",
       "    <tr>\n",
       "      <th>2</th>\n",
       "      <td>6</td>\n",
       "      <td>00469061711</td>\n",
       "      <td>Tacrolimus</td>\n",
       "      <td>7993</td>\n",
       "    </tr>\n",
       "    <tr>\n",
       "      <th>3</th>\n",
       "      <td>6</td>\n",
       "      <td>00469061711</td>\n",
       "      <td>Tacrolimus</td>\n",
       "      <td>7245</td>\n",
       "    </tr>\n",
       "    <tr>\n",
       "      <th>4</th>\n",
       "      <td>6</td>\n",
       "      <td>00469061711</td>\n",
       "      <td>Tacrolimus</td>\n",
       "      <td>3482</td>\n",
       "    </tr>\n",
       "  </tbody>\n",
       "</table>\n",
       "</div>"
      ],
      "text/plain": [
       "   SUBJECT_ID          NDC        DRUG ICD9_CODE\n",
       "0           6  00469061711  Tacrolimus     71690\n",
       "1           6  00469061711  Tacrolimus     71990\n",
       "2           6  00469061711  Tacrolimus      7993\n",
       "3           6  00469061711  Tacrolimus      7245\n",
       "4           6  00469061711  Tacrolimus      3482"
      ]
     },
     "execution_count": 5,
     "metadata": {},
     "output_type": "execute_result"
    }
   ],
   "source": [
    "sider_pres = aa.inner_join(prescriptions,sider_code,'NDC')\n",
    "aa.write2file(sider_pres, 'pres_sider')\n",
    "sider_pres.head()"
   ]
  },
  {
   "cell_type": "code",
   "execution_count": 6,
   "metadata": {
    "code_folding": [
     0
    ]
   },
   "outputs": [
    {
     "data": {
      "text/html": [
       "<div>\n",
       "<style scoped>\n",
       "    .dataframe tbody tr th:only-of-type {\n",
       "        vertical-align: middle;\n",
       "    }\n",
       "\n",
       "    .dataframe tbody tr th {\n",
       "        vertical-align: top;\n",
       "    }\n",
       "\n",
       "    .dataframe thead th {\n",
       "        text-align: right;\n",
       "    }\n",
       "</style>\n",
       "<table border=\"1\" class=\"dataframe\">\n",
       "  <thead>\n",
       "    <tr style=\"text-align: right;\">\n",
       "      <th></th>\n",
       "      <th>SUBJECT_ID</th>\n",
       "      <th>ICD9_CODE</th>\n",
       "      <th>SHORT_TITLE</th>\n",
       "    </tr>\n",
       "  </thead>\n",
       "  <tbody>\n",
       "    <tr>\n",
       "      <th>0</th>\n",
       "      <td>109</td>\n",
       "      <td>40301</td>\n",
       "      <td>Mal hyp kid w cr kid V</td>\n",
       "    </tr>\n",
       "    <tr>\n",
       "      <th>29</th>\n",
       "      <td>384</td>\n",
       "      <td>40301</td>\n",
       "      <td>Mal hyp kid w cr kid V</td>\n",
       "    </tr>\n",
       "    <tr>\n",
       "      <th>31</th>\n",
       "      <td>518</td>\n",
       "      <td>40301</td>\n",
       "      <td>Mal hyp kid w cr kid V</td>\n",
       "    </tr>\n",
       "    <tr>\n",
       "      <th>34</th>\n",
       "      <td>948</td>\n",
       "      <td>40301</td>\n",
       "      <td>Mal hyp kid w cr kid V</td>\n",
       "    </tr>\n",
       "    <tr>\n",
       "      <th>35</th>\n",
       "      <td>1195</td>\n",
       "      <td>40301</td>\n",
       "      <td>Mal hyp kid w cr kid V</td>\n",
       "    </tr>\n",
       "  </tbody>\n",
       "</table>\n",
       "</div>"
      ],
      "text/plain": [
       "    SUBJECT_ID ICD9_CODE             SHORT_TITLE\n",
       "0          109     40301  Mal hyp kid w cr kid V\n",
       "29         384     40301  Mal hyp kid w cr kid V\n",
       "31         518     40301  Mal hyp kid w cr kid V\n",
       "34         948     40301  Mal hyp kid w cr kid V\n",
       "35        1195     40301  Mal hyp kid w cr kid V"
      ]
     },
     "execution_count": 6,
     "metadata": {},
     "output_type": "execute_result"
    }
   ],
   "source": [
    "## dianosis dataframe with diagnosis name\n",
    "diagnosis = aa.read_data('DIAGNOSES_ICD',pre='/data/MIMIC3')\n",
    "diagnosis = diagnosis[['SUBJECT_ID','ICD9_CODE']]\n",
    "diagnosis_code = aa.read_data('D_ICD_DIAGNOSES',pre='/data/MIMIC3')\n",
    "diagnosis_code = diagnosis_code[['ICD9_CODE','SHORT_TITLE']]\n",
    "diagnosis_name = aa.inner_join(diagnosis,diagnosis_code,'ICD9_CODE')\n",
    "diagnosis_name = diagnosis_name.drop_duplicates()\n",
    "diagnosis_name.head()"
   ]
  },
  {
   "cell_type": "code",
   "execution_count": null,
   "metadata": {},
   "outputs": [],
   "source": [
    "sider_pres_diag = aa.inner_join(sider_pres,diagnosis_name,'ICD9_CODE')\n",
    "sider_pres_diag.head()"
   ]
  },
  {
   "cell_type": "code",
   "execution_count": null,
   "metadata": {},
   "outputs": [],
   "source": []
  }
 ],
 "metadata": {
  "kernelspec": {
   "display_name": "Python 3",
   "language": "python",
   "name": "python3"
  },
  "language_info": {
   "codemirror_mode": {
    "name": "ipython",
    "version": 3
   },
   "file_extension": ".py",
   "mimetype": "text/x-python",
   "name": "python",
   "nbconvert_exporter": "python",
   "pygments_lexer": "ipython3",
   "version": "3.7.1"
  },
  "toc": {
   "base_numbering": 1,
   "nav_menu": {},
   "number_sections": true,
   "sideBar": true,
   "skip_h1_title": false,
   "title_cell": "Table of Contents",
   "title_sidebar": "Contents",
   "toc_cell": false,
   "toc_position": {
    "height": "calc(100% - 180px)",
    "left": "10px",
    "top": "150px",
    "width": "256px"
   },
   "toc_section_display": true,
   "toc_window_display": true
  }
 },
 "nbformat": 4,
 "nbformat_minor": 2
}
