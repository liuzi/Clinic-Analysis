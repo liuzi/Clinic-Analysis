{
 "cells": [
  {
   "cell_type": "code",
   "execution_count": 1,
   "metadata": {},
   "outputs": [],
   "source": [
    "'''\n",
    "Set path to the folder of used python files\n",
    "'''\n",
    "import sys\n",
    "sys.path.insert(0, '/Users/lynnjiang/liuGit/Pybook/Clinic-Analysis/Scripts/Data_Cleaning')\n",
    "from Abstract import Abstract"
   ]
  },
  {
   "cell_type": "code",
   "execution_count": null,
   "metadata": {},
   "outputs": [],
   "source": [
    "import re\n",
    "import numpy as np\n",
    "import pandas as pd\n",
    "class Prescriptions(Abstract):\n",
    "    def __init__(self):\n",
    "        super().__init__()\n",
    "\n",
    "    def dosage_value(self, s):\n",
    "        try:\n",
    "            return float(s)\n",
    "        except ValueError:\n",
    "            return 0.0\n",
    "\n",
    "    def read_prescriptions_data(self, prescriptions_file='PRESCRIPTIONS'):\n",
    "        columns = ['SUBJECT_ID','DRUG','DOSE_VAL_RX','ENDDATE','STARTDATE']\n",
    "        digit = re.compile('[^\\d-]')\n",
    "\n",
    "        prescriptions_df = self.read_data(prescriptions_file)\n",
    "        pres_clean_df = prescriptions_df[columns].dropna(subset=['DOSE_VAL_RX'])\n",
    "\n",
    "        ## Regularize value in ['DOSE_VAL_RX'] to numeric type, e.g. (300-600)->450\n",
    "        pres_clean_df.DOSE_VAL_RX = pres_clean_df.DOSE_VAL_RX.apply(lambda x: np.average(list(map(self.dosage_value,digit.sub('',str(x)).split('-')))))\n",
    "\n",
    "        return pres_clean_df\n",
    "    \n",
    "    def get_statistics(self,pres_df):\n",
    "        return 0 \n",
    "        \n",
    "\n",
    "    def to_attributes(self, pres_df):\n",
    "        ## Get period for patient taking a medicine in each record (ENDDATE-STARTDATE+1) (/day)\n",
    "        enddate, startdate, period, ave_value = 'ENDDATE', 'STARTDATE', 'PERIOD', 'AVG_DOSE_VAL_RX'\n",
    "        pres_df[enddate] = pd.to_datetime(pres_df[enddate])\n",
    "        pres_df[startdate] = pd.to_datetime(pres_df[startdate])\n",
    "        pres_df[period] = (pres_df[enddate] - pres_df[startdate]).dt.days + 1\n",
    "\n",
    "#         ## Get average dosage for each patient taking each kind of drug\n",
    "#         pres_sum_df = pres_df.groupby(['SUBJECT_ID','DRUG'])['DOSE_VAL_RX','PERIOD'].sum().reset_index()\n",
    "#         pres_sum_df['AVG_DOSE_VAL_RX'] = round(pres_sum_df['DOSE_VAL_RX']/pres_sum_df['PERIOD'],6)\n",
    "\n",
    "#         ## Transform dataframe to matrix (USER*DRUG)\n",
    "#         user_prescription_vector = pd.pivot_table(pres_sum_df, index=['SUBJECT_ID'], columns=['DRUG'],\\\n",
    "#                                                   values=['AVG_DOSE_VAL_RX'])\n",
    "#         ## Imputation: with 0\n",
    "#         user_final_presvec= user_prescription_vector.fillna(0)\n",
    "#         ## TODO: reset_index has some problems, the title is contained as a row\n",
    "#         user_final_presvec = user_final_presvec.reset_index()\n",
    "#         user_final_presvec.columns = user_final_presvec.columns.droplevel(-1)\n",
    "\n",
    "        return pres_df\n",
    "\n",
    "\n",
    "        ## Create binary value for diagnoses\n",
    "        pres_clean_d['VALUE'] = 1\n",
    "        user_pres_vec = pd.pivot_table(pres_clean_df, index=['SUBJECT_ID'], columns=['ICD9_CODE'],\\\n",
    "                                       values=['VALUE']).fillna(0)\n",
    "        user_diag_vec = user_diag_vec.reset_index()\n",
    "        self.write2file(user_diag_vec,'USER_VECTORS/diagnoses_uservectors')\n"
   ]
  },
  {
   "cell_type": "markdown",
   "metadata": {},
   "source": [
    "## Get counts, max, min"
   ]
  },
  {
   "cell_type": "code",
   "execution_count": null,
   "metadata": {},
   "outputs": [],
   "source": [
    "pp = Prescriptions()\n",
    "pres_df = pp.read_prescriptions_data()\n",
    "pres_df.head()"
   ]
  },
  {
   "cell_type": "code",
   "execution_count": null,
   "metadata": {},
   "outputs": [],
   "source": [
    "stc_ls = ['min','max', 'mean','count']\n",
    "pres_agg_df = pres_df.groupby(['SUBJECT_ID','DRUG'])['DOSE_VAL_RX'].agg(stc_ls)\n",
    "pres_agg_df.head()"
   ]
  },
  {
   "cell_type": "code",
   "execution_count": null,
   "metadata": {},
   "outputs": [],
   "source": [
    "# pres_agg_df['count'].max()\n",
    "pres_agg_df=pres_agg_df.reset_index()\n",
    "pres_vec = pres_agg_df.pivot(index='SUBJECT_ID', columns='DRUG')\n",
    "pres_vec.head()"
   ]
  },
  {
   "cell_type": "code",
   "execution_count": null,
   "metadata": {},
   "outputs": [],
   "source": [
    "pres_vec.reset_index()\n",
    "pres_vec.columns = pres_vec.columns.droplevel(0)\n",
    "pres_vec=pres_vec.fillna(0)\n",
    "pres_vec.head()"
   ]
  },
  {
   "cell_type": "code",
   "execution_count": 2,
   "metadata": {},
   "outputs": [],
   "source": [
    "pp= Abstract()\n",
    "test = pp.read_data('temp/USER_VECTORS/prescriptions_uservectors')"
   ]
  },
  {
   "cell_type": "code",
   "execution_count": 4,
   "metadata": {},
   "outputs": [
    {
     "data": {
      "text/plain": [
       "(39363, 17937)"
      ]
     },
     "execution_count": 4,
     "metadata": {},
     "output_type": "execute_result"
    }
   ],
   "source": [
    "test.shape"
   ]
  },
  {
   "cell_type": "markdown",
   "metadata": {},
   "source": [
    "## Following are drafts"
   ]
  },
  {
   "cell_type": "code",
   "execution_count": null,
   "metadata": {},
   "outputs": [],
   "source": [
    "pp = Prescriptions()\n",
    "user_list = pp.read_data('PATIENTS')['SUBJECT_ID']\n",
    "pres_df = pp.to_attributes(pp.read_prescriptions_data(user_list))\n",
    "# pp.write2file(user_vectors,'prestest_uservectors')"
   ]
  },
  {
   "cell_type": "code",
   "execution_count": null,
   "metadata": {},
   "outputs": [],
   "source": [
    "pres_df[:20]"
   ]
  },
  {
   "cell_type": "code",
   "execution_count": null,
   "metadata": {},
   "outputs": [],
   "source": [
    "pp.read_data('PRESCRIPTIONS')[:20]"
   ]
  },
  {
   "cell_type": "code",
   "execution_count": null,
   "metadata": {},
   "outputs": [],
   "source": [
    "pres_df.groupby(['SUBJECT_ID','DRUG'])['DOSE_VAL_RX'].rolling(window=365, freq='D',min_periods=1).mean"
   ]
  },
  {
   "cell_type": "code",
   "execution_count": null,
   "metadata": {},
   "outputs": [],
   "source": []
  }
 ],
 "metadata": {
  "kernelspec": {
   "display_name": "Python 3",
   "language": "python",
   "name": "python3"
  },
  "language_info": {
   "codemirror_mode": {
    "name": "ipython",
    "version": 3
   },
   "file_extension": ".py",
   "mimetype": "text/x-python",
   "name": "python",
   "nbconvert_exporter": "python",
   "pygments_lexer": "ipython3",
   "version": "3.6.5"
  },
  "toc": {
   "base_numbering": 1,
   "nav_menu": {},
   "number_sections": true,
   "sideBar": true,
   "skip_h1_title": false,
   "title_cell": "Table of Contents",
   "title_sidebar": "Contents",
   "toc_cell": false,
   "toc_position": {},
   "toc_section_display": true,
   "toc_window_display": false
  }
 },
 "nbformat": 4,
 "nbformat_minor": 2
}
